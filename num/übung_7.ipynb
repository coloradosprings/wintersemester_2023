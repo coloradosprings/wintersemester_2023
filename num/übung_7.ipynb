{
 "cells": [
  {
   "cell_type": "code",
   "execution_count": 1,
   "metadata": {},
   "outputs": [
    {
     "data": {
      "text/plain": [
       "'[[9,-6],[12,-8],[0,20]]'"
      ]
     },
     "execution_count": 1,
     "metadata": {},
     "output_type": "execute_result"
    }
   ],
   "source": [
    "B = \"\"\"9 −6\n",
    "12 −8\n",
    "0 20\"\"\"\n",
    "from to_m import str_to_m\n",
    "str_to_m(B)"
   ]
  },
  {
   "cell_type": "code",
   "execution_count": 3,
   "metadata": {},
   "outputs": [],
   "source": [
    "import numpy as np"
   ]
  },
  {
   "cell_type": "markdown",
   "metadata": {},
   "source": [
    "find QR of [[9,-6],[12,-8],[0,20]]"
   ]
  },
  {
   "cell_type": "code",
   "execution_count": 47,
   "metadata": {},
   "outputs": [],
   "source": [
    "A = np.array([[9,-6],[12,-8],[0,20]])\n",
    "Q = np.linalg.qr(A)[0]\n",
    "R = np.linalg.qr(A)[1]"
   ]
  },
  {
   "cell_type": "code",
   "execution_count": 48,
   "metadata": {},
   "outputs": [],
   "source": [
    "y = [300,2*300,3*300]"
   ]
  },
  {
   "cell_type": "code",
   "execution_count": 49,
   "metadata": {},
   "outputs": [
    {
     "data": {
      "text/plain": [
       "array([74., 45.])"
      ]
     },
     "execution_count": 49,
     "metadata": {},
     "output_type": "execute_result"
    }
   ],
   "source": [
    "p = np.linalg.solve(R,Q.T@y)\n",
    "np.linalg.solve(R,Q.T@y)\n",
    "#löse nach gemäß R*x = Q.T * y "
   ]
  },
  {
   "cell_type": "code",
   "execution_count": 50,
   "metadata": {},
   "outputs": [
    {
     "data": {
      "text/plain": [
       "array([[ 9, -6],\n",
       "       [12, -8],\n",
       "       [ 0, 20]])"
      ]
     },
     "execution_count": 50,
     "metadata": {},
     "output_type": "execute_result"
    }
   ],
   "source": [
    "A"
   ]
  },
  {
   "cell_type": "code",
   "execution_count": 51,
   "metadata": {},
   "outputs": [
    {
     "data": {
      "text/plain": [
       "array([74., 45.])"
      ]
     },
     "execution_count": 51,
     "metadata": {},
     "output_type": "execute_result"
    }
   ],
   "source": [
    "np.linalg.solve(A.T@A,A.T @y)"
   ]
  },
  {
   "cell_type": "code",
   "execution_count": 8,
   "metadata": {},
   "outputs": [],
   "source": [
    "g1 = lambda x:  1/9 *( 6*x + 300)\n",
    "g2 = lambda x: 1/12 * ( 8*x + 600)\n",
    "y = lambda y: 900/20"
   ]
  },
  {
   "cell_type": "code",
   "execution_count": 9,
   "metadata": {},
   "outputs": [
    {
     "data": {
      "text/plain": [
       "396"
      ]
     },
     "execution_count": 9,
     "metadata": {},
     "output_type": "execute_result"
    }
   ],
   "source": [
    "74 * 9 + -6 * 45"
   ]
  },
  {
   "cell_type": "code",
   "execution_count": 10,
   "metadata": {},
   "outputs": [],
   "source": [
    "def g3(x):\n",
    "    return 900/20"
   ]
  },
  {
   "cell_type": "code",
   "execution_count": 11,
   "metadata": {},
   "outputs": [],
   "source": [
    "import matplotlib.pyplot as plt"
   ]
  },
  {
   "cell_type": "code",
   "execution_count": 12,
   "metadata": {},
   "outputs": [],
   "source": [
    "points = np.linspace(-20,80,100)"
   ]
  },
  {
   "cell_type": "code",
   "execution_count": 13,
   "metadata": {},
   "outputs": [],
   "source": [
    "g3 = [900/20 for k in points]"
   ]
  },
  {
   "cell_type": "code",
   "execution_count": 52,
   "metadata": {},
   "outputs": [
    {
     "data": {
      "text/plain": [
       "[<matplotlib.lines.Line2D at 0x2c8234e50a0>]"
      ]
     },
     "execution_count": 52,
     "metadata": {},
     "output_type": "execute_result"
    },
    {
     "data": {
      "image/png": "[encoded data removed]",
      "text/plain": [
       "<Figure size 432x288 with 1 Axes>"
      ]
     },
     "metadata": {
      "needs_background": "light"
     },
     "output_type": "display_data"
    }
   ],
   "source": [
    "fig, axs = plt.subplots()\n",
    "axs.plot(points,g1(points))\n",
    "axs.plot(points,g2(points))\n",
    "axs.plot(g3,points)\n",
    "axs.plot(p[1],p[0],\"bo\")\n"
   ]
  },
  {
   "cell_type": "markdown",
   "metadata": {},
   "source": [
    "find least square solution for Y = aX^3 +b^2 + cX + d .\n"
   ]
  },
  {
   "cell_type": "code",
   "execution_count": 15,
   "metadata": {},
   "outputs": [],
   "source": [
    "# X 0.0 0.5 1.0 1.5 2.0 2.5 \n",
    "# Y 0.0 0.20 0.27 0.30 0.32 0.33"
   ]
  },
  {
   "cell_type": "code",
   "execution_count": 16,
   "metadata": {},
   "outputs": [],
   "source": [
    "import numpy as np"
   ]
  },
  {
   "cell_type": "code",
   "execution_count": 17,
   "metadata": {},
   "outputs": [],
   "source": [
    "def arr(x):\n",
    "    return np.array([x**3,x**2,x,1])"
   ]
  },
  {
   "cell_type": "code",
   "execution_count": 18,
   "metadata": {},
   "outputs": [],
   "source": [
    "y = np.array([0.0 ,0.20 ,0.27 ,0.30 ,0.32 ,0.33])\n",
    "x = np.array([0.0,0.5,1.0,1.5,2.0,2.5])"
   ]
  },
  {
   "cell_type": "code",
   "execution_count": 19,
   "metadata": {},
   "outputs": [
    {
     "data": {
      "text/plain": [
       "array([[ 0.   ,  0.   ,  0.   ,  1.   ],\n",
       "       [ 0.125,  0.25 ,  0.5  ,  1.   ],\n",
       "       [ 1.   ,  1.   ,  1.   ,  1.   ],\n",
       "       [ 3.375,  2.25 ,  1.5  ,  1.   ],\n",
       "       [ 8.   ,  4.   ,  2.   ,  1.   ],\n",
       "       [15.625,  6.25 ,  2.5  ,  1.   ]])"
      ]
     },
     "execution_count": 19,
     "metadata": {},
     "output_type": "execute_result"
    }
   ],
   "source": [
    "A = np.array([arr(m) for m in x])\n",
    "A"
   ]
  },
  {
   "cell_type": "code",
   "execution_count": 20,
   "metadata": {},
   "outputs": [],
   "source": [
    "Q = np.linalg.qr(A)[0]\n",
    "R = np.linalg.qr(A)[1]\n",
    "#QR zerlegung"
   ]
  },
  {
   "cell_type": "code",
   "execution_count": 21,
   "metadata": {},
   "outputs": [
    {
     "data": {
      "text/plain": [
       "array([ 0.05111111, -0.27380952,  0.49698413,  0.00333333])"
      ]
     },
     "execution_count": 21,
     "metadata": {},
     "output_type": "execute_result"
    }
   ],
   "source": [
    "np.linalg.solve(R,Q.T@y)\n",
    "#löse nach R*x = Q.T * y "
   ]
  },
  {
   "cell_type": "code",
   "execution_count": null,
   "metadata": {},
   "outputs": [],
   "source": []
  },
  {
   "cell_type": "markdown",
   "metadata": {},
   "source": [
    "last"
   ]
  },
  {
   "cell_type": "code",
   "execution_count": 22,
   "metadata": {},
   "outputs": [],
   "source": [
    "from sympy import *"
   ]
  },
  {
   "cell_type": "code",
   "execution_count": 23,
   "metadata": {},
   "outputs": [],
   "source": [
    "A = (np.array([[2j,-1j],[-1j,2j]]))"
   ]
  },
  {
   "cell_type": "code",
   "execution_count": 24,
   "metadata": {},
   "outputs": [
    {
     "data": {
      "text/plain": [
       "array([[ 0.+2.j, -0.-1.j],\n",
       "       [-0.-1.j,  0.+2.j]])"
      ]
     },
     "execution_count": 24,
     "metadata": {},
     "output_type": "execute_result"
    }
   ],
   "source": [
    "A"
   ]
  },
  {
   "cell_type": "code",
   "execution_count": 25,
   "metadata": {},
   "outputs": [
    {
     "data": {
      "text/plain": [
       "array([0.00000000e+00+3.j, 1.66533454e-16+1.j])"
      ]
     },
     "execution_count": 25,
     "metadata": {},
     "output_type": "execute_result"
    }
   ],
   "source": [
    "np.linalg.eigvals(A)"
   ]
  },
  {
   "cell_type": "markdown",
   "metadata": {},
   "source": [
    "gerschgorin"
   ]
  },
  {
   "cell_type": "code",
   "execution_count": null,
   "metadata": {},
   "outputs": [],
   "source": []
  },
  {
   "cell_type": "code",
   "execution_count": 26,
   "metadata": {},
   "outputs": [],
   "source": [
    "j = symbols(\"j\")"
   ]
  },
  {
   "cell_type": "code",
   "execution_count": 27,
   "metadata": {},
   "outputs": [],
   "source": [
    "z = (j-1)\n",
    "v = (j-4)"
   ]
  },
  {
   "cell_type": "code",
   "execution_count": 28,
   "metadata": {},
   "outputs": [],
   "source": [
    "def r(y):\n",
    "    z = (y-1)\n",
    "    v = (y-4)\n",
    "    return -v/z + sqrt((v**2 + 8*z**2)).evalf()/2*z\n",
    "def r_2(y):\n",
    "    return (-2 + sqrt((1+y*(2*y +1) )) ).evalf()/ y\n",
    "    return -(2*y + 1)/(y**2 - 2)"
   ]
  },
  {
   "cell_type": "code",
   "execution_count": 29,
   "metadata": {},
   "outputs": [
    {
     "name": "stdout",
     "output_type": "stream",
     "text": [
      "3.73205080756888\n",
      "gn 9.46410161513775\n",
      "gn_1 0.803847577293368\n",
      "6.24456264653803\n",
      "gn 20.7336879396141\n",
      "gn_1 0.800696587257714\n",
      "12.7279220613579\n",
      "gn 52.9116882454314\n",
      "gn_1 0.549971940922870\n",
      "22.4656333832011\n",
      "gn 114.328166916005\n",
      "gn_1 0.400611896690607\n",
      "35.3071421427143\n",
      "gn 213.842852856286\n",
      "gn_1 0.311551695561684\n",
      "51.2010638188423\n",
      "gn 360.407446731896\n",
      "gn_1 0.253900974518735\n",
      "70.1251059971060\n",
      "gn 563.000847976848\n",
      "gn_1 0.213903419990824\n",
      "92.0680418100517\n",
      "gn 830.612376290466\n",
      "gn_1 0.184646047268749\n",
      "117.023604808932\n",
      "gn 1172.23604808932\n",
      "gn_1 0.162360406099453\n",
      "144.988022843335\n",
      "gn 1596.86825127668\n",
      "gn_1 0.144839550110228\n",
      "175.958889719026\n",
      "gn 2113.50667662832\n",
      "gn_1 0.130712350121819\n",
      "209.934598392953\n",
      "gn 2731.14977910839\n",
      "gn_1 0.119084706338901\n",
      "246.914034713119\n",
      "gn 3458.79648598366\n",
      "gn_1 0.109349798732058\n",
      "286.896401946769\n",
      "gn 4305.44602920153\n",
      "gn_1 0.101081783540041\n",
      "329.881115275729\n",
      "gn 5280.09784441166\n",
      "gn_1 0.0939732484355427\n",
      "375.867735743794\n",
      "gn 6391.75150764449\n",
      "gn_1 0.0877968414466255\n",
      "424.855927456898\n",
      "gn 7649.40669422417\n",
      "gn_1 0.0823808678144210\n",
      "476.845429016428\n",
      "gn 9062.06315131214\n",
      "gn_1 0.0775932781327454\n"
     ]
    }
   ],
   "source": [
    "for k in range(2,20):\n",
    "    print(r(k))\n",
    "    print(\"gn\",k*r(k) +2)\n",
    "    print(\"gn_1\",k/r(k)+ (k -1)/r(k))"
   ]
  },
  {
   "cell_type": "code",
   "execution_count": 30,
   "metadata": {},
   "outputs": [
    {
     "ename": "NameError",
     "evalue": "name 'l' is not defined",
     "output_type": "error",
     "traceback": [
      "\u001b[1;31m---------------------------------------------------------------------------\u001b[0m",
      "\u001b[1;31mNameError\u001b[0m                                 Traceback (most recent call last)",
      "\u001b[1;32md:\\share\\num\\übung_7.ipynb Cell 35\u001b[0m line \u001b[0;36m<cell line: 1>\u001b[1;34m()\u001b[0m\n\u001b[0;32m      <a href='vscode-notebook-cell:/d%3A/share/num/%C3%BCbung_7.ipynb#X45sZmlsZQ%3D%3D?line=0'>1</a>\u001b[0m \u001b[39mfor\u001b[39;00m k \u001b[39min\u001b[39;00m \u001b[39mrange\u001b[39m(\u001b[39m2\u001b[39m,\u001b[39m20\u001b[39m):\n\u001b[1;32m----> <a href='vscode-notebook-cell:/d%3A/share/num/%C3%BCbung_7.ipynb#X45sZmlsZQ%3D%3D?line=2'>3</a>\u001b[0m     \u001b[39mprint\u001b[39m((k\u001b[39m/\u001b[39ml \u001b[39m+\u001b[39m (k \u001b[39m-\u001b[39m\u001b[39m1\u001b[39m)\u001b[39m/\u001b[39ml \u001b[39m-\u001b[39m (k\u001b[39m*\u001b[39ml \u001b[39m+\u001b[39m \u001b[39m2\u001b[39m) ))\n\u001b[0;32m      <a href='vscode-notebook-cell:/d%3A/share/num/%C3%BCbung_7.ipynb#X45sZmlsZQ%3D%3D?line=3'>4</a>\u001b[0m     \u001b[39mprint\u001b[39m(\u001b[39m\"\u001b[39m\u001b[39mgn\u001b[39m\u001b[39m\"\u001b[39m,k\u001b[39m*\u001b[39ml \u001b[39m-\u001b[39m \u001b[39m2\u001b[39m)\n\u001b[0;32m      <a href='vscode-notebook-cell:/d%3A/share/num/%C3%BCbung_7.ipynb#X45sZmlsZQ%3D%3D?line=4'>5</a>\u001b[0m     \u001b[39mprint\u001b[39m(\u001b[39m\"\u001b[39m\u001b[39mgn_1\u001b[39m\u001b[39m\"\u001b[39m,k\u001b[39m/\u001b[39ml\u001b[39m+\u001b[39m (k \u001b[39m-\u001b[39m\u001b[39m1\u001b[39m)\u001b[39m/\u001b[39ml)\n",
      "\u001b[1;31mNameError\u001b[0m: name 'l' is not defined"
     ]
    }
   ],
   "source": [
    "for k in range(2,20):\n",
    "    \n",
    "    print((k/l + (k -1)/l - (k*l + 2) ))\n",
    "    print(\"gn\",k*l - 2)\n",
    "    print(\"gn_1\",k/l+ (k -1)/l)"
   ]
  },
  {
   "cell_type": "markdown",
   "metadata": {},
   "source": [
    "Übung 2\n"
   ]
  },
  {
   "cell_type": "code",
   "execution_count": null,
   "metadata": {},
   "outputs": [
    {
     "data": {
      "text/plain": [
       "'[[7.3,7.0,10.4,10.1,13.7,15.3,16.6,18.7]]'"
      ]
     },
     "execution_count": 199,
     "metadata": {},
     "output_type": "execute_result"
    }
   ],
   "source": [
    "str_to_m(\"7.3 7.0 10.4 10.1 13.7 15.3 16.6 18.7\")"
   ]
  },
  {
   "cell_type": "code",
   "execution_count": null,
   "metadata": {},
   "outputs": [],
   "source": [
    "t = np.linspace(1,8,8)\n"
   ]
  },
  {
   "cell_type": "code",
   "execution_count": null,
   "metadata": {},
   "outputs": [],
   "source": [
    "\n",
    "X = np.array([7.3,7.0,10.4,10.1,13.7,15.3,16.6,18.7])\n"
   ]
  },
  {
   "cell_type": "markdown",
   "metadata": {},
   "source": [
    "x is  scalar"
   ]
  },
  {
   "cell_type": "code",
   "execution_count": null,
   "metadata": {},
   "outputs": [
    {
     "data": {
      "text/plain": [
       "2.5441176470588234"
      ]
     },
     "execution_count": 283,
     "metadata": {},
     "output_type": "execute_result"
    }
   ],
   "source": [
    " k = (t.T @ X )/ (t.T@t)\n",
    " k"
   ]
  },
  {
   "cell_type": "code",
   "execution_count": null,
   "metadata": {},
   "outputs": [
    {
     "data": {
      "text/plain": [
       "8"
      ]
     },
     "execution_count": 300,
     "metadata": {},
     "output_type": "execute_result"
    }
   ],
   "source": [
    "len(v)"
   ]
  },
  {
   "cell_type": "code",
   "execution_count": null,
   "metadata": {},
   "outputs": [
    {
     "data": {
      "text/latex": [
       "$\\displaystyle 6.25243481984983$"
      ],
      "text/plain": [
       "6.25243481984983"
      ]
     },
     "execution_count": 299,
     "metadata": {},
     "output_type": "execute_result"
    }
   ],
   "source": [
    "sum = 0\n",
    "for j in range(0,len(v)):\n",
    "    sum += (v.T[0][j] - k * t[j])**2\n",
    "sqrt(sum)"
   ]
  },
  {
   "cell_type": "code",
   "execution_count": null,
   "metadata": {},
   "outputs": [],
   "source": [
    "A = np.array([t,np.ones(8)])\n",
    "A = A.T"
   ]
  },
  {
   "cell_type": "code",
   "execution_count": null,
   "metadata": {},
   "outputs": [
    {
     "data": {
      "text/plain": [
       "array([[204.,  36.],\n",
       "       [ 36.,   8.]])"
      ]
     },
     "execution_count": 270,
     "metadata": {},
     "output_type": "execute_result"
    }
   ],
   "source": [
    "A.T @ A"
   ]
  },
  {
   "cell_type": "code",
   "execution_count": null,
   "metadata": {},
   "outputs": [
    {
     "data": {
      "text/plain": [
       "(8, 1)"
      ]
     },
     "execution_count": 278,
     "metadata": {},
     "output_type": "execute_result"
    }
   ],
   "source": [
    "v = v.T\n",
    "v.shape"
   ]
  },
  {
   "cell_type": "code",
   "execution_count": null,
   "metadata": {},
   "outputs": [
    {
     "data": {
      "text/plain": [
       "array([[519. ],\n",
       "       [ 99.1]])"
      ]
     },
     "execution_count": 280,
     "metadata": {},
     "output_type": "execute_result"
    }
   ],
   "source": [
    "A.T@v"
   ]
  },
  {
   "cell_type": "code",
   "execution_count": null,
   "metadata": {},
   "outputs": [
    {
     "data": {
      "text/plain": [
       "array([[1.73928571],\n",
       "       [4.56071429]])"
      ]
     },
     "execution_count": 284,
     "metadata": {},
     "output_type": "execute_result"
    }
   ],
   "source": [
    "#normalengleichungen\n",
    "b = np.linalg.solve(A.T @ A,A.T @ v)\n",
    "b"
   ]
  },
  {
   "cell_type": "code",
   "execution_count": null,
   "metadata": {},
   "outputs": [
    {
     "data": {
      "text/plain": [
       "[<matplotlib.lines.Line2D at 0x269cc9a83a0>]"
      ]
     },
     "execution_count": 286,
     "metadata": {},
     "output_type": "execute_result"
    },
    {
     "data": {
      "image/png": "[encoded data removed]",
      "text/plain": [
       "<Figure size 432x288 with 1 Axes>"
      ]
     },
     "metadata": {
      "needs_background": "light"
     },
     "output_type": "display_data"
    }
   ],
   "source": [
    "fig, axs = plt.subplots()\n",
    "axs.plot(points,points * k )\n",
    "axs.plot(points,points * b[0] + b[1])\n",
    "\n"
   ]
  }
 ],
 "metadata": {
  "kernelspec": {
   "display_name": "Python 3",
   "language": "python",
   "name": "python3"
  },
  "language_info": {
   "codemirror_mode": {
    "name": "ipython",
    "version": 3
   },
   "file_extension": ".py",
   "mimetype": "text/x-python",
   "name": "python",
   "nbconvert_exporter": "python",
   "pygments_lexer": "ipython3",
   "version": "3.9.12"
  }
 },
 "nbformat": 4,
 "nbformat_minor": 2
}
