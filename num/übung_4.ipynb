{
 "cells": [
  {
   "cell_type": "code",
   "execution_count": 2,
   "metadata": {},
   "outputs": [],
   "source": [
    "import numpy as np\n",
    "U =    np.array(\n",
    "    [[1,2,6,-1],\n",
    "    [0,3,1,0],\n",
    "    [0,0,4,-1],\n",
    "    [0,0,0,2] ])\n",
    "\n",
    "b = np.array([-1,-3,-2,4]\n",
    "\n",
    "\n",
    " )\n"
   ]
  },
  {
   "cell_type": "markdown",
   "metadata": {},
   "source": [
    "<img src=\"lu.png\"><img>"
   ]
  },
  {
   "cell_type": "code",
   "execution_count": 51,
   "metadata": {},
   "outputs": [],
   "source": [
    "def back_substituion(A,b):\n",
    "    dim_x = b.size\n",
    "    n = int(np.sqrt(U.size))\n",
    "    x = np.zeros(dim_x)\n",
    "    assert(dim_x == n)\n",
    "    for k in range(n,0,-1):\n",
    "        k -= 1\n",
    "        sum = 0\n",
    "        # print(k)\n",
    "        for j in range(k+1,n):\n",
    "            sum += A[k][j]*x[j]\n",
    "        x[k] =  (b[k]-sum)/ A[k][k]\n",
    "    return x\n",
    "        \n",
    "        "
   ]
  },
  {
   "cell_type": "code",
   "execution_count": 53,
   "metadata": {},
   "outputs": [
    {
     "name": "stdout",
     "output_type": "stream",
     "text": [
      "3\n",
      "2\n",
      "3\n",
      "1\n",
      "2\n",
      "3\n"
     ]
    },
    {
     "data": {
      "text/plain": [
       "array([ 3., -1.,  0.,  2.])"
      ]
     },
     "execution_count": 53,
     "metadata": {},
     "output_type": "execute_result"
    }
   ],
   "source": [
    "back_substituion(U,b)"
   ]
  },
  {
   "cell_type": "code",
   "execution_count": 31,
   "metadata": {},
   "outputs": [
    {
     "data": {
      "text/plain": [
       "array([ 3., -1.,  0.,  2.])"
      ]
     },
     "execution_count": 31,
     "metadata": {},
     "output_type": "execute_result"
    }
   ],
   "source": [
    "np.linalg.solve(U,b)"
   ]
  },
  {
   "cell_type": "code",
   "execution_count": 52,
   "metadata": {},
   "outputs": [
    {
     "data": {
      "text/plain": [
       "[4, 3, 2, 1]"
      ]
     },
     "execution_count": 52,
     "metadata": {},
     "output_type": "execute_result"
    }
   ],
   "source": [
    "[k for k in range(4,0,-1)]\n"
   ]
  },
  {
   "cell_type": "code",
   "execution_count": null,
   "metadata": {},
   "outputs": [],
   "source": []
  },
  {
   "cell_type": "markdown",
   "metadata": {},
   "source": [
    "![Alt text](image.png)"
   ]
  },
  {
   "cell_type": "code",
   "execution_count": 123,
   "metadata": {},
   "outputs": [],
   "source": [
    "def lu(A):\n",
    "    n = np.sqrt(np.size(A))\n",
    "    n = int(n)\n",
    "    L = np.identity(n)\n",
    "    U = np.zeros((n,n))\n",
    "    for i in range(0,n):\n",
    "        for j in range(0,n):\n",
    "            if j < i:\n",
    "                sum = 0\n",
    "                if U[j][j] < 10**(-8): raise ValueError(\"ZeroDivisionError\")\n",
    "                for k in range(0,j):\n",
    "                    sum += L[i][k] * U[k][j]\n",
    "                L[i][j] = 1/U[j][j]*(A[i][j] - sum)\n",
    "            else:\n",
    "                sum2 = 0\n",
    "                for k in range(0,i):\n",
    "                    sum2 += L[i][k]*U[k][j]\n",
    "                U[i][j] = A[i][j] -sum2\n",
    "\n",
    "    return(L,U)\n",
    "    "
   ]
  },
  {
   "cell_type": "code",
   "execution_count": 124,
   "metadata": {},
   "outputs": [
    {
     "data": {
      "text/plain": [
       "(array([[ 1.        ,  0.        ,  0.        ,  0.        ],\n",
       "        [ 0.33333333,  1.        ,  0.        ,  0.        ],\n",
       "        [ 0.16666667,  0.2       ,  1.        ,  0.        ],\n",
       "        [-0.16666667,  0.1       , -0.24324324,  1.        ]]),\n",
       " array([[ 6.        ,  2.        ,  1.        , -1.        ],\n",
       "        [ 0.        ,  3.33333333,  0.66666667,  0.33333333],\n",
       "        [ 0.        ,  0.        ,  3.7       , -0.9       ],\n",
       "        [ 0.        ,  0.        ,  0.        ,  2.58108108]]))"
      ]
     },
     "execution_count": 124,
     "metadata": {},
     "output_type": "execute_result"
    }
   ],
   "source": [
    "A = [[6,2,1,-1],[2,4,1,0],[1,1,4,-1],[-1,0,-1,3]]\n",
    "lu(A)"
   ]
  },
  {
   "cell_type": "code",
   "execution_count": 101,
   "metadata": {},
   "outputs": [
    {
     "data": {
      "text/plain": [
       "array([[ 6.,  2.,  1., -1.],\n",
       "       [ 2.,  4.,  1.,  0.],\n",
       "       [ 1.,  1.,  4., -1.],\n",
       "       [-1.,  0., -1.,  3.]])"
      ]
     },
     "execution_count": 101,
     "metadata": {},
     "output_type": "execute_result"
    }
   ],
   "source": [
    "(lu(A)[0] @ lu(A)[1]).round()"
   ]
  },
  {
   "cell_type": "code",
   "execution_count": 82,
   "metadata": {},
   "outputs": [
    {
     "data": {
      "text/plain": [
       "array([[1., 0., 0.],\n",
       "       [0., 1., 0.],\n",
       "       [0., 0., 1.]])"
      ]
     },
     "execution_count": 82,
     "metadata": {},
     "output_type": "execute_result"
    }
   ],
   "source": [
    "np.identity(3)"
   ]
  },
  {
   "cell_type": "code",
   "execution_count": 96,
   "metadata": {},
   "outputs": [
    {
     "data": {
      "text/plain": [
       "[0]"
      ]
     },
     "execution_count": 96,
     "metadata": {},
     "output_type": "execute_result"
    }
   ],
   "source": [
    "[k for k in range(0,1)]"
   ]
  },
  {
   "cell_type": "code",
   "execution_count": 68,
   "metadata": {},
   "outputs": [
    {
     "data": {
      "text/plain": [
       "'6,2,1,-1],[2,4,1,0],[1,1,4,-1],[-1,0,-1,3'"
      ]
     },
     "execution_count": 68,
     "metadata": {},
     "output_type": "execute_result"
    }
   ],
   "source": [
    "\"\"\"6 2 1 −1\n",
    "2 4 1 0\n",
    "1 1 4 −1\n",
    "−1 0 −1 3\"\"\".replace(\" \",\",\").replace(\"−\",\"-\").replace(\"\\n\",\"],[\")"
   ]
  },
  {
   "cell_type": "code",
   "execution_count": null,
   "metadata": {},
   "outputs": [],
   "source": [
    "for i in range(0,n):\n",
    "    for j in range(0,n):\n",
    "        if j < i:\n",
    "            sum = 0\n",
    "            for k in range(1,j):\n",
    "                sum += L[i][k] * U[k][j]\n",
    "            L[i][j] = 1/U[i][j]*(A[i][j] - sum)\n",
    "        else:\n",
    "            sum2 = 0\n",
    "            for k in range(1,i):\n",
    "                sum2 += L[i][k]*U[k][j]\n",
    "            U[i][j] = A[i][j] -sum2\n",
    "            "
   ]
  },
  {
   "cell_type": "code",
   "execution_count": 62,
   "metadata": {},
   "outputs": [
    {
     "data": {
      "text/plain": [
       "array([[0., 0., 0.],\n",
       "       [0., 0., 0.],\n",
       "       [0., 0., 0.]])"
      ]
     },
     "execution_count": 62,
     "metadata": {},
     "output_type": "execute_result"
    }
   ],
   "source": [
    "L = np.zeros((3,3))\n",
    "L                                               "
   ]
  },
  {
   "cell_type": "code",
   "execution_count": 65,
   "metadata": {},
   "outputs": [
    {
     "data": {
      "text/plain": [
       "[1]"
      ]
     },
     "execution_count": 65,
     "metadata": {},
     "output_type": "execute_result"
    }
   ],
   "source": [
    "[k for k in range(1,2)]"
   ]
  },
  {
   "cell_type": "code",
   "execution_count": 63,
   "metadata": {},
   "outputs": [
    {
     "ename": "SyntaxError",
     "evalue": "invalid syntax (3789193063.py, line 1)",
     "output_type": "error",
     "traceback": [
      "\u001b[1;36m  Input \u001b[1;32mIn [63]\u001b[1;36m\u001b[0m\n\u001b[1;33m    for (i = 0;i < n;i++) {\u001b[0m\n\u001b[1;37m           ^\u001b[0m\n\u001b[1;31mSyntaxError\u001b[0m\u001b[1;31m:\u001b[0m invalid syntax\n"
     ]
    }
   ],
   "source": [
    "    for (i = 0;i < n;i++) {\n",
    "        for (j = 0;j < m;j++) {\n",
    "            for(k = 0; k < p; k++){\n",
    "                A[i][j][k] = i + j + p;\n",
    "                printf(\"%d,%d,%d, %d\\n\",i,j,k,i+j+k);\n",
    "            }\n",
    "        }\n",
    "    }"
   ]
  },
  {
   "cell_type": "markdown",
   "metadata": {},
   "source": []
  }
 ],
 "metadata": {
  "kernelspec": {
   "display_name": "Python 3",
   "language": "python",
   "name": "python3"
  },
  "language_info": {
   "codemirror_mode": {
    "name": "ipython",
    "version": 3
   },
   "file_extension": ".py",
   "mimetype": "text/x-python",
   "name": "python",
   "nbconvert_exporter": "python",
   "pygments_lexer": "ipython3",
   "version": "3.9.12"
  }
 },
 "nbformat": 4,
 "nbformat_minor": 2
}
