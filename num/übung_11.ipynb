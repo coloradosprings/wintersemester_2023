{
 "cells": [
  {
   "cell_type": "markdown",
   "metadata": {},
   "source": [
    "[Newton-Cotes vs. Gauss Quadrature] "
   ]
  },
  {
   "cell_type": "code",
   "execution_count": 1,
   "metadata": {},
   "outputs": [],
   "source": [
    "from sympy import *"
   ]
  },
  {
   "cell_type": "code",
   "execution_count": 2,
   "metadata": {},
   "outputs": [],
   "source": [
    "t = Symbol(\"t\")"
   ]
  },
  {
   "cell_type": "code",
   "execution_count": null,
   "metadata": {},
   "outputs": [],
   "source": [
    "# {1, x − 1/2, x2 − x + 1/6}"
   ]
  },
  {
   "cell_type": "code",
   "execution_count": 24,
   "metadata": {},
   "outputs": [],
   "source": [
    "onb = [1,t-1/2,t**2 - t + 1/6]"
   ]
  },
  {
   "cell_type": "code",
   "execution_count": 25,
   "metadata": {},
   "outputs": [
    {
     "data": {
      "text/latex": [
       "$\\displaystyle \\frac{3}{40}$"
      ],
      "text/plain": [
       "3/40"
      ]
     },
     "execution_count": 25,
     "metadata": {},
     "output_type": "execute_result"
    }
   ],
   "source": [
    "integrate(t**3 * onb [1],(t,0,1)).nsimplify()"
   ]
  },
  {
   "cell_type": "code",
   "execution_count": 26,
   "metadata": {},
   "outputs": [],
   "source": [
    "def phi(k):\n",
    "    return integrate(t**3 * onb [k],(t,0,1)).nsimplify() / integrate(onb [k] * onb [k],(t,0,1)).nsimplify()"
   ]
  },
  {
   "cell_type": "code",
   "execution_count": 27,
   "metadata": {},
   "outputs": [],
   "source": [
    "p_n = t**3 - phi(0)* onb[0] - phi(1)* onb[1] - phi(2)* onb[2]"
   ]
  },
  {
   "cell_type": "code",
   "execution_count": 46,
   "metadata": {},
   "outputs": [
    {
     "data": {
      "text/plain": [
       "[0.5, 0.5 - sqrt(15)/10, sqrt(15)/10 + 0.5]"
      ]
     },
     "execution_count": 46,
     "metadata": {},
     "output_type": "execute_result"
    }
   ],
   "source": [
    "zeros = [1/2,1/2 - sqrt(3/20).nsimplify(),1/2 + sqrt(3/20).nsimplify()]\n",
    "zeros"
   ]
  },
  {
   "cell_type": "code",
   "execution_count": 47,
   "metadata": {},
   "outputs": [
    {
     "data": {
      "text/latex": [
       "$\\displaystyle \\frac{10 \\left(t - 0.5\\right) \\left(t - 0.5 - \\frac{\\sqrt{15}}{10}\\right)}{3}$"
      ],
      "text/plain": [
       "10*(t - 0.5)*(t - 0.5 - sqrt(15)/10)/3"
      ]
     },
     "execution_count": 47,
     "metadata": {},
     "output_type": "execute_result"
    }
   ],
   "source": [
    "def Lagrange(arr,k):\n",
    "    x_i = arr[k]\n",
    "    def lk(x):\n",
    "        L = 1\n",
    "        for xk in arr:\n",
    "            if xk == x_i:\n",
    "                0\n",
    "            else:\n",
    "            \n",
    "                L *= (x - xk)/(x_i - xk)\n",
    "        return L\n",
    "    return lk\n",
    "\n",
    "Lagrange(zeros,1)(t)\n"
   ]
  },
  {
   "cell_type": "code",
   "execution_count": 49,
   "metadata": {},
   "outputs": [
    {
     "data": {
      "text/latex": [
       "$\\displaystyle - \\frac{\\left(t - 0.5\\right) \\left(- 10 t + \\sqrt{15} + 5.0\\right)}{3}$"
      ],
      "text/plain": [
       "-(t - 0.5)*(-10*t + sqrt(15) + 5.0)/3"
      ]
     },
     "execution_count": 49,
     "metadata": {},
     "output_type": "execute_result"
    }
   ],
   "source": [
    "L_1 = Lagrange(zeros,1)(t)\n",
    "L_1.simplify()"
   ]
  },
  {
   "cell_type": "code",
   "execution_count": 55,
   "metadata": {},
   "outputs": [],
   "source": [
    "#calculate w1"
   ]
  },
  {
   "cell_type": "code",
   "execution_count": 56,
   "metadata": {},
   "outputs": [],
   "source": [
    "W_1 = integrate((L_1**2).nsimplify(),(t,0,1))"
   ]
  },
  {
   "cell_type": "code",
   "execution_count": 57,
   "metadata": {},
   "outputs": [
    {
     "data": {
      "text/latex": [
       "$\\displaystyle \\frac{5}{18}$"
      ],
      "text/plain": [
       "5/18"
      ]
     },
     "execution_count": 57,
     "metadata": {},
     "output_type": "execute_result"
    }
   ],
   "source": [
    "W_1 # W_0 W_2 ähnlichsimilar"
   ]
  },
  {
   "cell_type": "code",
   "execution_count": 60,
   "metadata": {},
   "outputs": [],
   "source": [
    "W = []\n",
    "for k in range(0,3):\n",
    "    L = Lagrange(zeros,k)(t)\n",
    "    W.append ( integrate((L**2).nsimplify(),(t,0,1)) )"
   ]
  },
  {
   "cell_type": "code",
   "execution_count": 61,
   "metadata": {},
   "outputs": [
    {
     "data": {
      "text/plain": [
       "[4/9, 5/18, 5/18]"
      ]
     },
     "execution_count": 61,
     "metadata": {},
     "output_type": "execute_result"
    }
   ],
   "source": [
    "W"
   ]
  },
  {
   "cell_type": "markdown",
   "metadata": {},
   "source": [
    "calculate simpson and gauss quadratur x**k"
   ]
  },
  {
   "cell_type": "code",
   "execution_count": 83,
   "metadata": {},
   "outputs": [],
   "source": [
    "error1 = []\n",
    "error2 = []\n",
    "for i in range(8):\n",
    "    sol = 1/(i + 1)\n",
    "    i = 1\n",
    "    def f(x):\n",
    "        return x**i\n",
    "    sum_1 = 0\n",
    "    for k in range(3):\n",
    "        sum_1 += f(zeros[k]) * W[k]\n",
    "    error1.append(abs(sum_1 - sol))\n",
    "    b = 1\n",
    "    a = 0\n",
    "    simpson = (b - a )/6 * ( f(a) + 4*f((a+b)/2) + f(b))\n",
    "    error2.append(abs(simpson - sol))\n",
    "    \n",
    "    \n",
    "    "
   ]
  },
  {
   "cell_type": "code",
   "execution_count": 84,
   "metadata": {},
   "outputs": [],
   "source": [
    "import matplotlib.pyplot as plt"
   ]
  },
  {
   "cell_type": "code",
   "execution_count": 85,
   "metadata": {},
   "outputs": [
    {
     "data": {
      "text/plain": [
       "[0.500000000000000,\n",
       " 0,\n",
       " 0.166666666666667,\n",
       " 0.250000000000000,\n",
       " 0.300000000000000,\n",
       " 0.333333333333333,\n",
       " 0.357142857142857,\n",
       " 0.375000000000000]"
      ]
     },
     "execution_count": 85,
     "metadata": {},
     "output_type": "execute_result"
    }
   ],
   "source": [
    "error1"
   ]
  },
  {
   "cell_type": "code",
   "execution_count": 86,
   "metadata": {},
   "outputs": [
    {
     "data": {
      "text/plain": [
       "[0.5,\n",
       " 0.0,\n",
       " 0.16666666666666669,\n",
       " 0.25,\n",
       " 0.3,\n",
       " 0.33333333333333337,\n",
       " 0.35714285714285715,\n",
       " 0.375]"
      ]
     },
     "execution_count": 86,
     "metadata": {},
     "output_type": "execute_result"
    }
   ],
   "source": [
    "error2"
   ]
  },
  {
   "cell_type": "code",
   "execution_count": 87,
   "metadata": {},
   "outputs": [
    {
     "data": {
      "text/plain": [
       "[<matplotlib.lines.Line2D at 0x258a50daa30>]"
      ]
     },
     "execution_count": 87,
     "metadata": {},
     "output_type": "execute_result"
    },
    {
     "data": {
      "image/png": "[encoded data removed]",
      "text/plain": [
       "<Figure size 432x288 with 1 Axes>"
      ]
     },
     "metadata": {
      "needs_background": "light"
     },
     "output_type": "display_data"
    }
   ],
   "source": [
    "fg,axs = plt.subplots(1)\n",
    "axs.plot([k for k in range(8)],error1,\"b\")\n",
    "axs.plot([k for k in range(8)],error2,\"r\")"
   ]
  },
  {
   "cell_type": "code",
   "execution_count": null,
   "metadata": {},
   "outputs": [],
   "source": []
  }
 ],
 "metadata": {
  "kernelspec": {
   "display_name": "Python 3",
   "language": "python",
   "name": "python3"
  },
  "language_info": {
   "codemirror_mode": {
    "name": "ipython",
    "version": 3
   },
   "file_extension": ".py",
   "mimetype": "text/x-python",
   "name": "python",
   "nbconvert_exporter": "python",
   "pygments_lexer": "ipython3",
   "version": "3.9.12"
  }
 },
 "nbformat": 4,
 "nbformat_minor": 2
}
