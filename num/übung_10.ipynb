{
 "cells": [
  {
   "cell_type": "code",
   "execution_count": 3,
   "metadata": {},
   "outputs": [],
   "source": [
    "from sympy import *\n",
    "import numpy as np\n",
    "import matplotlib.pyplot as plt\n",
    "a,b,c,d,x = symbols(\"a b c d x\")"
   ]
  },
  {
   "cell_type": "code",
   "execution_count": 4,
   "metadata": {},
   "outputs": [],
   "source": [
    "#calculate the condition nubmers for vandermonde matrix"
   ]
  },
  {
   "cell_type": "markdown",
   "metadata": {},
   "source": [
    "1d)"
   ]
  },
  {
   "cell_type": "code",
   "execution_count": 5,
   "metadata": {},
   "outputs": [
    {
     "name": "stdout",
     "output_type": "stream",
     "text": [
      "n =  5 :  63.82728259639297\n",
      "n =  10 :  13951.626931490096\n",
      "n =  20 :  831377047.0828636\n",
      "n =  30 :  56422549258989.38\n"
     ]
    }
   ],
   "source": [
    "for m in [5,10,20,30]:\n",
    "    arr = [-1 +  ( ( 2 * k )/m ) for k in range(m + 1)]\n",
    "    \n",
    "    k_2 = np.linalg.cond(np.vander(arr),2)\n",
    "    print(\"n = \",m,\": \",k_2)\n"
   ]
  },
  {
   "cell_type": "code",
   "execution_count": 6,
   "metadata": {},
   "outputs": [],
   "source": [
    "# for n in [5,10,20,30]\n",
    "# n = 5\n",
    "# points = np.linspace([0,5,5])\n",
    "# np.vander([1,1,1])"
   ]
  },
  {
   "cell_type": "markdown",
   "metadata": {},
   "source": [
    " [Polynomial interpolation versus least squares fitting] "
   ]
  },
  {
   "cell_type": "code",
   "execution_count": 7,
   "metadata": {},
   "outputs": [],
   "source": [
    "# X 0.0 0.5 1.0 1.5 2.0 2.5\n",
    "# Y 0.0 0.20 0.27 0.30 0.32 0.33"
   ]
  },
  {
   "cell_type": "code",
   "execution_count": 8,
   "metadata": {},
   "outputs": [],
   "source": [
    "from to_m import str_to_m"
   ]
  },
  {
   "cell_type": "code",
   "execution_count": 9,
   "metadata": {},
   "outputs": [
    {
     "data": {
      "text/plain": [
       "'[[0.0,0.20,0.27,0.30,0.32,0.33]]'"
      ]
     },
     "execution_count": 9,
     "metadata": {},
     "output_type": "execute_result"
    }
   ],
   "source": [
    "str_to_m(\"0.0 0.5 1.0 1.5 2.0 2.5\")\n",
    "str_to_m(\"0.0 0.20 0.27 0.30 0.32 0.33\")"
   ]
  },
  {
   "cell_type": "code",
   "execution_count": 10,
   "metadata": {},
   "outputs": [],
   "source": [
    "x = [0.0,0.5,1.0,1.5,2.0,2.5]\n",
    "y = [0.0,0.20,0.27,0.30,0.32,0.33]\n"
   ]
  },
  {
   "cell_type": "code",
   "execution_count": 11,
   "metadata": {},
   "outputs": [],
   "source": [
    "k=1"
   ]
  },
  {
   "cell_type": "code",
   "execution_count": 12,
   "metadata": {},
   "outputs": [
    {
     "data": {
      "text/latex": [
       "$\\displaystyle \\left[\\begin{matrix}1 & 0 & 0 & 0\\\\1 & 0.5 & 0.25 & 0.125\\end{matrix}\\right]$"
      ],
      "text/plain": [
       "Matrix([\n",
       "[1,   0,    0,     0],\n",
       "[1, 0.5, 0.25, 0.125]])"
      ]
     },
     "execution_count": 12,
     "metadata": {},
     "output_type": "execute_result"
    }
   ],
   "source": [
    "points = np.linspace(1,1/2,10)\n",
    "c = lambda x:[1,x,x**2,x**3]\n",
    "arr = x[:(k + 1)]\n",
    "A = [c(x) for x in arr]\n",
    "Matrix(A)"
   ]
  },
  {
   "cell_type": "code",
   "execution_count": 13,
   "metadata": {},
   "outputs": [
    {
     "data": {
      "text/plain": [
       "<matplotlib.legend.Legend at 0x1927d1dec70>"
      ]
     },
     "execution_count": 13,
     "metadata": {},
     "output_type": "execute_result"
    },
    {
     "data": {
      "image/png": "[encoded data removed]",
      "text/plain": [
       "<Figure size 432x288 with 1 Axes>"
      ]
     },
     "metadata": {
      "needs_background": "light"
     },
     "output_type": "display_data"
    }
   ],
   "source": [
    "fig, axs = plt.subplots(1) \n",
    "for k in [3,4,5]:\n",
    "    arr = x[:(k + 1)]\n",
    "    A = np.array([c(x) for x in arr])\n",
    "    coeff = np.linalg.solve(A.T @ A,A.T @ y[:(k+1)])\n",
    "    poly = lambda x: np.sum([coeff[k] * x**k for k in range(3)])\n",
    "    \n",
    "\n",
    "    axs.plot(points,[poly(point) for point in points])\n",
    "axs.legend([3,4,5])\n"
   ]
  },
  {
   "cell_type": "code",
   "execution_count": 14,
   "metadata": {},
   "outputs": [
    {
     "data": {
      "text/plain": [
       "[0.0, 0.5, 1.0, 1.5, 2.0]"
      ]
     },
     "execution_count": 14,
     "metadata": {},
     "output_type": "execute_result"
    }
   ],
   "source": [
    "x[:5]"
   ]
  },
  {
   "cell_type": "markdown",
   "metadata": {},
   "source": [
    "[Composite (summierte) trapezoidal and Simpson sum]"
   ]
  },
  {
   "cell_type": "code",
   "execution_count": 15,
   "metadata": {},
   "outputs": [],
   "source": [
    "# A = ( (x - b) *  c ) /(a - b) + (( x -a) * d )/ ( b - a)\n",
    "# A"
   ]
  },
  {
   "cell_type": "code",
   "execution_count": 16,
   "metadata": {},
   "outputs": [],
   "source": [
    "# (integrate(A,(x,a,b)) ) .simplify().factor()"
   ]
  },
  {
   "cell_type": "code",
   "execution_count": 17,
   "metadata": {},
   "outputs": [],
   "source": [
    "# m = 10\n",
    "# for k in range(m + 1):\n",
    "#     x_i = 0 + k * ( ( 5 - 0 )/m ) \n",
    "#     print(x_i)\n"
   ]
  },
  {
   "cell_type": "markdown",
   "metadata": {},
   "source": [
    "<img src='integral.PNG'><img>"
   ]
  },
  {
   "cell_type": "code",
   "execution_count": 18,
   "metadata": {},
   "outputs": [
    {
     "name": "stdout",
     "output_type": "stream",
     "text": [
      "4\n",
      "4.1\n",
      "4.2\n",
      "4.3\n",
      "4.4\n",
      "4.5\n",
      "4.6\n",
      "4.7\n",
      "4.8\n",
      "4.9\n"
     ]
    }
   ],
   "source": [
    "m = 10\n",
    "a = 4\n",
    "b = 5\n",
    "x_i_1 = a\n",
    "for k in range(1,m + 1):\n",
    "    x_i = x_i_1\n",
    "    x_i_1 = a + k * ( ( b - a )/m ) \n",
    "    \n",
    "    print(x_i)"
   ]
  },
  {
   "cell_type": "code",
   "execution_count": 19,
   "metadata": {},
   "outputs": [],
   "source": [
    "def trapazoid(f,a, b):\n",
    "    u = (b - a)\n",
    "    v = (f(a) + f(b))\n",
    "    return (u * v) / 2\n",
    "def simpson(f,a, b):\n",
    "    u = (b - a)\n",
    "    v = (f(a) + 4 * f((a + b)/2) + f(b))\n",
    "    return (u * v) / 6"
   ]
  },
  {
   "cell_type": "code",
   "execution_count": 20,
   "metadata": {},
   "outputs": [],
   "source": [
    "a = 1\n",
    "def f(x):\n",
    "    return x\n",
    "\n"
   ]
  },
  {
   "cell_type": "code",
   "execution_count": 21,
   "metadata": {},
   "outputs": [],
   "source": [
    "def approx_int(m,f,interval = (0,10),rule = trapazoid):\n",
    "    assert interval.__len__() == 2\n",
    "    a = interval[0]\n",
    "    b = interval[1]\n",
    "    x_i_1 = a\n",
    "    sum = 0\n",
    "    for k in range(1,m + 1):\n",
    "        x_i = x_i_1\n",
    "        x_i_1 = a + k * ( ( b - a )/m ) \n",
    "        sum += rule(f,x_i, x_i_1)\n",
    "    return sum\n",
    "    \n",
    "        \n",
    "    "
   ]
  },
  {
   "cell_type": "markdown",
   "metadata": {},
   "source": [
    "$$ { \\int_{0.1}^{1}  \\sqrt{x} \\,dx} $$"
   ]
  },
  {
   "cell_type": "code",
   "execution_count": 22,
   "metadata": {},
   "outputs": [
    {
     "data": {
      "text/plain": [
       "0.6454030210934352"
      ]
     },
     "execution_count": 22,
     "metadata": {},
     "output_type": "execute_result"
    }
   ],
   "source": [
    "approx_int(20,np.sqrt,(0.1,1))"
   ]
  },
  {
   "cell_type": "code",
   "execution_count": 23,
   "metadata": {},
   "outputs": [],
   "source": [
    "R = (2/3) - np.sqrt(10)/150\n"
   ]
  },
  {
   "cell_type": "code",
   "execution_count": 24,
   "metadata": {},
   "outputs": [
    {
     "data": {
      "text/plain": [
       "array([1.00000000e+00, 2.71828183e+00, 7.38905610e+00, 2.00855369e+01,\n",
       "       5.45981500e+01, 4.03428793e+02, 1.09663316e+03, 2.98095799e+03,\n",
       "       8.10308393e+03, 2.20264658e+04])"
      ]
     },
     "execution_count": 24,
     "metadata": {},
     "output_type": "execute_result"
    }
   ],
   "source": [
    "np.exp(np.round(np.linspace(0,10,10)))"
   ]
  },
  {
   "cell_type": "code",
   "execution_count": 25,
   "metadata": {},
   "outputs": [],
   "source": [
    "import matplotlib.pyplot as plt"
   ]
  },
  {
   "cell_type": "code",
   "execution_count": 26,
   "metadata": {},
   "outputs": [],
   "source": [
    "error_t = []\n",
    "error_s = []\n",
    "\n",
    "m = 10\n",
    "M = []\n",
    "for _ in range(1,10):\n",
    "    M.append(m)\n",
    "    error_s.append ( R -  approx_int(m,np.sqrt,(0.1,1),simpson) ) \n",
    "    error_t.append( R -  approx_int(m,np.sqrt,(0.1,1),trapazoid) ) \n",
    "    m *= 2"
   ]
  },
  {
   "cell_type": "code",
   "execution_count": 27,
   "metadata": {},
   "outputs": [],
   "source": [
    "#least square fehler\n",
    "A = np.array([[1,np.log(m)] for m in range(1,10)])\n",
    "y = np.array([[np.log(m)] for m in error_t])\n"
   ]
  },
  {
   "cell_type": "code",
   "execution_count": 28,
   "metadata": {},
   "outputs": [
    {
     "data": {
      "text/plain": [
       "array([[-5.6077123 ],\n",
       "       [-5.03522346]])"
      ]
     },
     "execution_count": 28,
     "metadata": {},
     "output_type": "execute_result"
    }
   ],
   "source": [
    "coef = np.linalg.solve(A.T @ A , A.T @ y)\n",
    "coef"
   ]
  },
  {
   "cell_type": "markdown",
   "metadata": {},
   "source": [
    "$$ c* m ^k $$"
   ]
  },
  {
   "cell_type": "code",
   "execution_count": 29,
   "metadata": {},
   "outputs": [],
   "source": [
    "# np.exp(coeff[0] +  (5) * np.exp(coef[1]) )"
   ]
  },
  {
   "cell_type": "code",
   "execution_count": 30,
   "metadata": {},
   "outputs": [
    {
     "data": {
      "text/plain": [
       "0.019210836785522906"
      ]
     },
     "execution_count": 30,
     "metadata": {},
     "output_type": "execute_result"
    }
   ],
   "source": [
    "#buch\n",
    "( (1 - 0.1)**3 / (12 * 5**2) )  * np.abs( ( -1/4 * ( 0.1**(-3/2)))  )"
   ]
  },
  {
   "cell_type": "markdown",
   "metadata": {},
   "source": [
    "plot"
   ]
  },
  {
   "cell_type": "code",
   "execution_count": 31,
   "metadata": {},
   "outputs": [
    {
     "data": {
      "image/png": "[encoded data removed]",
      "text/plain": [
       "<Figure size 432x288 with 1 Axes>"
      ]
     },
     "metadata": {
      "needs_background": "light"
     },
     "output_type": "display_data"
    }
   ],
   "source": [
    "\n",
    "fig, axs = plt.subplots(1) \n",
    "axs.set_xlabel(\"m\")\n",
    "axs.set_xscale('log')\n",
    "axs.plot(M, error_t,\"bo\")\n",
    "axs.plot(M, error_s,\"ro\")\n",
    "axs.legend([\"trapazoid\",\"simpson\"])\n",
    "axs.set_yscale('log')\n",
    "    \n",
    "    "
   ]
  },
  {
   "cell_type": "code",
   "execution_count": 32,
   "metadata": {},
   "outputs": [
    {
     "data": {
      "text/plain": [
       "[10, 20, 40, 80, 160, 320, 640, 1280, 2560]"
      ]
     },
     "execution_count": 32,
     "metadata": {},
     "output_type": "execute_result"
    }
   ],
   "source": [
    "M"
   ]
  },
  {
   "cell_type": "markdown",
   "metadata": {},
   "source": [
    "[Polynomial interpolation and error estimation] "
   ]
  },
  {
   "cell_type": "markdown",
   "metadata": {},
   "source": [
    "a)"
   ]
  },
  {
   "cell_type": "code",
   "execution_count": 33,
   "metadata": {},
   "outputs": [],
   "source": [
    "\n",
    "def f(x):\n",
    "    return np.exp(3*x)"
   ]
  },
  {
   "cell_type": "code",
   "execution_count": 34,
   "metadata": {},
   "outputs": [],
   "source": [
    "f_1 =  2 * (np.exp(3/2) - 1 ) \n",
    "f_2 =   2* (np.exp(3) - np.exp(3/2) ) \n",
    "c0 = 1\n",
    "\n",
    "c2 = f_2 - f_1\n",
    "c1 = f_1 - 1/2* c2 \n",
    "#fehler"
   ]
  },
  {
   "cell_type": "code",
   "execution_count": 54,
   "metadata": {},
   "outputs": [
    {
     "data": {
      "text/plain": [
       "-5.158780641835412"
      ]
     },
     "execution_count": 54,
     "metadata": {},
     "output_type": "execute_result"
    }
   ],
   "source": [
    "c1"
   ]
  },
  {
   "cell_type": "code",
   "execution_count": 35,
   "metadata": {},
   "outputs": [
    {
     "data": {
      "text/plain": [
       "20.085536923187668"
      ]
     },
     "execution_count": 35,
     "metadata": {},
     "output_type": "execute_result"
    }
   ],
   "source": [
    "c0 + c1 * (1) + c2 * (1)**2"
   ]
  },
  {
   "cell_type": "markdown",
   "metadata": {},
   "source": [
    "interpolationspolynom dividtierte differenzen\n",
    "\n",
    "Pn(x) = a0 + a1(x − x0) + a2(x − x0)(x − x1)\n"
   ]
  },
  {
   "cell_type": "code",
   "execution_count": 36,
   "metadata": {},
   "outputs": [],
   "source": [
    "def p_n(x):\n",
    "    return c0 + f_1*(x - 0) + c2 *( x - 0) * (x - 1/2)"
   ]
  },
  {
   "cell_type": "code",
   "execution_count": 37,
   "metadata": {},
   "outputs": [],
   "source": [
    "def p(x):\n",
    "    return c0 + c1 * x + c2 * x**2"
   ]
  },
  {
   "cell_type": "code",
   "execution_count": 38,
   "metadata": {},
   "outputs": [
    {
     "data": {
      "text/plain": [
       "0.0"
      ]
     },
     "execution_count": 38,
     "metadata": {},
     "output_type": "execute_result"
    }
   ],
   "source": [
    "f(1) - p(1)\n"
   ]
  },
  {
   "cell_type": "markdown",
   "metadata": {},
   "source": []
  },
  {
   "cell_type": "code",
   "execution_count": 39,
   "metadata": {},
   "outputs": [
    {
     "data": {
      "text/plain": [
       "<matplotlib.legend.Legend at 0x1927dc579a0>"
      ]
     },
     "execution_count": 39,
     "metadata": {},
     "output_type": "execute_result"
    },
    {
     "data": {
      "image/png": "[encoded data removed]",
      "text/plain": [
       "<Figure size 432x288 with 1 Axes>"
      ]
     },
     "metadata": {
      "needs_background": "light"
     },
     "output_type": "display_data"
    }
   ],
   "source": [
    "\n",
    "points = np.linspace(0,1,5)\n",
    "fig,axs = plt.subplots(1)\n",
    "axs.plot(points,f(points))\n",
    "axs.plot(points,p_n(points))\n",
    "axs.legend((\"p\",\"f\"))\n"
   ]
  },
  {
   "cell_type": "code",
   "execution_count": 40,
   "metadata": {},
   "outputs": [
    {
     "data": {
      "text/plain": [
       "1.0"
      ]
     },
     "execution_count": 40,
     "metadata": {},
     "output_type": "execute_result"
    }
   ],
   "source": [
    "def Lagrange(arr,k):\n",
    "    x_i = arr[k]\n",
    "    def lk(x):\n",
    "        L = 1\n",
    "        for xk in arr:\n",
    "            if xk == x_i:\n",
    "                0\n",
    "            else:\n",
    "            \n",
    "                L *= (x - xk)/(x_i - xk)\n",
    "        return L\n",
    "    return lk\n",
    "\n",
    "Lagrange([0,1/2,1],1)(1/2) # (points,index)(variable)\n",
    "        \n",
    "    "
   ]
  },
  {
   "cell_type": "code",
   "execution_count": null,
   "metadata": {},
   "outputs": [],
   "source": []
  },
  {
   "cell_type": "code",
   "execution_count": 41,
   "metadata": {},
   "outputs": [
    {
     "data": {
      "text/plain": [
       "Text(0.5, 1.0, 'Lagrange Basis polynomials')"
      ]
     },
     "execution_count": 41,
     "metadata": {},
     "output_type": "execute_result"
    },
    {
     "data": {
      "image/png": "[encoded data removed]",
      "text/plain": [
       "<Figure size 432x288 with 1 Axes>"
      ]
     },
     "metadata": {
      "needs_background": "light"
     },
     "output_type": "display_data"
    }
   ],
   "source": [
    "points = np.linspace(0,1,5)\n",
    "fig,axs = plt.subplots(1)\n",
    "i = 0\n",
    "for i in range(3):\n",
    "    axs.plot(points,Lagrange([0,1/2,1],i)(points))\n",
    "axs.set_title('Lagrange Basis polynomials')"
   ]
  },
  {
   "cell_type": "markdown",
   "metadata": {},
   "source": [
    "c)\n"
   ]
  },
  {
   "cell_type": "code",
   "execution_count": null,
   "metadata": {},
   "outputs": [],
   "source": []
  },
  {
   "cell_type": "code",
   "execution_count": 42,
   "metadata": {},
   "outputs": [],
   "source": [
    "#error estimate\n",
    "M = (3**4)* (np.exp(3)) # E^(3 * 1)\n",
    "f_4 = 4 * 3 * 2 * 1\n",
    "g = lambda x: (M*(x - 0)*(x - 1/2) * ( x - 1 )) /f_2"
   ]
  },
  {
   "cell_type": "code",
   "execution_count": 43,
   "metadata": {},
   "outputs": [
    {
     "name": "stdout",
     "output_type": "stream",
     "text": [
      "-1.2806073125903996\n",
      "-2.4437008654663672\n"
     ]
    }
   ],
   "source": [
    "print(f(3/4) - p(3/4))\n",
    "print(g(3/4))"
   ]
  },
  {
   "cell_type": "markdown",
   "metadata": {},
   "source": [
    "d)"
   ]
  },
  {
   "cell_type": "code",
   "execution_count": 44,
   "metadata": {},
   "outputs": [],
   "source": [
    "arr = [0,1]\n",
    "L_0_d = 1/(1 - 0)\n",
    "L_1_d = 1/(0 - 1)\n",
    "def L_d(k):\n",
    "    if k == 0 : return 1\n",
    "    if k == 1 : return -1\n",
    "\n",
    "def H_k(x,k):\n",
    "    return (Lagrange(arr,k)(x) **2) * ( 1 - 2* L_d(k) * (x -arr[k]))\n",
    "def K_k(x,k):\n",
    "    return ( (Lagrange(arr,k)(x) )**2) * ( x - arr[k])"
   ]
  },
  {
   "cell_type": "code",
   "execution_count": 45,
   "metadata": {},
   "outputs": [
    {
     "data": {
      "text/plain": [
       "1.0"
      ]
     },
     "execution_count": 45,
     "metadata": {},
     "output_type": "execute_result"
    }
   ],
   "source": [
    "(Lagrange(arr,0)(0) **2) * ( 1 - 2* L_d(0) * (0 -arr[0]))"
   ]
  },
  {
   "cell_type": "code",
   "execution_count": 46,
   "metadata": {},
   "outputs": [
    {
     "data": {
      "text/plain": [
       "-0.0"
      ]
     },
     "execution_count": 46,
     "metadata": {},
     "output_type": "execute_result"
    }
   ],
   "source": [
    "H_k(1,0)"
   ]
  },
  {
   "cell_type": "code",
   "execution_count": 47,
   "metadata": {},
   "outputs": [
    {
     "data": {
      "text/plain": [
       "1.0"
      ]
     },
     "execution_count": 47,
     "metadata": {},
     "output_type": "execute_result"
    }
   ],
   "source": [
    "Lagrange(arr,1)(1)"
   ]
  },
  {
   "cell_type": "code",
   "execution_count": 48,
   "metadata": {},
   "outputs": [],
   "source": [
    "def f_d(x):\n",
    "    return 3*f(x)"
   ]
  },
  {
   "cell_type": "code",
   "execution_count": 49,
   "metadata": {},
   "outputs": [
    {
     "data": {
      "text/plain": [
       "1.0"
      ]
     },
     "execution_count": 49,
     "metadata": {},
     "output_type": "execute_result"
    }
   ],
   "source": [
    "Lagrange(arr,1)(1)"
   ]
  },
  {
   "cell_type": "code",
   "execution_count": 50,
   "metadata": {},
   "outputs": [
    {
     "name": "stdout",
     "output_type": "stream",
     "text": [
      "0\n"
     ]
    }
   ],
   "source": [
    "for k in range(1):\n",
    "    print(k)"
   ]
  },
  {
   "cell_type": "code",
   "execution_count": 51,
   "metadata": {},
   "outputs": [],
   "source": [
    "def hermite(x):\n",
    "    sum = 0\n",
    "    for k in range(2):\n",
    "        x_k = arr[k]\n",
    "        sum += H_k(x,k)*f(x_k) + K_k(x,k) * f_d(x_k)\n",
    "    return sum"
   ]
  },
  {
   "cell_type": "code",
   "execution_count": 52,
   "metadata": {},
   "outputs": [
    {
     "data": {
      "text/plain": [
       "[1.0,\n",
       " -2.7490766586728803,\n",
       " -7.1570763461953755,\n",
       " -2.7151536298232655,\n",
       " 20.085536923187668]"
      ]
     },
     "execution_count": 52,
     "metadata": {},
     "output_type": "execute_result"
    }
   ],
   "source": [
    "[hermite(x) for x in points]"
   ]
  },
  {
   "cell_type": "code",
   "execution_count": 53,
   "metadata": {},
   "outputs": [
    {
     "data": {
      "image/png": "[encoded data removed]",
      "text/plain": [
       "<Figure size 432x288 with 2 Axes>"
      ]
     },
     "metadata": {
      "needs_background": "light"
     },
     "output_type": "display_data"
    }
   ],
   "source": [
    "\n",
    "points = np.linspace(0,1,10)\n",
    "fig,axs = plt.subplots(2)\n",
    "\n",
    "axs[0].plot(points,f(points))\n",
    "axs[0].plot(points,[hermite(x) for x in points])\n",
    "\n",
    "for k in range(2):\n",
    "    axs[1].plot(points,H_k(points,k))\n",
    "    axs[1].plot(points,K_k(points,k))\n"
   ]
  },
  {
   "cell_type": "code",
   "execution_count": null,
   "metadata": {},
   "outputs": [],
   "source": []
  },
  {
   "cell_type": "markdown",
   "metadata": {},
   "source": []
  }
 ],
 "metadata": {
  "kernelspec": {
   "display_name": "Python 3",
   "language": "python",
   "name": "python3"
  },
  "language_info": {
   "codemirror_mode": {
    "name": "ipython",
    "version": 3
   },
   "file_extension": ".py",
   "mimetype": "text/x-python",
   "name": "python",
   "nbconvert_exporter": "python",
   "pygments_lexer": "ipython3",
   "version": "3.9.12"
  }
 },
 "nbformat": 4,
 "nbformat_minor": 2
}
