{
 "cells": [
  {
   "cell_type": "code",
   "execution_count": 72,
   "metadata": {},
   "outputs": [],
   "source": [
    "from sympy import *"
   ]
  },
  {
   "cell_type": "code",
   "execution_count": 73,
   "metadata": {},
   "outputs": [],
   "source": [
    "a,b,c,d = symbols(\"a,b,c,d\")"
   ]
  },
  {
   "cell_type": "code",
   "execution_count": 74,
   "metadata": {},
   "outputs": [],
   "source": [
    "x = Matrix([[a],[b]])"
   ]
  },
  {
   "cell_type": "code",
   "execution_count": 75,
   "metadata": {},
   "outputs": [],
   "source": [
    "y = Matrix([[c],[d]])"
   ]
  },
  {
   "cell_type": "code",
   "execution_count": 76,
   "metadata": {},
   "outputs": [],
   "source": [
    "normy= sqrt(y.T@y)\n",
    "normx= sqrt(x.T@x)"
   ]
  },
  {
   "cell_type": "code",
   "execution_count": 77,
   "metadata": {},
   "outputs": [],
   "source": [
    "v = x - (normx/normy)[0] * y"
   ]
  },
  {
   "cell_type": "code",
   "execution_count": 78,
   "metadata": {},
   "outputs": [],
   "source": [
    "v= v"
   ]
  },
  {
   "cell_type": "code",
   "execution_count": 79,
   "metadata": {},
   "outputs": [
    {
     "data": {
      "text/latex": [
       "$\\displaystyle \\frac{2 \\left(a \\sqrt{c^{2} + d^{2}} - c \\sqrt{a^{2} + b^{2}}\\right) \\left(a \\left(a \\sqrt{c^{2} + d^{2}} - c \\sqrt{a^{2} + b^{2}}\\right) + b \\left(b \\sqrt{c^{2} + d^{2}} - d \\sqrt{a^{2} + b^{2}}\\right)\\right)}{\\left(a \\sqrt{c^{2} + d^{2}} - c \\sqrt{a^{2} + b^{2}}\\right)^{2} + \\left(b \\sqrt{c^{2} + d^{2}} - d \\sqrt{a^{2} + b^{2}}\\right)^{2}}$"
      ],
      "text/plain": [
       "2*(a*sqrt(c**2 + d**2) - c*sqrt(a**2 + b**2))*(a*(a*sqrt(c**2 + d**2) - c*sqrt(a**2 + b**2)) + b*(b*sqrt(c**2 + d**2) - d*sqrt(a**2 + b**2)))/((a*sqrt(c**2 + d**2) - c*sqrt(a**2 + b**2))**2 + (b*sqrt(c**2 + d**2) - d*sqrt(a**2 + b**2))**2)"
      ]
     },
     "execution_count": 79,
     "metadata": {},
     "output_type": "execute_result"
    }
   ],
   "source": [
    "(2*(v@v.T)@x/(v.T@v)[0].simplify())[0].simplify()"
   ]
  },
  {
   "cell_type": "code",
   "execution_count": 80,
   "metadata": {},
   "outputs": [
    {
     "data": {
      "text/latex": [
       "$\\displaystyle \\left[\\begin{matrix}a - \\frac{c \\sqrt{a^{2} + b^{2}}}{\\sqrt{c^{2} + d^{2}}}\\\\b - \\frac{d \\sqrt{a^{2} + b^{2}}}{\\sqrt{c^{2} + d^{2}}}\\end{matrix}\\right]$"
      ],
      "text/plain": [
       "Matrix([\n",
       "[a - c*sqrt(a**2 + b**2)/sqrt(c**2 + d**2)],\n",
       "[b - d*sqrt(a**2 + b**2)/sqrt(c**2 + d**2)]])"
      ]
     },
     "execution_count": 80,
     "metadata": {},
     "output_type": "execute_result"
    }
   ],
   "source": [
    "v"
   ]
  },
  {
   "cell_type": "code",
   "execution_count": 81,
   "metadata": {},
   "outputs": [],
   "source": [
    "Hx = x - 2*(v@v.T)@x/(v.T@v)[0]"
   ]
  },
  {
   "cell_type": "code",
   "execution_count": 82,
   "metadata": {},
   "outputs": [
    {
     "data": {
      "text/latex": [
       "$\\displaystyle \\left[\\begin{matrix}a - \\frac{2 a \\left(a - \\frac{c \\sqrt{a^{2} + b^{2}}}{\\sqrt{c^{2} + d^{2}}}\\right)^{2} + 2 b \\left(a - \\frac{c \\sqrt{a^{2} + b^{2}}}{\\sqrt{c^{2} + d^{2}}}\\right) \\left(b - \\frac{d \\sqrt{a^{2} + b^{2}}}{\\sqrt{c^{2} + d^{2}}}\\right)}{\\left(a - \\frac{c \\sqrt{a^{2} + b^{2}}}{\\sqrt{c^{2} + d^{2}}}\\right)^{2} + \\left(b - \\frac{d \\sqrt{a^{2} + b^{2}}}{\\sqrt{c^{2} + d^{2}}}\\right)^{2}}\\\\b - \\frac{2 a \\left(a - \\frac{c \\sqrt{a^{2} + b^{2}}}{\\sqrt{c^{2} + d^{2}}}\\right) \\left(b - \\frac{d \\sqrt{a^{2} + b^{2}}}{\\sqrt{c^{2} + d^{2}}}\\right) + 2 b \\left(b - \\frac{d \\sqrt{a^{2} + b^{2}}}{\\sqrt{c^{2} + d^{2}}}\\right)^{2}}{\\left(a - \\frac{c \\sqrt{a^{2} + b^{2}}}{\\sqrt{c^{2} + d^{2}}}\\right)^{2} + \\left(b - \\frac{d \\sqrt{a^{2} + b^{2}}}{\\sqrt{c^{2} + d^{2}}}\\right)^{2}}\\end{matrix}\\right]$"
      ],
      "text/plain": [
       "Matrix([\n",
       "[a - (2*a*(a - c*sqrt(a**2 + b**2)/sqrt(c**2 + d**2))**2 + 2*b*(a - c*sqrt(a**2 + b**2)/sqrt(c**2 + d**2))*(b - d*sqrt(a**2 + b**2)/sqrt(c**2 + d**2)))/((a - c*sqrt(a**2 + b**2)/sqrt(c**2 + d**2))**2 + (b - d*sqrt(a**2 + b**2)/sqrt(c**2 + d**2))**2)],\n",
       "[b - (2*a*(a - c*sqrt(a**2 + b**2)/sqrt(c**2 + d**2))*(b - d*sqrt(a**2 + b**2)/sqrt(c**2 + d**2)) + 2*b*(b - d*sqrt(a**2 + b**2)/sqrt(c**2 + d**2))**2)/((a - c*sqrt(a**2 + b**2)/sqrt(c**2 + d**2))**2 + (b - d*sqrt(a**2 + b**2)/sqrt(c**2 + d**2))**2)]])"
      ]
     },
     "execution_count": 82,
     "metadata": {},
     "output_type": "execute_result"
    }
   ],
   "source": [
    "Hx"
   ]
  },
  {
   "cell_type": "markdown",
   "metadata": {},
   "source": [
    "householder\n"
   ]
  },
  {
   "cell_type": "code",
   "execution_count": 201,
   "metadata": {},
   "outputs": [],
   "source": [
    "A = np.array([[2,1,2,2],[1,-7,6,5],[2,6,2,-5],[2,5,-5,1]])"
   ]
  },
  {
   "cell_type": "code",
   "execution_count": 202,
   "metadata": {},
   "outputs": [],
   "source": [
    "w = Matrix([[4],[2],[2]])"
   ]
  },
  {
   "cell_type": "code",
   "execution_count": 261,
   "metadata": {},
   "outputs": [
    {
     "data": {
      "text/plain": [
       "array([[ 1, -7,  6],\n",
       "       [ 2,  6,  2],\n",
       "       [ 2,  5, -5]])"
      ]
     },
     "execution_count": 261,
     "metadata": {},
     "output_type": "execute_result"
    }
   ],
   "source": []
  },
  {
   "cell_type": "code",
   "execution_count": 203,
   "metadata": {},
   "outputs": [],
   "source": [
    "import numpy as np"
   ]
  },
  {
   "cell_type": "code",
   "execution_count": 281,
   "metadata": {},
   "outputs": [],
   "source": [
    "\n",
    "def H(w):\n",
    "    k = w.shape[0]\n",
    "    return np.eye(k) - (2/ (w.T@w)[0] ) * w@w.T "
   ]
  },
  {
   "cell_type": "code",
   "execution_count": 283,
   "metadata": {},
   "outputs": [
    {
     "data": {
      "text/latex": [
       "$\\displaystyle \\left[\\begin{matrix}4\\\\2\\\\2\\end{matrix}\\right]$"
      ],
      "text/plain": [
       "Matrix([\n",
       "[4],\n",
       "[2],\n",
       "[2]])"
      ]
     },
     "execution_count": 283,
     "metadata": {},
     "output_type": "execute_result"
    }
   ],
   "source": [
    "w"
   ]
  },
  {
   "cell_type": "code",
   "execution_count": 282,
   "metadata": {},
   "outputs": [
    {
     "data": {
      "text/plain": [
       "array([[ 1.        ,  0.        ,  0.        ,  0.        ],\n",
       "       [ 0.        , -0.33333333, -0.66666667, -0.66666667],\n",
       "       [ 0.        , -0.66666667,  0.66666667, -0.33333333],\n",
       "       [ 0.        , -0.66666667, -0.33333333,  0.66666667]])"
      ]
     },
     "execution_count": 282,
     "metadata": {},
     "output_type": "execute_result"
    }
   ],
   "source": [
    "B = np.eye(4)\n",
    "B[1:,1:] = H(w)\n",
    "B"
   ]
  },
  {
   "cell_type": "code",
   "execution_count": 276,
   "metadata": {},
   "outputs": [
    {
     "data": {
      "text/latex": [
       "$\\displaystyle \\left[\\begin{matrix}2.0 & 1.0 & 2.0 & 2.0\\\\-3.0 & -5.0 & 0 & 1.0\\\\2.22044604925031 \\cdot 10^{-16} & 7.0 & -1.0 & -7.0\\\\2.22044604925031 \\cdot 10^{-16} & 6.0 & -8.0 & -1.0\\end{matrix}\\right]$"
      ],
      "text/plain": [
       "Matrix([\n",
       "[                 2.0,  1.0,  2.0,  2.0],\n",
       "[                -3.0, -5.0,    0,  1.0],\n",
       "[2.22044604925031e-16,  7.0, -1.0, -7.0],\n",
       "[2.22044604925031e-16,  6.0, -8.0, -1.0]])"
      ]
     },
     "execution_count": 276,
     "metadata": {},
     "output_type": "execute_result"
    }
   ],
   "source": [
    "B @ Matrix(A)"
   ]
  },
  {
   "cell_type": "code",
   "execution_count": 284,
   "metadata": {},
   "outputs": [],
   "source": [
    "w2 = Matrix([7 + np.sqrt(49+36),6])          "
   ]
  },
  {
   "cell_type": "code",
   "execution_count": 290,
   "metadata": {},
   "outputs": [],
   "source": [
    "B2 = np.eye(4)\n",
    "B2[2:,2:] = H(w2)\n"
   ]
  },
  {
   "cell_type": "code",
   "execution_count": 299,
   "metadata": {},
   "outputs": [],
   "source": [
    " T  = (B2 @ B) @ Matrix(A) @ (B2 @ B).T"
   ]
  },
  {
   "cell_type": "code",
   "execution_count": 300,
   "metadata": {},
   "outputs": [
    {
     "data": {
      "text/latex": [
       "$\\displaystyle \\left[\\begin{matrix}2.0 & -3.0 & -4.44089209850063 \\cdot 10^{-16} & 0\\\\-3.0 & 1.0 & -4.88093530091976 & 1.08465228909328\\\\-4.44089209850063 \\cdot 10^{-16} & -4.88093530091976 & -11.4705882352941 & 0.882352941176471\\\\0 & 1.08465228909328 & 0.88235294117647 & 6.47058823529412\\end{matrix}\\right]$"
      ],
      "text/plain": [
       "Matrix([\n",
       "[                  2.0,              -3.0, -4.44089209850063e-16,                 0],\n",
       "[                 -3.0,               1.0,     -4.88093530091976,  1.08465228909328],\n",
       "[-4.44089209850063e-16, -4.88093530091976,     -11.4705882352941, 0.882352941176471],\n",
       "[                    0,  1.08465228909328,      0.88235294117647,  6.47058823529412]])"
      ]
     },
     "execution_count": 300,
     "metadata": {},
     "output_type": "execute_result"
    }
   ],
   "source": [
    "T"
   ]
  },
  {
   "cell_type": "markdown",
   "metadata": {},
   "source": [
    "3b)"
   ]
  },
  {
   "cell_type": "code",
   "execution_count": 115,
   "metadata": {},
   "outputs": [
    {
     "data": {
      "text/plain": [
       "1.3225359463694368"
      ]
     },
     "execution_count": 115,
     "metadata": {},
     "output_type": "execute_result"
    }
   ],
   "source": [
    "np.arccos(4/np.sqrt(4**4 + 3**2))"
   ]
  },
  {
   "cell_type": "code",
   "execution_count": 135,
   "metadata": {},
   "outputs": [],
   "source": [
    "r = pi - np.arccos(4/np.sqrt(4**4 + 3**2)) "
   ]
  },
  {
   "cell_type": "code",
   "execution_count": 147,
   "metadata": {},
   "outputs": [
    {
     "data": {
      "text/plain": [
       "1.3225359463694368"
      ]
     },
     "execution_count": 147,
     "metadata": {},
     "output_type": "execute_result"
    }
   ],
   "source": [
    "np.arccos(4/np.sqrt(4**4 + 3**2))"
   ]
  },
  {
   "cell_type": "markdown",
   "metadata": {},
   "source": [
    "np.arcsin(-3/np.sqrt(4**4 + 3**2))"
   ]
  },
  {
   "cell_type": "code",
   "execution_count": 170,
   "metadata": {},
   "outputs": [],
   "source": [
    "r = arg(4-3*I)"
   ]
  },
  {
   "cell_type": "code",
   "execution_count": 171,
   "metadata": {},
   "outputs": [],
   "source": [
    "def givens(p,q,r):\n",
    "    A = np.eye(3)\n",
    "    A[p][p] = cos(r)\n",
    "    A[q][q] = cos(r)\n",
    "    A[q][p] = -sin(r)\n",
    "    A[p][q] = sin(r)\n",
    "    return A"
   ]
  },
  {
   "cell_type": "code",
   "execution_count": 172,
   "metadata": {},
   "outputs": [],
   "source": [
    "G_1 = givens(0,1,r)"
   ]
  },
  {
   "cell_type": "code",
   "execution_count": 191,
   "metadata": {},
   "outputs": [],
   "source": [
    "r2 = arg(5 + 1*I)"
   ]
  },
  {
   "cell_type": "code",
   "execution_count": 192,
   "metadata": {},
   "outputs": [],
   "source": [
    "G_2 = givens(0,2,r2)"
   ]
  },
  {
   "cell_type": "code",
   "execution_count": 194,
   "metadata": {},
   "outputs": [],
   "source": [
    "v1 = G_2 @ (G_1 @ np.array([4,-3,1]))"
   ]
  },
  {
   "cell_type": "code",
   "execution_count": 196,
   "metadata": {},
   "outputs": [
    {
     "data": {
      "text/plain": [
       "array([ 5.09901951e+00, -4.44089210e-16, -1.11022302e-16])"
      ]
     },
     "execution_count": 196,
     "metadata": {},
     "output_type": "execute_result"
    }
   ],
   "source": [
    "v1 "
   ]
  },
  {
   "cell_type": "code",
   "execution_count": 228,
   "metadata": {},
   "outputs": [
    {
     "data": {
      "text/plain": [
       "array([[ 2,  1,  2,  2],\n",
       "       [ 1, -7,  6,  5],\n",
       "       [ 2,  6,  2, -5],\n",
       "       [ 2,  5, -5,  1]])"
      ]
     },
     "execution_count": 228,
     "metadata": {},
     "output_type": "execute_result"
    }
   ],
   "source": [
    "A"
   ]
  },
  {
   "cell_type": "code",
   "execution_count": 233,
   "metadata": {},
   "outputs": [
    {
     "data": {
      "text/plain": [
       "array([[-7,  6,  5],\n",
       "       [ 6,  2, -5],\n",
       "       [ 5, -5,  1]])"
      ]
     },
     "execution_count": 233,
     "metadata": {},
     "output_type": "execute_result"
    }
   ],
   "source": [
    "A[1:,1:]\n"
   ]
  },
  {
   "cell_type": "markdown",
   "metadata": {},
   "source": [
    "qr-algorithm\n"
   ]
  },
  {
   "cell_type": "code",
   "execution_count": 319,
   "metadata": {},
   "outputs": [],
   "source": [
    "def QR_alg(A):\n",
    "    k = A.shape[0]\n",
    "    i = 0\n",
    "    while(i < 100):\n",
    "        Q,R = np.linalg.qr(A)\n",
    "        A = R@Q\n",
    "        delta = np.max ( np.sort(np.diag(A)) - np.sort(np.linalg.eig(A)[0]) ) #cauchy?\n",
    "        if delta <= 10**-10:\n",
    "            \n",
    "            break\n",
    "        i += 1\n",
    "       \n",
    "        \n",
    "    return i"
   ]
  },
  {
   "cell_type": "code",
   "execution_count": 320,
   "metadata": {},
   "outputs": [
    {
     "data": {
      "text/plain": [
       "42"
      ]
     },
     "execution_count": 320,
     "metadata": {},
     "output_type": "execute_result"
    }
   ],
   "source": [
    "QR_alg(A)"
   ]
  },
  {
   "cell_type": "code",
   "execution_count": null,
   "metadata": {},
   "outputs": [],
   "source": []
  },
  {
   "cell_type": "markdown",
   "metadata": {},
   "source": [
    "(c) (P) Now define a tolerance, e.g., τ = 10−10. Introduce a stopping criterion in your <br>\n",
    "code, causing it to stop when the maximal difference between the true eigenvalues of <br>\n",
    "A and the diagonal entries of Ak is smaller than τ .\n"
   ]
  },
  {
   "cell_type": "code",
   "execution_count": 238,
   "metadata": {},
   "outputs": [
    {
     "data": {
      "text/plain": [
       "array([[-1.32910295e+001,  2.36545420e-015,  4.59736605e-015,\n",
       "        -7.82600634e-016],\n",
       "       [-3.88316009e-028,  6.78968886e+000, -3.27876064e-013,\n",
       "         8.96006601e-016],\n",
       "       [ 9.03702242e-042, -3.26552490e-013,  5.00000000e+000,\n",
       "         3.06816057e-017],\n",
       "       [ 1.98925722e-141, -8.88950243e-113, -6.74281199e-100,\n",
       "        -4.98659411e-001]])"
      ]
     },
     "execution_count": 238,
     "metadata": {},
     "output_type": "execute_result"
    }
   ],
   "source": [
    "QR_alg(A)"
   ]
  },
  {
   "cell_type": "code",
   "execution_count": 326,
   "metadata": {},
   "outputs": [
    {
     "data": {
      "image/png": "[encoded data removed]",
      "text/plain": [
       "<Figure size 432x288 with 1 Axes>"
      ]
     },
     "metadata": {
      "needs_background": "light"
     },
     "output_type": "display_data"
    }
   ],
   "source": [
    "import matplotlib.pyplot as plt\n",
    "fig, axs = plt.subplots(1)\n",
    "points = np.linspace(0,1,20)\n",
    "for r in points:\n",
    "    A = np.array([[1,r],[r,1]])\n",
    "\n",
    "    axs.set_xlabel(\"r\")\n",
    "    axs.plot(r, QR_alg(A),\"bo\")"
   ]
  },
  {
   "cell_type": "markdown",
   "metadata": {},
   "source": [
    "(d) (P) Use your code with the matrix given for at least five values of r ∈ (0, 1) and make <br>\n",
    "a plot with r versus the number of iterations needed to achieve the given tolerance.<br>\n",
    "Explain your findings by examining the ratio between the eigenvalues of A using (a)"
   ]
  },
  {
   "cell_type": "code",
   "execution_count": null,
   "metadata": {},
   "outputs": [],
   "source": []
  }
 ],
 "metadata": {
  "kernelspec": {
   "display_name": "Python 3",
   "language": "python",
   "name": "python3"
  },
  "language_info": {
   "codemirror_mode": {
    "name": "ipython",
    "version": 3
   },
   "file_extension": ".py",
   "mimetype": "text/x-python",
   "name": "python",
   "nbconvert_exporter": "python",
   "pygments_lexer": "ipython3",
   "version": "3.9.12"
  }
 },
 "nbformat": 4,
 "nbformat_minor": 2
}
