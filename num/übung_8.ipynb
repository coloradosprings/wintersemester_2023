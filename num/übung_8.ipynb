{
 "cells": [
  {
   "cell_type": "markdown",
   "metadata": {},
   "source": [
    "1)"
   ]
  },
  {
   "cell_type": "markdown",
   "metadata": {},
   "source": [
    "Sei $x$ Eigenvektor mit Eigenwert $\\beta$ "
   ]
  },
  {
   "cell_type": "markdown",
   "metadata": {},
   "source": [
    "$$ (x^*\\beta\\ x)^* = (x^*Ax)^* = (x^* A ^* x) = (x^*Ax) = (x^* \\beta x) \\Rightarrow\\ \\beta\\ ^* = \\beta\\  $$ \n"
   ]
  },
  {
   "cell_type": "markdown",
   "metadata": {},
   "source": [
    "Seien $v,w$ verschiedene Eigenvektoren und  $\\beta,\\gamma$ respektive Eigenwerte.\n"
   ]
  },
  {
   "cell_type": "markdown",
   "metadata": {},
   "source": [
    " $$ \\beta\\ v^*  w = v^*Aw = A^*v^*w =Av^*w = \\gamma\\ v^*w  \\Rightarrow\\ (\\beta\\ - \\gamma\\ )(v^*w ) = 0   $$ "
   ]
  },
  {
   "cell_type": "markdown",
   "metadata": {},
   "source": [
    "2."
   ]
  },
  {
   "cell_type": "code",
   "execution_count": null,
   "metadata": {},
   "outputs": [],
   "source": [
    "import numpy as np\n",
    "from sympy import *\n",
    "from to_m import str_to_m"
   ]
  },
  {
   "cell_type": "code",
   "execution_count": null,
   "metadata": {},
   "outputs": [
    {
     "data": {
      "text/plain": [
       "'[[-2,1,4],[1,1,1],[4,1,-2]]'"
      ]
     },
     "execution_count": 2,
     "metadata": {},
     "output_type": "execute_result"
    }
   ],
   "source": [
    "str_to_m('''−2 1 4\n",
    "1 1 1\n",
    "4 1 −2''')"
   ]
  },
  {
   "cell_type": "code",
   "execution_count": null,
   "metadata": {},
   "outputs": [],
   "source": [
    "A = np.array([[-2,1,4],[1,1,1],[4,1,-2]])\n",
    "normed = lambda x:  x/np.linalg.norm(x,ord=2)"
   ]
  },
  {
   "cell_type": "markdown",
   "metadata": {},
   "source": [
    "2a)"
   ]
  },
  {
   "cell_type": "code",
   "execution_count": null,
   "metadata": {},
   "outputs": [],
   "source": [
    "def power_method(A,x0,iterates = 0):\n",
    "\n",
    " \n",
    "    x = x0\n",
    "    for k in range(iterates):\n",
    "        print(k,\" : \",x)\n",
    "        x = A @ x\n",
    "    return normed(x)\n",
    "    \n",
    "    \n",
    "        \n",
    "    "
   ]
  },
  {
   "cell_type": "code",
   "execution_count": null,
   "metadata": {},
   "outputs": [],
   "source": [
    "# initial values  \n",
    "# x0 = (1, 2, −1)T\n",
    "# and x0 = (1, 2, 1)T"
   ]
  },
  {
   "cell_type": "code",
   "execution_count": null,
   "metadata": {},
   "outputs": [],
   "source": [
    "x0 = [1, 2, -1]\n",
    "y0 = [1, 2, 1]"
   ]
  },
  {
   "cell_type": "code",
   "execution_count": null,
   "metadata": {},
   "outputs": [
    {
     "name": "stdout",
     "output_type": "stream",
     "text": [
      "0  :  [1, 2, -1]\n",
      "1  :  [-4  2  8]\n",
      "2  :  [ 42   6 -30]\n",
      "3  :  [-198   18  234]\n",
      "4  :  [ 1350    54 -1242]\n"
     ]
    },
    {
     "data": {
      "text/plain": [
       "array([-0.69215012,  0.0147266 ,  0.72160331])"
      ]
     },
     "execution_count": 7,
     "metadata": {},
     "output_type": "execute_result"
    }
   ],
   "source": [
    "power_method(A,x0,5)"
   ]
  },
  {
   "cell_type": "code",
   "execution_count": null,
   "metadata": {},
   "outputs": [
    {
     "name": "stdout",
     "output_type": "stream",
     "text": [
      "0  :  [1, 2, 1]\n",
      "1  :  [4 4 4]\n",
      "2  :  [12 12 12]\n",
      "3  :  [36 36 36]\n",
      "4  :  [108 108 108]\n"
     ]
    },
    {
     "data": {
      "text/plain": [
       "array([0.57735027, 0.57735027, 0.57735027])"
      ]
     },
     "execution_count": 8,
     "metadata": {},
     "output_type": "execute_result"
    }
   ],
   "source": [
    "power_method(A,y0,5)"
   ]
  },
  {
   "cell_type": "markdown",
   "metadata": {},
   "source": [
    "calculate ew with numpy"
   ]
  },
  {
   "cell_type": "code",
   "execution_count": null,
   "metadata": {},
   "outputs": [],
   "source": [
    "V = np.linalg.eig(A)[1]"
   ]
  },
  {
   "cell_type": "code",
   "execution_count": null,
   "metadata": {},
   "outputs": [
    {
     "name": "stdout",
     "output_type": "stream",
     "text": [
      "[ 0.7 -0.  -0.7]\n",
      "[-0.6 -0.6 -0.6]\n",
      "[ 0.4 -0.8  0.4]\n"
     ]
    }
   ],
   "source": [
    "for i in range(3):\n",
    "    print(np.round(V[:,i],1))\n",
    "    # print(np.linalg.norm((V[:,i])),i)"
   ]
  },
  {
   "cell_type": "code",
   "execution_count": null,
   "metadata": {},
   "outputs": [
    {
     "data": {
      "text/plain": [
       "array([-6.,  3.,  0.])"
      ]
     },
     "execution_count": 11,
     "metadata": {},
     "output_type": "execute_result"
    }
   ],
   "source": [
    "#eigenvalues\n",
    "np.round(np.linalg.eig(A)[0])"
   ]
  },
  {
   "cell_type": "code",
   "execution_count": null,
   "metadata": {},
   "outputs": [],
   "source": [
    "#xo converges to lambda 1\n",
    "#y0 converges to lambda 2 "
   ]
  },
  {
   "cell_type": "code",
   "execution_count": null,
   "metadata": {},
   "outputs": [
    {
     "data": {
      "text/plain": [
       "-0.0"
      ]
     },
     "execution_count": 13,
     "metadata": {},
     "output_type": "execute_result"
    }
   ],
   "source": [
    "#y0 is orth to v1\n",
    "np.round(V[:,0].T @ y0)"
   ]
  },
  {
   "cell_type": "code",
   "execution_count": null,
   "metadata": {},
   "outputs": [
    {
     "data": {
      "text/plain": [
       "[1, 2, -1]"
      ]
     },
     "execution_count": 14,
     "metadata": {},
     "output_type": "execute_result"
    }
   ],
   "source": [
    "x0"
   ]
  },
  {
   "cell_type": "markdown",
   "metadata": {},
   "source": [
    "b)"
   ]
  },
  {
   "cell_type": "code",
   "execution_count": null,
   "metadata": {},
   "outputs": [],
   "source": [
    "def power_method_silent(A,x0,iterates = 0):\n",
    "    x = x0\n",
    "    for k in range(iterates):\n",
    "        x = A @ x\n",
    "    \n",
    "    return normed(x)\n",
    "    "
   ]
  },
  {
   "cell_type": "code",
   "execution_count": null,
   "metadata": {},
   "outputs": [
    {
     "data": {
      "text/plain": [
       "0.0001"
      ]
     },
     "execution_count": 16,
     "metadata": {},
     "output_type": "execute_result"
    }
   ],
   "source": [
    "1e-04"
   ]
  },
  {
   "cell_type": "code",
   "execution_count": null,
   "metadata": {},
   "outputs": [
    {
     "name": "stdout",
     "output_type": "stream",
     "text": [
      "[-0.69215012  0.0147266   0.72160331] 5\n",
      "[0.57735027 0.57735027 0.57735027]\n",
      "\n",
      "\n",
      "[0.57735027 0.57735027 0.57735027] 5\n",
      "[0.57735027 0.57735027 0.57735027]\n",
      "\n",
      "\n"
     ]
    }
   ],
   "source": [
    "for x in [x0,y0]:\n",
    "    print(power_method_silent(A,x,5),\"5\")\n",
    "    print(power_method_silent(A,x,iterates=100))\n",
    "    print(\"\\n\")"
   ]
  },
  {
   "cell_type": "code",
   "execution_count": null,
   "metadata": {},
   "outputs": [],
   "source": [
    "def power_method_silent(A,x0,iterates = 0):\n",
    "    x = x0\n",
    "    for k in range(iterates):\n",
    "        z = V[:,0].T @ x\n",
    "        if(abs(z) < 1e-04):\n",
    "            print(k)\n",
    "        x = A @ x\n",
    "    \n",
    "    return normed(x)"
   ]
  },
  {
   "cell_type": "code",
   "execution_count": null,
   "metadata": {},
   "outputs": [
    {
     "name": "stdout",
     "output_type": "stream",
     "text": [
      "31\n",
      "32\n",
      "33\n",
      "34\n",
      "35\n",
      "36\n",
      "37\n",
      "38\n",
      "39\n",
      "40\n",
      "41\n",
      "42\n",
      "43\n",
      "44\n",
      "45\n",
      "46\n",
      "47\n",
      "48\n",
      "49\n",
      "[-0.57735027 -0.57735027 -0.57735027]\n"
     ]
    }
   ],
   "source": [
    "print(power_method_silent(A,x0,iterates=50))"
   ]
  },
  {
   "cell_type": "code",
   "execution_count": null,
   "metadata": {},
   "outputs": [
    {
     "data": {
      "text/plain": [
       "0.0"
      ]
     },
     "execution_count": 20,
     "metadata": {},
     "output_type": "execute_result"
    }
   ],
   "source": [
    "V[:,0].T @ (A**31 @ x0)"
   ]
  },
  {
   "cell_type": "code",
   "execution_count": null,
   "metadata": {},
   "outputs": [
    {
     "data": {
      "text/plain": [
       "16"
      ]
     },
     "execution_count": 21,
     "metadata": {},
     "output_type": "execute_result"
    }
   ],
   "source": [
    "np.array(x).T @ A @ x"
   ]
  },
  {
   "cell_type": "code",
   "execution_count": null,
   "metadata": {},
   "outputs": [
    {
     "data": {
      "text/plain": [
       "3"
      ]
     },
     "execution_count": 22,
     "metadata": {},
     "output_type": "execute_result"
    }
   ],
   "source": [
    "np.shape(A)[0]"
   ]
  },
  {
   "cell_type": "code",
   "execution_count": null,
   "metadata": {},
   "outputs": [],
   "source": [
    "ev_inv = []\n",
    "ev_iter =  []\n",
    "\n",
    "ew_inv =  []\n",
    "\n",
    "rayleigh = lambda y: (y.T @ A @ y ) / (y.T @ y)\n",
    "def inverse_power_method(A,x0,iterates = 0):\n",
    "    m = np.shape(A)[0]\n",
    "    \n",
    "    x = x0\n",
    "    for k in range(iterates):\n",
    "        theta = rayleigh(x)\n",
    "        if np.linalg.det(A - np.eye(m)*theta) < 0.001: break\n",
    "        x = np.linalg.inv(A - np.eye(m)*theta) @ x\n",
    "        ev_inv.append(x)\n",
    "        ew_inv.append(theta)\n",
    "        \n",
    "    return normed(x)\n",
    "def power_method_silent(A,x0,iterates = 0):\n",
    "    x = x0\n",
    "    for k in range(iterates):\n",
    "        \n",
    "        ev_iter.append(x)\n",
    "        x = A @ x\n",
    "    \n",
    "    return normed(x)\n",
    "    \n",
    "        \n",
    "    "
   ]
  },
  {
   "cell_type": "markdown",
   "metadata": {},
   "source": [
    "Run for 50 iterations (or as long as your code\n",
    "doesn’t stop due to near-singularity of the matrix) and record the (absolute) error\n",
    "in Eigenvalue and Eigenvector to the real values"
   ]
  },
  {
   "cell_type": "code",
   "execution_count": null,
   "metadata": {},
   "outputs": [],
   "source": [
    "A = np.random.random_sample((5,5)) \n",
    "x0 = np.random.random_sample(5)"
   ]
  },
  {
   "cell_type": "code",
   "execution_count": null,
   "metadata": {},
   "outputs": [],
   "source": [
    "A = np.maximum( A, A.transpose() )+ np.eye(5) * 10"
   ]
  },
  {
   "cell_type": "code",
   "execution_count": null,
   "metadata": {},
   "outputs": [
    {
     "data": {
      "text/plain": [
       "array([0.33371477, 0.36221725, 0.46326326, 0.57310602, 0.46300081])"
      ]
     },
     "execution_count": 52,
     "metadata": {},
     "output_type": "execute_result"
    }
   ],
   "source": [
    "inverse_power_method(A,x0,50)\n",
    "power_method_silent(A,x0,50)"
   ]
  },
  {
   "cell_type": "code",
   "execution_count": null,
   "metadata": {},
   "outputs": [
    {
     "name": "stdout",
     "output_type": "stream",
     "text": [
      "[-0.3 -0.4 -0.5 -0.6 -0.5]\n",
      "[-0.7 -0.4  0.4  0.4 -0.1]\n",
      "[-0.5  0.8 -0.   0.  -0.2]\n",
      "[ 0.3 -0.  -0.2  0.6 -0.7]\n",
      "[ 0.2  0.   0.8 -0.4 -0.5]\n"
     ]
    }
   ],
   "source": [
    "V = np.linalg.eig(A)[1]\n",
    "for i in range(5):\n",
    "    print(np.round(V[:,i],1))\n",
    "    # print(np.linalg.norm((V[:,i])),i)"
   ]
  },
  {
   "cell_type": "code",
   "execution_count": null,
   "metadata": {},
   "outputs": [
    {
     "data": {
      "text/plain": [
       "array([13.52885863,  9.1434799 , 10.23118223,  9.85806141,  9.51396392])"
      ]
     },
     "execution_count": 54,
     "metadata": {},
     "output_type": "execute_result"
    }
   ],
   "source": [
    "np.linalg.eig(A)[0]"
   ]
  },
  {
   "cell_type": "code",
   "execution_count": null,
   "metadata": {},
   "outputs": [],
   "source": [
    "#index 0 max lambda"
   ]
  },
  {
   "cell_type": "markdown",
   "metadata": {},
   "source": [
    "iii. Plot your results in two figures (one for error in Eigenvalue, one for error in\n",
    "Eigenvector), with log(error) on the y-axis and the iteration number on the x\u0002axis. Discuss your findings."
   ]
  },
  {
   "cell_type": "code",
   "execution_count": null,
   "metadata": {},
   "outputs": [],
   "source": [
    "import matplotlib.pyplot as plt"
   ]
  },
  {
   "cell_type": "code",
   "execution_count": null,
   "metadata": {},
   "outputs": [],
   "source": [
    "v1 = np.linalg.eig(A)[1][0]"
   ]
  },
  {
   "cell_type": "code",
   "execution_count": null,
   "metadata": {},
   "outputs": [],
   "source": [
    "error = lambda x : np.sqrt( np.sum(x**2) )"
   ]
  },
  {
   "cell_type": "code",
   "execution_count": null,
   "metadata": {},
   "outputs": [
    {
     "data": {
      "text/plain": [
       "6"
      ]
     },
     "execution_count": 59,
     "metadata": {},
     "output_type": "execute_result"
    }
   ],
   "source": [
    "ev_inv.__len__()"
   ]
  },
  {
   "cell_type": "code",
   "execution_count": null,
   "metadata": {},
   "outputs": [],
   "source": [
    "max_lambda = np.linalg.eig(A)[0][0]"
   ]
  },
  {
   "cell_type": "code",
   "execution_count": null,
   "metadata": {},
   "outputs": [
    {
     "data": {
      "text/plain": [
       "[<matplotlib.lines.Line2D at 0x231bb61d1f0>]"
      ]
     },
     "execution_count": 64,
     "metadata": {},
     "output_type": "execute_result"
    },
    {
     "data": {
      "image/png": "[encoded data removed]",
      "text/plain": [
       "<Figure size 432x288 with 2 Axes>"
      ]
     },
     "metadata": {
      "needs_background": "light"
     },
     "output_type": "display_data"
    }
   ],
   "source": [
    "points = [k for k in range(ev_inv.__len__())]\n",
    "fig, axs = plt.subplots(2)\n",
    "axs[0].set_xlabel(\"k\")\n",
    "axs[0].set_ylabel(\"eigenvalues\")\n",
    "axs[0].plot(points, [x - max_lambda for x in ew_inv],\"r\")\n",
    "\n",
    "axs[1].set_yscale('log')\n",
    "axs[1].set_xlabel(\"k\")\n",
    "axs[1].set_ylabel(\"eigenvector\")\n",
    "axs[1].plot(points, [error(x) for x in ev_inv])\n",
    "#axs[1].plot(np.linspace(1,50,50), [error(x) for x in ev_iter],\"r\")\n",
    "\n"
   ]
  },
  {
   "cell_type": "code",
   "execution_count": null,
   "metadata": {},
   "outputs": [],
   "source": []
  },
  {
   "cell_type": "markdown",
   "metadata": {},
   "source": [
    " Wenden Sie Ihren Code aus 2(a) für symmetrische Matrizen A mit verschiedenen\n",
    "|λ2/λ1| an und plotten Sie log(ek) gegen k. Was beobachten Sie?"
   ]
  },
  {
   "cell_type": "code",
   "execution_count": null,
   "metadata": {},
   "outputs": [],
   "source": [
    "\n",
    "\n",
    "def random_iteration(A,iterations = 0):\n",
    "    dim = A.shape[0]\n",
    "    index = np.argmax(np.abs(np.linalg.eig(A)[0]))\n",
    "    \n",
    "    v = np.linalg.eig(A)[1][:,index]\n",
    "    error = lambda x : np.min([ np.linalg.norm(x - v,2),np.linalg.norm(x + v,2) ])\n",
    "    \n",
    "    xo = np.random.random_sample(dim)\n",
    "    ev = []\n",
    "    \n",
    "    def power_method(A,x0 = xo,iterations = iterations):\n",
    "\n",
    "    \n",
    "        x = x0\n",
    "        for k in range(iterations):\n",
    "            # print(k,\" : \",x)\n",
    "            x = A @ x\n",
    "            ev.append(error(x))\n",
    "        return normed(x)\n",
    "    \n",
    "    power_method(A)\n",
    "    points = [k for k in range(ev.__len__())]\n",
    "    fig, axs = plt.subplots(1)\n",
    "\n",
    "    # axs.set_yscale('log')\n",
    "    axs.set_xlabel(\"k\")\n",
    "    axs.plot(points, [np.log(error(x)) for x in ev])\n",
    "    axs.legend(\"e\")\n",
    "    return"
   ]
  },
  {
   "cell_type": "code",
   "execution_count": null,
   "metadata": {},
   "outputs": [
    {
     "name": "stdout",
     "output_type": "stream",
     "text": [
      "dimension  4\n",
      "dimension  5\n",
      "dimension  6\n"
     ]
    },
    {
     "data": {
      "image/png": "[encoded data removed]",
      "text/plain": [
       "<Figure size 432x288 with 1 Axes>"
      ]
     },
     "metadata": {
      "needs_background": "light"
     },
     "output_type": "display_data"
    },
    {
     "data": {
      "image/png": "[encoded data removed]",
      "text/plain": [
       "<Figure size 432x288 with 1 Axes>"
      ]
     },
     "metadata": {
      "needs_background": "light"
     },
     "output_type": "display_data"
    },
    {
     "data": {
      "image/png": "[encoded data removed]",
      "text/plain": [
       "<Figure size 432x288 with 1 Axes>"
      ]
     },
     "metadata": {
      "needs_background": "light"
     },
     "output_type": "display_data"
    }
   ],
   "source": [
    "for k in range(4,7):\n",
    "    print(\"dimension \",k)\n",
    "    A = np.random.random_sample((k,k)) * 10\n",
    "    A = np.maximum( A, A.transpose() )\n",
    "    random_iteration(A,40)\n"
   ]
  },
  {
   "cell_type": "code",
   "execution_count": null,
   "metadata": {},
   "outputs": [
    {
     "data": {
      "text/plain": [
       "0.9085808367006359"
      ]
     },
     "execution_count": 82,
     "metadata": {},
     "output_type": "execute_result"
    }
   ],
   "source": []
  },
  {
   "cell_type": "markdown",
   "metadata": {},
   "source": [
    "3b)\n",
    "(b) Für ein geeignetes k-Intervall, bestimmen Sie nun µ numerisch durch einen Kleinste\n",
    "Quadrate Fit zu (1) und vergleichen Sie den Wert mit |λ2/λ1|.\n",
    "\n"
   ]
  },
  {
   "cell_type": "code",
   "execution_count": null,
   "metadata": {},
   "outputs": [],
   "source": [
    "\n",
    "\n",
    "def random_iteration_silent(A,iterations = 0):\n",
    "    dim = A.shape[0]\n",
    "    index = np.argmax(np.abs(np.linalg.eig(A)[0]))\n",
    "    \n",
    "    v = np.linalg.eig(A)[1][:,index]\n",
    "    error = lambda x : np.min([ np.linalg.norm(x - v,2),np.linalg.norm(x + v,2) ])\n",
    "    \n",
    "    xo = np.random.random_sample(dim)\n",
    "    ev = []\n",
    "    \n",
    "    def power_method(A,x0 = xo,iterations = iterations):\n",
    "\n",
    "    \n",
    "        x = x0\n",
    "        for k in range(iterations):\n",
    "            # print(k,\" : \",x)\n",
    "            x = A @ x\n",
    "            ev.append(error(normed(x)))\n",
    "        return normed(x)\n",
    "    \n",
    "    power_method(A)\n",
    "\n",
    "    return ev[-1]"
   ]
  },
  {
   "cell_type": "code",
   "execution_count": null,
   "metadata": {},
   "outputs": [],
   "source": [
    "\n",
    "A = np.random.random_sample((5,5)) ** 10\n",
    "A = np.maximum( A, A.transpose() )"
   ]
  },
  {
   "cell_type": "code",
   "execution_count": null,
   "metadata": {},
   "outputs": [],
   "source": []
  },
  {
   "cell_type": "code",
   "execution_count": null,
   "metadata": {},
   "outputs": [],
   "source": [
    "e_40 = random_iteration_silent(A,40)"
   ]
  },
  {
   "cell_type": "code",
   "execution_count": null,
   "metadata": {},
   "outputs": [
    {
     "data": {
      "text/plain": [
       "3.650317651107842"
      ]
     },
     "execution_count": 122,
     "metadata": {},
     "output_type": "execute_result"
    }
   ],
   "source": [
    "e_40"
   ]
  },
  {
   "cell_type": "code",
   "execution_count": null,
   "metadata": {},
   "outputs": [],
   "source": [
    "from sympy import *\n",
    "c = Symbol(\"c\")"
   ]
  },
  {
   "cell_type": "code",
   "execution_count": null,
   "metadata": {},
   "outputs": [],
   "source": [
    "y = (log(e_40) - log(c))/40"
   ]
  },
  {
   "cell_type": "code",
   "execution_count": null,
   "metadata": {},
   "outputs": [
    {
     "data": {
      "text/latex": [
       "$\\displaystyle 0.0323703547877122 - \\frac{\\log{\\left(c \\right)}}{40}$"
      ],
      "text/plain": [
       "0.0323703547877122 - log(c)/40"
      ]
     },
     "execution_count": 127,
     "metadata": {},
     "output_type": "execute_result"
    }
   ],
   "source": [
    "y"
   ]
  },
  {
   "cell_type": "code",
   "execution_count": null,
   "metadata": {},
   "outputs": [
    {
     "data": {
      "text/latex": [
       "$\\displaystyle \\frac{1.03289997392678}{\\sqrt[40]{c}}$"
      ],
      "text/plain": [
       "1.03289997392678/c**(1/40)"
      ]
     },
     "execution_count": 128,
     "metadata": {},
     "output_type": "execute_result"
    }
   ],
   "source": [
    "E**y # = mu"
   ]
  },
  {
   "cell_type": "code",
   "execution_count": null,
   "metadata": {},
   "outputs": [
    {
     "data": {
      "text/plain": [
       "array([1.04020457, 0.87588819, 0.18418187, 0.26882039, 0.32843657])"
      ]
     },
     "execution_count": 132,
     "metadata": {},
     "output_type": "execute_result"
    }
   ],
   "source": [
    "np.abs(np.linalg.eig(A)[0])"
   ]
  },
  {
   "cell_type": "code",
   "execution_count": null,
   "metadata": {},
   "outputs": [
    {
     "data": {
      "text/plain": [
       "0.8420345574683088"
      ]
     },
     "execution_count": 133,
     "metadata": {},
     "output_type": "execute_result"
    }
   ],
   "source": [
    "np.abs(np.linalg.eig(A)[0])[1] / np.abs(np.linalg.eig(A)[0])[0] # = | λ2/λ1 |"
   ]
  },
  {
   "cell_type": "code",
   "execution_count": null,
   "metadata": {},
   "outputs": [],
   "source": []
  }
 ],
 "metadata": {
  "kernelspec": {
   "display_name": "Python 3",
   "language": "python",
   "name": "python3"
  },
  "language_info": {
   "codemirror_mode": {
    "name": "ipython",
    "version": 3
   },
   "file_extension": ".py",
   "mimetype": "text/x-python",
   "name": "python",
   "nbconvert_exporter": "python",
   "pygments_lexer": "ipython3",
   "version": "3.9.12"
  }
 },
 "nbformat": 4,
 "nbformat_minor": 2
}
