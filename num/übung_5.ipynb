{
 "cells": [
  {
   "cell_type": "code",
   "execution_count": 34,
   "metadata": {},
   "outputs": [],
   "source": [
    "import numpy as np"
   ]
  },
  {
   "cell_type": "code",
   "execution_count": 202,
   "metadata": {},
   "outputs": [
    {
     "data": {
      "text/plain": [
       "[-1, 0, 1, 2, 3]"
      ]
     },
     "execution_count": 202,
     "metadata": {},
     "output_type": "execute_result"
    }
   ],
   "source": [
    "e = [k for k in range(-1,4)]\n",
    "e"
   ]
  },
  {
   "cell_type": "code",
   "execution_count": 17,
   "metadata": {},
   "outputs": [
    {
     "data": {
      "text/plain": [
       "1e-18"
      ]
     },
     "execution_count": 17,
     "metadata": {},
     "output_type": "execute_result"
    }
   ],
   "source": [
    "1e-18"
   ]
  },
  {
   "cell_type": "code",
   "execution_count": 7,
   "metadata": {},
   "outputs": [
    {
     "name": "stdout",
     "output_type": "stream",
     "text": [
      "2.220446049250313e-16\n"
     ]
    }
   ],
   "source": [
    "print(np.finfo(float).eps)"
   ]
  },
  {
   "cell_type": "code",
   "execution_count": 10,
   "metadata": {},
   "outputs": [
    {
     "data": {
      "text/plain": [
       "1e-16"
      ]
     },
     "execution_count": 10,
     "metadata": {},
     "output_type": "execute_result"
    }
   ],
   "source": [
    "(1 - 1) + 10**-16"
   ]
  },
  {
   "cell_type": "code",
   "execution_count": 11,
   "metadata": {},
   "outputs": [
    {
     "data": {
      "text/plain": [
       "0.0"
      ]
     },
     "execution_count": 11,
     "metadata": {},
     "output_type": "execute_result"
    }
   ],
   "source": [
    "1 - ( 1 + 1e-16)"
   ]
  },
  {
   "cell_type": "code",
   "execution_count": 18,
   "metadata": {},
   "outputs": [
    {
     "data": {
      "text/plain": [
       "0.0625"
      ]
     },
     "execution_count": 18,
     "metadata": {},
     "output_type": "execute_result"
    }
   ],
   "source": [
    "1/16"
   ]
  },
  {
   "cell_type": "markdown",
   "metadata": {},
   "source": [
    "2c"
   ]
  },
  {
   "cell_type": "code",
   "execution_count": 3,
   "metadata": {},
   "outputs": [
    {
     "name": "stdout",
     "output_type": "stream",
     "text": [
      "0\n",
      "1\n",
      "2\n",
      "3\n",
      "- 0.07500000000000001\n",
      "4\n",
      "- 0.012500000000000011\n",
      "5\n",
      "6\n",
      "7\n",
      "- 0.004687500000000011\n",
      "8\n",
      "- 0.0007812500000000111\n",
      "9\n",
      "10\n",
      "11\n",
      "- 0.0002929687500000111\n",
      "12\n",
      "- 4.88281250000111e-05\n",
      "13\n",
      "14\n",
      "15\n",
      "- 1.8310546875011102e-05\n",
      "16\n",
      "- 3.0517578125111022e-06\n",
      "17\n",
      "18\n",
      "19\n",
      "- 1.1444091796986022e-06\n"
     ]
    }
   ],
   "source": [
    "rest = 0.2\n",
    "for k in range(0,20):\n",
    "    print(k)\n",
    "    if rest - 2**-k > 0:\n",
    "        rest = rest - 2**-k\n",
    "        print(\"-\",rest)"
   ]
  },
  {
   "cell_type": "code",
   "execution_count": 6,
   "metadata": {},
   "outputs": [
    {
     "name": "stdout",
     "output_type": "stream",
     "text": [
      "False\n",
      "False\n"
     ]
    }
   ],
   "source": [
    "for n in [0.2,1/2]:\n",
    "    print(0.1 * n + 0.1 * n + 0.1 * n == 0.3*n)"
   ]
  },
  {
   "cell_type": "code",
   "execution_count": 8,
   "metadata": {},
   "outputs": [
    {
     "data": {
      "text/plain": [
       "0.15000000000000002"
      ]
     },
     "execution_count": 8,
     "metadata": {},
     "output_type": "execute_result"
    }
   ],
   "source": [
    "n = 1/2\n",
    "0.1 * n + 0.1 * n + 0.1 * n"
   ]
  },
  {
   "cell_type": "markdown",
   "metadata": {},
   "source": [
    "3\n"
   ]
  },
  {
   "cell_type": "code",
   "execution_count": 13,
   "metadata": {},
   "outputs": [],
   "source": [
    "import scipy.linalg\n"
   ]
  },
  {
   "cell_type": "code",
   "execution_count": 20,
   "metadata": {},
   "outputs": [
    {
     "data": {
      "text/plain": [
       "(3, 3)"
      ]
     },
     "execution_count": 20,
     "metadata": {},
     "output_type": "execute_result"
    }
   ],
   "source": [
    "scipy.linalg.invhilbert(3).shape"
   ]
  },
  {
   "cell_type": "code",
   "execution_count": 17,
   "metadata": {},
   "outputs": [],
   "source": [
    "from sympy import *"
   ]
  },
  {
   "cell_type": "code",
   "execution_count": 122,
   "metadata": {},
   "outputs": [],
   "source": [
    "def mult(n):\n",
    "    return (scipy.linalg.hilbert(n)) @ ( (scipy.linalg.invhilbert(n)) @ (np.ones(n)) )"
   ]
  },
  {
   "cell_type": "code",
   "execution_count": 136,
   "metadata": {},
   "outputs": [],
   "source": [
    "def norm(x,y):\n",
    "    z = x -y\n",
    "    z = z ** 2\n",
    "    return np.sqrt(z)"
   ]
  },
  {
   "cell_type": "code",
   "execution_count": 123,
   "metadata": {},
   "outputs": [],
   "source": [
    "H_5 = mult(5)\n",
    "H_10 = mult(10)\n",
    "H_20 = mult(20)"
   ]
  },
  {
   "cell_type": "code",
   "execution_count": 135,
   "metadata": {},
   "outputs": [
    {
     "data": {
      "text/plain": [
       "array([-4.29696977, -3.78787881, -3.36829837, -3.01648352, -2.7172161 ,\n",
       "       -2.45952381, -2.23529413, -2.03839868, -1.86412106, -1.70877196,\n",
       "       -1.56942356, -1.44372292, -1.3297572 ])"
      ]
     },
     "execution_count": 135,
     "metadata": {},
     "output_type": "execute_result"
    }
   ],
   "source": [
    "mult(13)"
   ]
  },
  {
   "cell_type": "code",
   "execution_count": 213,
   "metadata": {},
   "outputs": [
    {
     "name": "stdout",
     "output_type": "stream",
     "text": [
      "[]\n",
      "[0.00000000e+00 0.00000000e+00 1.42108547e-14 0.00000000e+00\n",
      " 0.00000000e+00]\n",
      "[0.00000000e+00 0.00000000e+00 1.16415322e-10 0.00000000e+00\n",
      " 2.91038305e-11 2.91038305e-11 1.16415322e-10 0.00000000e+00\n",
      " 0.00000000e+00 0.00000000e+00]\n",
      "[4678.8663342  4289.48443604 3959.22219968 3675.76934767 3429.94091201\n",
      " 3214.77296579 3024.9022826  2856.13759851 2705.15927505 2569.30567312\n",
      " 2446.41880667 2334.73119318 2232.78169227 2139.3521322  2053.41895878]\n",
      "[2.37319672e+11 2.22180924e+11 2.08861754e+11 1.97052510e+11\n",
      " 1.86509983e+11 1.77040524e+11 1.68488051e+11 1.60725360e+11\n",
      " 1.53647747e+11 1.47168247e+11 1.41214024e+11 1.35723617e+11\n",
      " 1.30644801e+11 1.25932913e+11 1.21549533e+11 1.17461427e+11\n",
      " 1.13639701e+11 1.10059116e+11 1.06697525e+11 1.03535416e+11]\n"
     ]
    }
   ],
   "source": [
    "#eucld(x -y)\n",
    "for k in range(0,21,5):\n",
    "    print(norm(mult(k), np.ones(k)))"
   ]
  },
  {
   "cell_type": "code",
   "execution_count": 108,
   "metadata": {},
   "outputs": [],
   "source": [
    "# def hilbert(y,n):\n",
    "#     for j in range(0,n ):\n",
    "#         sum = 0\n",
    "#         for i in range(0,n):\n",
    "            \n",
    "            \n",
    "#             sum += nsimplify(1/(j+i + 1)) * nsimplify(y[i])\n",
    "#         print(sum)\n",
    "#     return 0"
   ]
  },
  {
   "cell_type": "code",
   "execution_count": 236,
   "metadata": {},
   "outputs": [
    {
     "name": "stdout",
     "output_type": "stream",
     "text": [
      "5  |H| * |H**-1| =  476607.250242561\n",
      "10  |H| * |H**-1| =  16026286870216.885\n",
      "15  |H| * |H**-1| =  6.11656579161984e+20\n",
      "20  |H| * |H**-1| =  2.452156585815303e+28\n"
     ]
    }
   ],
   "source": [
    "for n in range(5,21,5):\n",
    "    k = np.linalg.norm(scipy.linalg.invhilbert(n),ord=2) * np.linalg.norm(scipy.linalg.hilbert(n),ord=2)\n",
    "    print(n,\" |H| * |H**-1| = \",k)"
   ]
  },
  {
   "cell_type": "markdown",
   "metadata": {},
   "source": [
    "<img src=\"./img/5diff.PNG\"><img>"
   ]
  },
  {
   "cell_type": "code",
   "execution_count": 158,
   "metadata": {},
   "outputs": [],
   "source": [
    "def approx(f,e):\n",
    "    k = 0\n",
    "    while(k <= 16):\n",
    "        k += 1\n",
    "        h = 10**-k\n",
    "        f_k = ( f(e + h) - f(e) ) / h\n",
    "        print(h)\n",
    "    return "
   ]
  },
  {
   "cell_type": "code",
   "execution_count": 159,
   "metadata": {},
   "outputs": [],
   "source": [
    "def f(x):\n",
    "    return np.exp(x) / ( np.cos(x)**3 + np.sin(x)**3)"
   ]
  },
  {
   "cell_type": "code",
   "execution_count": 186,
   "metadata": {},
   "outputs": [],
   "source": [
    "def approx_h(f,e,k):\n",
    "    h = 10**-k\n",
    "    f_k = ( f(e + h) - f(e) ) / h\n",
    "    return f_k"
   ]
  },
  {
   "cell_type": "code",
   "execution_count": null,
   "metadata": {},
   "outputs": [],
   "source": [
    "points = np.linspace(0,16,17)\n",
    "points"
   ]
  },
  {
   "cell_type": "code",
   "execution_count": 170,
   "metadata": {},
   "outputs": [],
   "source": [
    "import matplotlib.pyplot as plt"
   ]
  },
  {
   "cell_type": "code",
   "execution_count": 180,
   "metadata": {},
   "outputs": [],
   "source": [
    "x_o = 3.101766393836051"
   ]
  },
  {
   "cell_type": "code",
   "execution_count": 238,
   "metadata": {},
   "outputs": [
    {
     "data": {
      "text/plain": [
       "array([ 3.35690848,  2.76094902,  3.07034509,  3.0986605 ,  3.10145618,\n",
       "        3.10173538,  3.10176329,  3.10176609,  3.10176649,  3.10176773,\n",
       "        3.10176773,  3.10191872,  3.10285131,  3.10418358,  3.24185123,\n",
       "        3.99680289, 17.76356839])"
      ]
     },
     "execution_count": 238,
     "metadata": {},
     "output_type": "execute_result"
    }
   ],
   "source": [
    "np.abs(approx_h(f,np.pi/4,points))"
   ]
  },
  {
   "cell_type": "code",
   "execution_count": 237,
   "metadata": {},
   "outputs": [
    {
     "data": {
      "text/plain": [
       "[<matplotlib.lines.Line2D at 0x29f3987c4f0>]"
      ]
     },
     "execution_count": 237,
     "metadata": {},
     "output_type": "execute_result"
    },
    {
     "data": {
      "image/png": "[encoded data removed]",
      "text/plain": [
       "<Figure size 576x576 with 2 Axes>"
      ]
     },
     "metadata": {
      "needs_background": "light"
     },
     "output_type": "display_data"
    }
   ],
   "source": [
    "fig, axs = plt.subplots(2,figsize=(8, 8))\n",
    "axs[0].set_xlabel(\"h\")\n",
    "axs[0].set_ylabel(\"calculated values\")\n",
    "axs[0].plot(points, np.abs(approx_h(f,np.pi/4,points)))\n",
    "\n",
    "axs[1].set_yscale('log')\n",
    "axs[1].set_xlabel(\"h\")\n",
    "axs[1].set_ylabel(\"calculated differences\")\n",
    "axs[1].plot(points, np.abs(approx_h(f,np.pi/4,points) - x_o))"
   ]
  },
  {
   "cell_type": "code",
   "execution_count": 199,
   "metadata": {},
   "outputs": [
    {
     "data": {
      "text/plain": [
       "array([ 2.55142088e-01, -3.40817373e-01, -3.14213000e-02, -3.10589225e-03,\n",
       "       -3.10217974e-04, -3.10180038e-05, -3.10140144e-06, -3.00974882e-07,\n",
       "        9.42645149e-08,  1.33771430e-06,  1.33771430e-06,  1.52328046e-04,\n",
       "        1.08491539e-03,  2.41718302e-03,  1.40084838e-01,  8.95036495e-01,\n",
       "        1.46618020e+01])"
      ]
     },
     "execution_count": 199,
     "metadata": {},
     "output_type": "execute_result"
    }
   ],
   "source": [
    "approx_h(f,np.pi/4,points) - x_o"
   ]
  },
  {
   "cell_type": "markdown",
   "metadata": {},
   "source": [
    "An important consideration in practice when the function is calculated using floating-point arithmetic of finite precision is the choice of step size, h. If chosen too small, the subtraction will yield a large rounding error. In fact, all the finite-difference formulae are ill-conditioned[4] and due to cancellation will produce a value of zero if h is small enough.[5]"
   ]
  },
  {
   "cell_type": "markdown",
   "metadata": {},
   "source": []
  }
 ],
 "metadata": {
  "kernelspec": {
   "display_name": "Python 3",
   "language": "python",
   "name": "python3"
  },
  "language_info": {
   "codemirror_mode": {
    "name": "ipython",
    "version": 3
   },
   "file_extension": ".py",
   "mimetype": "text/x-python",
   "name": "python",
   "nbconvert_exporter": "python",
   "pygments_lexer": "ipython3",
   "version": "3.9.12"
  }
 },
 "nbformat": 4,
 "nbformat_minor": 2
}
