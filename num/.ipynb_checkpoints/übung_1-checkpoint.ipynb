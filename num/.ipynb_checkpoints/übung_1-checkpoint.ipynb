{
 "cells": [
  {
   "cell_type": "markdown",
   "metadata": {},
   "source": [
    "Numerik"
   ]
  },
  {
   "cell_type": "code",
   "execution_count": 52,
   "metadata": {},
   "outputs": [],
   "source": [
    "import numpy as np"
   ]
  },
  {
   "cell_type": "code",
   "execution_count": 53,
   "metadata": {},
   "outputs": [],
   "source": [
    "import matplotlib.pyplot as plt"
   ]
  },
  {
   "cell_type": "code",
   "execution_count": 54,
   "metadata": {},
   "outputs": [],
   "source": [
    "def g(x):\n",
    "    return np.sqrt(1/x)\n",
    "def g_2(x):\n",
    "    return x**4\n",
    "def f(x):\n",
    "    return 1/x - x**2"
   ]
  },
  {
   "cell_type": "code",
   "execution_count": 55,
   "metadata": {},
   "outputs": [
    {
     "ename": "NameError",
     "evalue": "name 'p' is not defined",
     "output_type": "error",
     "traceback": [
      "\u001b[1;31m---------------------------------------------------------------------------\u001b[0m",
      "\u001b[1;31mNameError\u001b[0m                                 Traceback (most recent call last)",
      "\u001b[1;32mc:\\Users\\natsc\\OneDrive\\Desktop\\num\\übung_1.ipynb Cell 4\u001b[0m line \u001b[0;36m<cell line: 1>\u001b[1;34m()\u001b[0m\n\u001b[1;32m----> <a href='vscode-notebook-cell:/c%3A/Users/natsc/OneDrive/Desktop/num/%C3%BCbung_1.ipynb#W3sZmlsZQ%3D%3D?line=0'>1</a>\u001b[0m p\u001b[39m*\u001b[39m\u001b[39m*\u001b[39m\u001b[39m4\u001b[39m\n",
      "\u001b[1;31mNameError\u001b[0m: name 'p' is not defined"
     ]
    }
   ],
   "source": [
    "p**4"
   ]
  },
  {
   "cell_type": "code",
   "execution_count": null,
   "metadata": {},
   "outputs": [],
   "source": [
    "\n"
   ]
  },
  {
   "cell_type": "code",
   "execution_count": null,
   "metadata": {},
   "outputs": [
    {
     "name": "stdout",
     "output_type": "stream",
     "text": [
      "[0.5        0.66666667 0.83333333 1.         1.16666667 1.33333333\n",
      " 1.5        1.66666667 1.83333333 2.        ]\n",
      "[1.41421356 1.22474487 1.09544512 1.         0.9258201  0.8660254\n",
      " 0.81649658 0.77459667 0.73854895 0.70710678]\n",
      "[ 0.0625      0.19753086  0.48225309  1.          1.85262346  3.16049383\n",
      "  5.0625      7.71604938 11.2970679  16.        ]\n",
      "[ 1.75        1.05555556  0.50555556  0.         -0.50396825 -1.02777778\n",
      " -1.58333333 -2.17777778 -2.81565657 -3.5       ]\n"
     ]
    },
    {
     "data": {
      "image/png": "[encoded data removed]",
      "text/plain": [
       "<Figure size 432x288 with 1 Axes>"
      ]
     },
     "metadata": {
      "needs_background": "light"
     },
     "output_type": "display_data"
    }
   ],
   "source": [
    "p = np.linspace(1/2,2,10)\n",
    "print(p)\n",
    "for f in [g,g_2,f]:\n",
    "    plt.plot(p,f(p))\n",
    "    print(f(p))"
   ]
  },
  {
   "cell_type": "markdown",
   "metadata": {},
   "source": [
    "(P) Implementieren Sie eine Fixpunkt Iteration (zB in Python). Sie soll folgende Features\n",
    "haben:\n",
    "(i) Man soll die Funktion g, die maximale Anzahl der Iterierten N und den Startpunkt\n",
    "x0 angeben k¨onnen.\n",
    "(ii) Ausgabe der ersten N Iterierten (numerisch)1\n",
    ".\n",
    "(iii) Plotten der Funktion y = g(x) und y = x in einer Figure (Axen beschriften, Legende!).\n",
    "Testen Sie Ihren Code mit verschiedenen g, N und x0, so dass Sie ihn in der Ubung ¨\n",
    "vorf¨uhren k¨onnen."
   ]
  },
  {
   "cell_type": "code",
   "execution_count": 7,
   "metadata": {},
   "outputs": [],
   "source": [
    "import matplotlib.pyplot as plt\n",
    "import numpy as np\n",
    "\n",
    "def fp_iter(g,x_0,iterations):\n",
    "    values = []\n",
    "\n",
    "    def fp_rec(g,x_0,iterations):\n",
    "        if iterations <= 0 or g(x_0) == x_0:\n",
    "            return\n",
    "        x_k = g(x_0)\n",
    "        iterations -= 1\n",
    "        values.append(x_k)\n",
    "        return fp_rec(g,x_k,iterations)\n",
    "\n",
    "    fp_rec(g,x_0,iterations)\n",
    "    print(iterations)\n",
    "    \n",
    "    for index,x_k in enumerate(values):  \n",
    "        print(\"Iteration \",index,\" value \",x_k)\n",
    "\n",
    "        \n",
    "    points = np.linspace(np.sort([x_0,values[-1]]) ,iterations)\n",
    "    \n",
    "    #plt.figure(figsize=( np.sort( [x_0,values[-1]] )) )\n",
    "    plt.title('copwebbing')\n",
    "    plt.grid(True)\n",
    "    plt.plot(np.concatenate(([1/2],values[:-1]),0) ,values)\n",
    "    plt.plot(points ,g(points))\n",
    "    plt.plot(points,points)\n",
    "    plt.legend([\"iteration\",\"function\",\"x = y\"])\n",
    "    \n",
    "\n",
    "    \n",
    "    \n",
    "def g(x):\n",
    "    return x**3 - 2*x**2 + 2*x"
   ]
  },
  {
   "cell_type": "code",
   "execution_count": 8,
   "metadata": {},
   "outputs": [
    {
     "name": "stdout",
     "output_type": "stream",
     "text": [
      "10\n",
      "Iteration  0  value  0.625\n",
      "Iteration  1  value  0.712890625\n",
      "Iteration  2  value  0.7716554775834084\n",
      "Iteration  3  value  0.8118905363124083\n",
      "Iteration  4  value  0.8406194212281908\n",
      "Iteration  5  value  0.8619729777381381\n",
      "Iteration  6  value  0.8783948204744262\n",
      "Iteration  7  value  0.8913843646939894\n",
      "Iteration  8  value  0.9019003435847468\n",
      "Iteration  9  value  0.9105798199520796\n"
     ]
    },
    {
     "data": {
      "image/png": "[encoded data removed]",
      "text/plain": [
       "<Figure size 432x288 with 1 Axes>"
      ]
     },
     "metadata": {
      "needs_background": "light"
     },
     "output_type": "display_data"
    }
   ],
   "source": [
    "fp_iter(g,1/2,10)"
   ]
  },
  {
   "cell_type": "code",
   "execution_count": 66,
   "metadata": {},
   "outputs": [
    {
     "data": {
      "text/plain": [
       "array([2, 3])"
      ]
     },
     "execution_count": 66,
     "metadata": {},
     "output_type": "execute_result"
    }
   ],
   "source": [
    "np.sort([2,3])"
   ]
  },
  {
   "cell_type": "code",
   "execution_count": null,
   "metadata": {},
   "outputs": [],
   "source": []
  }
 ],
 "metadata": {
  "kernelspec": {
   "display_name": "tfood",
   "language": "python",
   "name": "tfood"
  },
  "language_info": {
   "codemirror_mode": {
    "name": "ipython",
    "version": 3
   },
   "file_extension": ".py",
   "mimetype": "text/x-python",
   "name": "python",
   "nbconvert_exporter": "python",
   "pygments_lexer": "ipython3",
   "version": "3.9.12"
  }
 },
 "nbformat": 4,
 "nbformat_minor": 2
}
