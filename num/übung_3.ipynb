{
 "cells": [
  {
   "cell_type": "code",
   "execution_count": 2,
   "metadata": {},
   "outputs": [],
   "source": [
    "from sympy import *\n",
    "import numpy as np\n",
    "import matplotlib.pyplot as plt"
   ]
  },
  {
   "cell_type": "code",
   "execution_count": 3,
   "metadata": {},
   "outputs": [
    {
     "data": {
      "text/latex": [
       "$\\displaystyle 0.606530659712633$"
      ],
      "text/plain": [
       "0.606530659712633"
      ]
     },
     "execution_count": 3,
     "metadata": {},
     "output_type": "execute_result"
    }
   ],
   "source": [
    "1/sqrt(E).evalf()"
   ]
  },
  {
   "cell_type": "code",
   "execution_count": 4,
   "metadata": {},
   "outputs": [
    {
     "data": {
      "text/latex": [
       "$\\displaystyle 0.117783035656383$"
      ],
      "text/plain": [
       "0.117783035656383"
      ]
     },
     "execution_count": 4,
     "metadata": {},
     "output_type": "execute_result"
    }
   ],
   "source": [
    "ln(9/8).evalf()"
   ]
  },
  {
   "cell_type": "code",
   "execution_count": 5,
   "metadata": {},
   "outputs": [],
   "source": [
    "points = np.linspace(1,2,10)"
   ]
  },
  {
   "cell_type": "code",
   "execution_count": 6,
   "metadata": {},
   "outputs": [
    {
     "data": {
      "image/png": "[encoded data removed]",
      "text/plain": [
       "<Figure size 432x288 with 1 Axes>"
      ]
     },
     "metadata": {
      "needs_background": "light"
     },
     "output_type": "display_data"
    }
   ],
   "source": [
    "plt.plot(points,np.log(points))\n",
    "plt.grid(true)"
   ]
  },
  {
   "cell_type": "code",
   "execution_count": 7,
   "metadata": {},
   "outputs": [],
   "source": [
    "def f(x):\n",
    "    return (x - 2)**2 - np.log(x)"
   ]
  },
  {
   "cell_type": "code",
   "execution_count": 8,
   "metadata": {},
   "outputs": [
    {
     "data": {
      "text/plain": [
       "-0.046499243689368475"
      ]
     },
     "execution_count": 8,
     "metadata": {},
     "output_type": "execute_result"
    }
   ],
   "source": [
    "f(23/16)"
   ]
  },
  {
   "cell_type": "code",
   "execution_count": 9,
   "metadata": {},
   "outputs": [
    {
     "data": {
      "text/plain": [
       "0.07217126888146541"
      ]
     },
     "execution_count": 9,
     "metadata": {},
     "output_type": "execute_result"
    }
   ],
   "source": [
    "f(11/8)"
   ]
  },
  {
   "cell_type": "code",
   "execution_count": 10,
   "metadata": {},
   "outputs": [
    {
     "data": {
      "text/plain": [
       "0.11867051257083389"
      ]
     },
     "execution_count": 10,
     "metadata": {},
     "output_type": "execute_result"
    }
   ],
   "source": [
    "np.absolute(f(23/16) - f(11/8))"
   ]
  },
  {
   "cell_type": "code",
   "execution_count": 11,
   "metadata": {},
   "outputs": [
    {
     "data": {
      "text/latex": [
       "$\\displaystyle 33.2192809488736$"
      ],
      "text/plain": [
       "33.2192809488736"
      ]
     },
     "execution_count": 11,
     "metadata": {},
     "output_type": "execute_result"
    }
   ],
   "source": [
    "(10/log(2,10)).evalf()"
   ]
  },
  {
   "cell_type": "code",
   "execution_count": 12,
   "metadata": {},
   "outputs": [],
   "source": [
    "points = np.linspace(0,10,20)"
   ]
  },
  {
   "cell_type": "code",
   "execution_count": 13,
   "metadata": {},
   "outputs": [
    {
     "name": "stderr",
     "output_type": "stream",
     "text": [
      "C:\\Users\\natsc\\AppData\\Local\\Temp\\ipykernel_41800\\1809686448.py:1: RuntimeWarning: invalid value encountered in sqrt\n",
      "  plt.plot(np.sqrt(4*points**2 - 4),points)\n"
     ]
    },
    {
     "data": {
      "text/plain": [
       "[<matplotlib.lines.Line2D at 0x20ce9882f40>]"
      ]
     },
     "execution_count": 13,
     "metadata": {},
     "output_type": "execute_result"
    },
    {
     "data": {
      "image/png": "[encoded data removed]",
      "text/plain": [
       "<Figure size 432x288 with 1 Axes>"
      ]
     },
     "metadata": {
      "needs_background": "light"
     },
     "output_type": "display_data"
    }
   ],
   "source": [
    "plt.plot(np.sqrt(4*points**2 - 4),points)"
   ]
  },
  {
   "cell_type": "code",
   "execution_count": 14,
   "metadata": {},
   "outputs": [
    {
     "data": {
      "text/plain": [
       "matrix([[2],\n",
       "        [3]])"
      ]
     },
     "execution_count": 14,
     "metadata": {},
     "output_type": "execute_result"
    }
   ],
   "source": [
    "np.matrix([[2],[3]])"
   ]
  },
  {
   "cell_type": "code",
   "execution_count": 15,
   "metadata": {},
   "outputs": [
    {
     "data": {
      "text/plain": [
       "[[2], [3]]"
      ]
     },
     "execution_count": 15,
     "metadata": {},
     "output_type": "execute_result"
    }
   ],
   "source": [
    "[[2],[3]]"
   ]
  },
  {
   "cell_type": "code",
   "execution_count": 16,
   "metadata": {},
   "outputs": [],
   "source": [
    "def f1(x,y):\n",
    "    return  x**2 + 4*y**2 - 4\n",
    "def f2(x,y):\n",
    "    return 2*y - sqrt(3)*x**2"
   ]
  },
  {
   "cell_type": "code",
   "execution_count": 17,
   "metadata": {},
   "outputs": [],
   "source": [
    "x,y = symbols(\"x y\")"
   ]
  },
  {
   "cell_type": "code",
   "execution_count": 18,
   "metadata": {},
   "outputs": [],
   "source": [
    "def jacobian(f1,f2):\n",
    "    return Matrix([[Derivative(f1(x,y),x),Derivative(f1(x,y),y)],[Derivative(f2(x,y),x),Derivative(f2(x,y),y)]])"
   ]
  },
  {
   "cell_type": "code",
   "execution_count": null,
   "metadata": {},
   "outputs": [],
   "source": [
    "\n"
   ]
  },
  {
   "cell_type": "code",
   "execution_count": 19,
   "metadata": {},
   "outputs": [],
   "source": [
    "# 2. (P) Die Funktion f(x) = e\n",
    "# x − 3x − 1 hat auf I = [−2, 1] genau eine Nullstelle, ξ = 0.\n",
    "# (a) Implementieren Sie das Bisektions Verfahren mit Startintervall [−2, 1] und lassen Sie\n",
    "# sich die ersten 40 xk ausgeben (wobei xk als die Intervallmittelpunkte definiert sind).\n",
    "# Vergleichen Sie das beobachtete Verhalten mit der zu erwarteten asymp. Konvergen\u0002zrate.\n",
    "# (b) Betrachten Sie jetzt das Fixpunktproblem x = g(x) mit g(x) = x − λf(x) (Re\u0002laxation). Implementieren Sie die Fixpunktiteration f¨ur dieses g und λ = −1/3,\n",
    "# verwenden Sie x0 = 1 und lassen Sie sich die erste 20 xk ausgeben. Berechnen Sie\n",
    "# die asymp. Konvergenzrate und vergleichen Sie das beobachtete Verhalten damit.\n",
    "# (c) Bestimmen Sie λ, so dass die obige Fixpunktiteration maximal schnell konvergiert.\n",
    "# Uberpr¨ufen Sie Ihre Erkenntnisse numerisch. "
   ]
  },
  {
   "cell_type": "code",
   "execution_count": 20,
   "metadata": {},
   "outputs": [],
   "source": [
    "#def bisektion((a,b),f):"
   ]
  },
  {
   "cell_type": "code",
   "execution_count": 21,
   "metadata": {},
   "outputs": [],
   "source": [
    "#np.([Derivative(f1(x,y),x),Derivative(f1(x,y),y)],[Derivative(f2(x,y),x),Derivative(f2(x,y),y)])"
   ]
  },
  {
   "cell_type": "markdown",
   "metadata": {},
   "source": [
    "(d) (P) Implement1\n",
    "the Newton method in 2D and use it to calculate the first few iterates\n",
    "for the starting values (x0, y0) = (2, 3) and (x0, y0) = (−1.5, 2)."
   ]
  },
  {
   "cell_type": "code",
   "execution_count": 22,
   "metadata": {},
   "outputs": [],
   "source": [
    "# def jacobian(f1,f2):\n",
    "#     np.([Derivative(f1(x,y),x),Derivative(f1(x,y),y)],[Derivative(f2(x,y),x),Derivative(f2(x,y),y)])\n",
    "\n",
    "def jacobian_f(x,y):\n",
    "    x = float(x)\n",
    "    y = float(y)\n",
    "    j1 = np.array([ [ 2*x,8*y] ,[ 2*np.sqrt(3)*y,2] ])\n",
    "\n",
    "    return np.transpose(np.linalg.inv(j1))\n",
    "\n",
    "def newton_2d(x_0,jacobian_f):\n",
    "    #if x_0[0] == 0 or x_0[1] == 0:return\n",
    "    x_i = np.array([x_0[0],x_0[1]])\n",
    "    print(x_i)\n",
    "    return  x_i - x_i @ (jacobian_f(x_0[0],x_0[1])) \n",
    "    \n",
    "\n",
    "def iteration(x_0,i):\n",
    "    if i <= 0:return x_0\n",
    "    i -= 1\n",
    "    print(i)\n",
    "    iteration(newton_2d(x_0,jacobian_f),i)\n",
    "    \n"
   ]
  },
  {
   "cell_type": "code",
   "execution_count": 23,
   "metadata": {},
   "outputs": [
    {
     "name": "stdout",
     "output_type": "stream",
     "text": [
      "99\n",
      "[1.5 2. ]\n",
      "98\n",
      "[1.2234177  1.95810918]\n",
      "97\n",
      "[0.9449451  1.92350685]\n",
      "96\n",
      "[0.66435834 1.89655953]\n",
      "95\n",
      "[0.38147128 1.87754605]\n",
      "94\n",
      "[0.09614926 1.86664172]\n",
      "93\n",
      "[-0.19168082  1.86390955]\n",
      "92\n",
      "[-0.48202556  1.86929968]\n",
      "91\n",
      "[-0.77482623  1.88265701]\n",
      "90\n",
      "[-1.06996535  1.90373514]\n",
      "89\n",
      "[-1.3672775   1.93221454]\n",
      "88\n",
      "[-1.66656239  1.96772215]\n",
      "87\n",
      "[-1.96759836  2.0098503 ]\n",
      "86\n",
      "[-2.27015483  2.05817349]\n",
      "85\n",
      "[-2.57400271  2.11226219]\n",
      "84\n",
      "[-2.87892234  2.17169343]\n",
      "83\n",
      "[-3.18470909  2.2360585 ]\n",
      "82\n",
      "[-3.49117671  2.30496819]\n",
      "81\n",
      "[-3.79815891  2.37805588]\n",
      "80\n",
      "[-4.10550969  2.45497926]\n",
      "79\n",
      "[-4.41310267  2.53542076]\n",
      "78\n",
      "[-4.72082983  2.61908732]\n",
      "77\n",
      "[-5.02859993  2.70570955]\n",
      "76\n",
      "[-5.33633671  2.79504054]\n",
      "75\n",
      "[-5.64397716  2.88685453]\n",
      "74\n",
      "[-5.9514698   2.98094544]\n",
      "73\n",
      "[-6.25877309  3.07712538]\n",
      "72\n",
      "[-6.56585398  3.17522319]\n",
      "71\n",
      "[-6.8726866  3.275083 ]\n",
      "70\n",
      "[-7.1792512   3.37656294]\n",
      "69\n",
      "[-7.48553308  3.47953385]\n",
      "68\n",
      "[-7.7915218   3.58387814]\n",
      "67\n",
      "[-8.09721042  3.68948868]\n",
      "66\n",
      "[-8.40259492  3.79626789]\n",
      "65\n",
      "[-8.70767362  3.90412676]\n",
      "64\n",
      "[-9.01244681  4.0129841 ]\n",
      "63\n",
      "[-9.31691629  4.12276577]\n",
      "62\n",
      "[-9.62108515  4.23340401]\n",
      "61\n",
      "[-9.92495747  4.34483687]\n",
      "60\n",
      "[-10.22853806   4.45700761]\n",
      "59\n",
      "[-10.53183238   4.56986424]\n",
      "58\n",
      "[-10.8348463   4.6833591]\n",
      "57\n",
      "[-11.13758602   4.79744841]\n",
      "56\n",
      "[-11.44005796   4.91209195]\n",
      "55\n",
      "[-11.74226869   5.02725269]\n",
      "54\n",
      "[-12.04422484   5.14289658]\n",
      "53\n",
      "[-12.34593306   5.25899218]\n",
      "52\n",
      "[-12.64739998   5.37551052]\n",
      "51\n",
      "[-12.94863216   5.49242482]\n",
      "50\n",
      "[-13.24963606   5.60971032]\n",
      "49\n",
      "[-13.55041804   5.72734413]\n",
      "48\n",
      "[-13.85098433   5.845305  ]\n",
      "47\n",
      "[-14.15134101   5.96357327]\n",
      "46\n",
      "[-14.45149402   6.08213067]\n",
      "45\n",
      "[-14.75144913   6.20096023]\n",
      "44\n",
      "[-15.05121195   6.32004616]\n",
      "43\n",
      "[-15.35078793   6.43937379]\n",
      "42\n",
      "[-15.65018235   6.55892943]\n",
      "41\n",
      "[-15.94940033   6.67870032]\n",
      "40\n",
      "[-16.24844681   6.79867456]\n",
      "39\n",
      "[-16.54732661   6.91884103]\n",
      "38\n",
      "[-16.84604434   7.03918935]\n",
      "37\n",
      "[-17.14460449   7.15970978]\n",
      "36\n",
      "[-17.44301139   7.28039323]\n",
      "35\n",
      "[-17.74126922   7.40123117]\n",
      "34\n",
      "[-18.03938203   7.52221561]\n",
      "33\n",
      "[-18.33735371   7.64333903]\n",
      "32\n",
      "[-18.63518804   7.76459439]\n",
      "31\n",
      "[-18.93288865   7.88597508]\n",
      "30\n",
      "[-19.23045906   8.00747486]\n",
      "29\n",
      "[-19.52790267   8.12908787]\n",
      "28\n",
      "[-19.82522275   8.25080859]\n",
      "27\n",
      "[-20.12242246   8.37263183]\n",
      "26\n",
      "[-20.41950487   8.49455267]\n",
      "25\n",
      "[-20.71647293   8.6165665 ]\n",
      "24\n",
      "[-21.0133295    8.73866895]\n",
      "23\n",
      "[-21.31007734   8.86085588]\n",
      "22\n",
      "[-21.60671911   8.98312341]\n",
      "21\n",
      "[-21.90325739   9.10546783]\n",
      "20\n",
      "[-22.19969467   9.22788567]\n",
      "19\n",
      "[-22.49603336   9.35037361]\n",
      "18\n",
      "[-22.7922758    9.47292852]\n",
      "17\n",
      "[-23.08842423   9.59554744]\n",
      "16\n",
      "[-23.38448085   9.71822755]\n",
      "15\n",
      "[-23.68044777   9.84096618]\n",
      "14\n",
      "[-23.97632702   9.9637608 ]\n",
      "13\n",
      "[-24.2721206   10.08660899]\n",
      "12\n",
      "[-24.56783041  10.20950847]\n",
      "11\n",
      "[-24.86345832  10.33245707]\n",
      "10\n",
      "[-25.15900613  10.45545271]\n",
      "9\n",
      "[-25.45447557  10.57849342]\n",
      "8\n",
      "[-25.74986835  10.70157734]\n",
      "7\n",
      "[-26.0451861   10.82470267]\n",
      "6\n",
      "[-26.34043041  10.94786771]\n",
      "5\n",
      "[-26.63560282  11.07107085]\n",
      "4\n",
      "[-26.93070484  11.19431054]\n",
      "3\n",
      "[-27.22573791  11.31758531]\n",
      "2\n",
      "[-27.52070344  11.44089373]\n",
      "1\n",
      "[-27.81560281  11.56423448]\n",
      "0\n",
      "[-28.11043735  11.68760627]\n"
     ]
    }
   ],
   "source": [
    "iteration([1.5,2],100)"
   ]
  },
  {
   "cell_type": "code",
   "execution_count": 24,
   "metadata": {},
   "outputs": [
    {
     "name": "stdout",
     "output_type": "stream",
     "text": [
      "99\n",
      "[2 3]\n",
      "98\n",
      "[1.71832773 2.96361204]\n",
      "97\n",
      "[1.43579352 2.93208991]\n",
      "96\n",
      "[1.15233831 2.90558036]\n",
      "95\n",
      "[0.86791021 2.88420668]\n",
      "94\n",
      "[0.58246611 2.86806573]\n",
      "93\n",
      "[0.29597313 2.85722562]\n",
      "92\n",
      "[0.00840965 2.85172418]\n",
      "91\n",
      "[-0.28023394  2.85156836]\n",
      "90\n",
      "[-0.56995506  2.85673457]\n",
      "89\n",
      "[-0.86073919  2.86716988]\n",
      "88\n",
      "[-1.15256048  2.88279396]\n",
      "87\n",
      "[-1.44538285  2.90350172]\n",
      "86\n",
      "[-1.7391613   2.92916634]\n",
      "85\n",
      "[-2.03384344  2.95964266]\n",
      "84\n",
      "[-2.32937113  2.99477061]\n",
      "83\n",
      "[-2.62568214  3.03437859]\n",
      "82\n",
      "[-2.92271166  3.07828675]\n",
      "81\n",
      "[-3.22039382  3.12630995]\n",
      "80\n",
      "[-3.51866289  3.17826041]\n",
      "79\n",
      "[-3.81745439  3.23395007]\n",
      "78\n",
      "[-4.11670595  3.29319248]\n",
      "77\n",
      "[-4.41635799  3.35580449]\n",
      "76\n",
      "[-4.71635422  3.42160751]\n",
      "75\n",
      "[-5.01664197  3.4904285 ]\n",
      "74\n",
      "[-5.31717238  3.56210076]\n",
      "73\n",
      "[-5.61790048  3.63646439]\n",
      "72\n",
      "[-5.91878516  3.71336671]\n",
      "71\n",
      "[-6.21978909  3.79266233]\n",
      "70\n",
      "[-6.52087859  3.87421332]\n",
      "69\n",
      "[-6.8220234   3.95788905]\n",
      "68\n",
      "[-7.12319653  4.04356613]\n",
      "67\n",
      "[-7.424374   4.1311282]\n",
      "66\n",
      "[-7.72553458  4.22046566]\n",
      "65\n",
      "[-8.02665966  4.31147548]\n",
      "64\n",
      "[-8.32773291  4.40406079]\n",
      "63\n",
      "[-8.62874013  4.49813072]\n",
      "62\n",
      "[-8.92966907  4.59359996]\n",
      "61\n",
      "[-9.23050915  4.69038854]\n",
      "60\n",
      "[-9.53125138  4.7884215 ]\n",
      "59\n",
      "[-9.83188813  4.88762858]\n",
      "58\n",
      "[-10.132413     4.98794396]\n",
      "57\n",
      "[-10.4328207    5.08930594]\n",
      "56\n",
      "[-10.7331069    5.19165675]\n",
      "55\n",
      "[-11.03326813   5.29494222]\n",
      "54\n",
      "[-11.33330169   5.3991116 ]\n",
      "53\n",
      "[-11.63320554   5.5041173 ]\n",
      "52\n",
      "[-11.93297822   5.60991472]\n",
      "51\n",
      "[-12.23261878   5.71646201]\n",
      "50\n",
      "[-12.53212673   5.82371991]\n",
      "49\n",
      "[-12.83150196   5.93165157]\n",
      "48\n",
      "[-13.13074471   6.04022239]\n",
      "47\n",
      "[-13.42985549   6.14939987]\n",
      "46\n",
      "[-13.72883509   6.25915346]\n",
      "45\n",
      "[-14.02768449   6.36945445]\n",
      "44\n",
      "[-14.32640488   6.48027583]\n",
      "43\n",
      "[-14.62499757   6.59159218]\n",
      "42\n",
      "[-14.92346404   6.70337957]\n",
      "41\n",
      "[-15.22180585   6.81561545]\n",
      "40\n",
      "[-15.52002467   6.92827856]\n",
      "39\n",
      "[-15.81812223   7.04134889]\n",
      "38\n",
      "[-16.11610032   7.15480752]\n",
      "37\n",
      "[-16.41396078   7.26863662]\n",
      "36\n",
      "[-16.71170549   7.38281932]\n",
      "35\n",
      "[-17.00933633   7.49733973]\n",
      "34\n",
      "[-17.30685523   7.61218277]\n",
      "33\n",
      "[-17.60426409   7.72733422]\n",
      "32\n",
      "[-17.90156484   7.8427806 ]\n",
      "31\n",
      "[-18.19875939   7.95850916]\n",
      "30\n",
      "[-18.49584965   8.07450782]\n",
      "29\n",
      "[-18.79283751   8.19076512]\n",
      "28\n",
      "[-19.08972485   8.30727021]\n",
      "27\n",
      "[-19.38651352   8.42401278]\n",
      "26\n",
      "[-19.68320536   8.54098306]\n",
      "25\n",
      "[-19.97980218   8.65817175]\n",
      "24\n",
      "[-20.27630575   8.77557005]\n",
      "23\n",
      "[-20.57271783   8.89316956]\n",
      "22\n",
      "[-20.86904014   9.01096231]\n",
      "21\n",
      "[-21.16527439   9.12894071]\n",
      "20\n",
      "[-21.46142223   9.24709754]\n",
      "19\n",
      "[-21.75748529   9.36542593]\n",
      "18\n",
      "[-22.05346519   9.48391933]\n",
      "17\n",
      "[-22.34936348   9.60257148]\n",
      "16\n",
      "[-22.64518171   9.72137644]\n",
      "15\n",
      "[-22.94092138   9.84032854]\n",
      "14\n",
      "[-23.23658397   9.95942234]\n",
      "13\n",
      "[-23.53217092  10.07865267]\n",
      "12\n",
      "[-23.82768364  10.1980146 ]\n",
      "11\n",
      "[-24.12312351  10.3175034 ]\n",
      "10\n",
      "[-24.41849188  10.43711455]\n",
      "9\n",
      "[-24.71379008  10.55684375]\n",
      "8\n",
      "[-25.0090194   10.67668685]\n",
      "7\n",
      "[-25.30418109  10.79663992]\n",
      "6\n",
      "[-25.59927639  10.91669916]\n",
      "5\n",
      "[-25.89430651  11.03686095]\n",
      "4\n",
      "[-26.18927262  11.15712183]\n",
      "3\n",
      "[-26.48417588  11.27747846]\n",
      "2\n",
      "[-26.77901741  11.39792766]\n",
      "1\n",
      "[-27.07379831  11.51846637]\n",
      "0\n",
      "[-27.36851965  11.63909165]\n"
     ]
    }
   ],
   "source": [
    "iteration([2,3],100)"
   ]
  },
  {
   "cell_type": "code",
   "execution_count": 25,
   "metadata": {},
   "outputs": [
    {
     "data": {
      "text/plain": [
       "array([20.        , 15.85640646])"
      ]
     },
     "execution_count": 25,
     "metadata": {},
     "output_type": "execute_result"
    }
   ],
   "source": [
    "x = 1\n",
    "y = 2\n",
    "np.array([ [ 2*x,8*y] ,[ 2*np.sqrt(3)*y,2] ]) @ np.array([2,1])"
   ]
  },
  {
   "cell_type": "code",
   "execution_count": 26,
   "metadata": {},
   "outputs": [
    {
     "data": {
      "text/plain": [
       "array([2, 1])"
      ]
     },
     "execution_count": 26,
     "metadata": {},
     "output_type": "execute_result"
    }
   ],
   "source": [
    "np.transpose(np.array([2,1]))"
   ]
  },
  {
   "cell_type": "markdown",
   "metadata": {},
   "source": []
  },
  {
   "cell_type": "code",
   "execution_count": 27,
   "metadata": {},
   "outputs": [],
   "source": [
    "from sympy import *\n",
    "x,a = symbols(\"x a\")"
   ]
  },
  {
   "cell_type": "code",
   "execution_count": 28,
   "metadata": {},
   "outputs": [],
   "source": [
    "def f(x):\n",
    "    return a*x*(1 - x)"
   ]
  },
  {
   "cell_type": "code",
   "execution_count": 29,
   "metadata": {},
   "outputs": [
    {
     "data": {
      "text/latex": [
       "$\\displaystyle a^{2} x^{2} - a^{2} x - a x + a + 1$"
      ],
      "text/plain": [
       "a**2*x**2 - a**2*x - a*x + a + 1"
      ]
     },
     "execution_count": 29,
     "metadata": {},
     "output_type": "execute_result"
    }
   ],
   "source": [
    "div((f(f(x)) -x ) , ( f(x) - x))[0].simplify()\n"
   ]
  },
  {
   "cell_type": "code",
   "execution_count": 30,
   "metadata": {},
   "outputs": [],
   "source": [
    "def f(x,a = 1):\n",
    "    return a*x*(1 - x)"
   ]
  },
  {
   "cell_type": "code",
   "execution_count": 31,
   "metadata": {},
   "outputs": [],
   "source": [
    "def fp_iter(points,x_0,a = 1):\n",
    "    values = [x_0]\n",
    "    for i in range(0,len(points)):\n",
    "        values.append(f(values[i],a))\n",
    "    return values"
   ]
  },
  {
   "cell_type": "code",
   "execution_count": 32,
   "metadata": {},
   "outputs": [],
   "source": [
    "#fp_iter(al,1/2)"
   ]
  },
  {
   "cell_type": "code",
   "execution_count": 33,
   "metadata": {},
   "outputs": [
    {
     "data": {
      "text/plain": [
       "100"
      ]
     },
     "execution_count": 33,
     "metadata": {},
     "output_type": "execute_result"
    }
   ],
   "source": [
    "al = np.linspace(0,4,3000)\n",
    "len(al[900:1000])"
   ]
  },
  {
   "cell_type": "markdown",
   "metadata": {},
   "source": [
    "<img src=\".\\Unbenannt.PNG\"></img>\n"
   ]
  },
  {
   "cell_type": "code",
   "execution_count": null,
   "metadata": {},
   "outputs": [],
   "source": [
    "x0 = 1/2\n",
    "fig, ax = plt.subplots(figsize=(8, 8))\n",
    "for a in (al):\n",
    "    points = fp_iter(al,x0,a)\n",
    "    # ax.plot(a, points[1000], marker=',', ls='')\n",
    "    ax.set_xlabel(\"a\")\n",
    "    ax.set_ylabel(\"fp iteration\")\n",
    "    \n",
    "        \n",
    "    \n",
    "    \n",
    "    # points = fp_iter(al,x0,a)\n",
    "    # points_x_1 = points[1:900]\n",
    "    # points_x = points[0:899]\n",
    "\n",
    "    # ax.plot( points_x,points_x_1, linewidth=1/2, color=\"red\", label=\"exact\")\n",
    "    points_y = points[899:999]\n",
    "    points_y_1 = points[900:1000]\n",
    "    ax.plot(points_y_1,points_y, marker=',', ls='')"
   ]
  },
  {
   "cell_type": "code",
   "execution_count": 35,
   "metadata": {},
   "outputs": [
    {
     "data": {
      "text/latex": [
       "$\\displaystyle 1$"
      ],
      "text/plain": [
       "1"
      ]
     },
     "execution_count": 35,
     "metadata": {},
     "output_type": "execute_result"
    }
   ],
   "source": [
    "summation((2/3**x),(x,1,oo))"
   ]
  },
  {
   "cell_type": "markdown",
   "metadata": {},
   "source": [
    "Sum"
   ]
  },
  {
   "cell_type": "code",
   "execution_count": 36,
   "metadata": {},
   "outputs": [
    {
     "data": {
      "text/latex": [
       "$\\displaystyle x$"
      ],
      "text/plain": [
       "x"
      ]
     },
     "execution_count": 36,
     "metadata": {},
     "output_type": "execute_result"
    }
   ],
   "source": [
    "x"
   ]
  },
  {
   "cell_type": "code",
   "execution_count": null,
   "metadata": {},
   "outputs": [],
   "source": []
  }
 ],
 "metadata": {
  "kernelspec": {
   "display_name": "Python 3",
   "language": "python",
   "name": "python3"
  },
  "language_info": {
   "codemirror_mode": {
    "name": "ipython",
    "version": 3
   },
   "file_extension": ".py",
   "mimetype": "text/x-python",
   "name": "python",
   "nbconvert_exporter": "python",
   "pygments_lexer": "ipython3",
   "version": "3.9.12"
  }
 },
 "nbformat": 4,
 "nbformat_minor": 2
}
