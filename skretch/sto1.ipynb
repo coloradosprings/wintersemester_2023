{
 "cells": [
  {
   "cell_type": "markdown",
   "metadata": {},
   "source": [
    "<img src=\"sto1.PNG\"></img>"
   ]
  },
  {
   "cell_type": "markdown",
   "metadata": {},
   "source": [
    "<img src=\"sto1_2.PNG\"><img>"
   ]
  },
  {
   "cell_type": "markdown",
   "metadata": {},
   "source": []
  },
  {
   "cell_type": "code",
   "execution_count": 1,
   "metadata": {},
   "outputs": [],
   "source": [
    "from sympy import *\n",
    "import numpy as np"
   ]
  },
  {
   "cell_type": "code",
   "execution_count": 45,
   "metadata": {},
   "outputs": [],
   "source": [
    "x = symbols(\"x\")"
   ]
  },
  {
   "cell_type": "code",
   "execution_count": 44,
   "metadata": {},
   "outputs": [
    {
     "data": {
      "text/latex": [
       "$\\displaystyle \\int \\log{\\left(\\left|{x}\\right| \\right)}\\, dx$"
      ],
      "text/plain": [
       "Integral(log(Abs(x)), x)"
      ]
     },
     "execution_count": 44,
     "metadata": {},
     "output_type": "execute_result"
    }
   ],
   "source": [
    "integrate(log(abs(x))).evalf()"
   ]
  },
  {
   "cell_type": "code",
   "execution_count": 27,
   "metadata": {},
   "outputs": [
    {
     "data": {
      "text/latex": [
       "$\\displaystyle 1.1697503$"
      ],
      "text/plain": [
       "1.1697503"
      ]
     },
     "execution_count": 27,
     "metadata": {},
     "output_type": "execute_result"
    }
   ],
   "source": [
    "integrate(abs(log(x))*x**2,(x,-1,1)).evalf()"
   ]
  },
  {
   "cell_type": "code",
   "execution_count": 77,
   "metadata": {},
   "outputs": [
    {
     "data": {
      "text/plain": [
       "array([[2.        , 0.        , 0.66666667, 0.        ],\n",
       "       [0.        , 0.66666667, 0.        , 0.4       ],\n",
       "       [0.66666667, 0.        , 0.4       , 0.        ],\n",
       "       [0.        , 0.4       , 0.        , 0.28571429]])"
      ]
     },
     "execution_count": 77,
     "metadata": {},
     "output_type": "execute_result"
    }
   ],
   "source": [
    "b = np.zeros(m)\n",
    "A =  np.eye(m)\n",
    "\n",
    "for j in range(m):\n",
    "    for k in range(m):\n",
    "        A[j][k] = integ(j + k)\n",
    "A"
   ]
  },
  {
   "cell_type": "code",
   "execution_count": 5,
   "metadata": {},
   "outputs": [],
   "source": [
    "def integ(k):\n",
    "    return integrate(x**k,(x,-1,1))\n",
    "# def f_integ(f,k):\n",
    "#     return integrate(f*x**k,(x,-1,1))"
   ]
  },
  {
   "cell_type": "code",
   "execution_count": 41,
   "metadata": {},
   "outputs": [],
   "source": [
    "def approx_f(m,f):\n",
    "    b = np.zeros(m)\n",
    "    A =  np.eye(m)\n",
    "\n",
    "    for j in range(m):\n",
    "        for k in range(m):\n",
    "            A[j][k] = integ(j + k)\n",
    "\n",
    "    for k in range(m):\n",
    "        b[k] = integrate(f*x**k,(x,-1,1))\n",
    "    return np.linalg.solve(A,b)\n",
    "    \n"
   ]
  },
  {
   "cell_type": "code",
   "execution_count": 68,
   "metadata": {},
   "outputs": [],
   "source": [
    "\n",
    "# for j in range(m):\n",
    "#     for k in range(m):\n",
    "#         A[j][k] = integ(j + k)"
   ]
  },
  {
   "cell_type": "code",
   "execution_count": 64,
   "metadata": {},
   "outputs": [],
   "source": [
    "a = approx_f(10,abs(log(x)))"
   ]
  },
  {
   "cell_type": "code",
   "execution_count": 99,
   "metadata": {},
   "outputs": [],
   "source": [
    "aa = approx_f(7,sin(x))"
   ]
  },
  {
   "cell_type": "code",
   "execution_count": 101,
   "metadata": {},
   "outputs": [],
   "source": [
    "import matplotlib.pyplot as plt"
   ]
  },
  {
   "cell_type": "code",
   "execution_count": 102,
   "metadata": {},
   "outputs": [],
   "source": [
    "points = np.linspace(-1,1,30)"
   ]
  },
  {
   "cell_type": "code",
   "execution_count": 103,
   "metadata": {},
   "outputs": [],
   "source": [
    "def f(x):\n",
    "    return np.log(np.abs(x))\n",
    "def h(x,a):\n",
    "    sum = 0\n",
    "    for k in range(len(a)):\n",
    "        sum += a[k] * x**k\n",
    "        \n",
    "    return sum"
   ]
  },
  {
   "cell_type": "code",
   "execution_count": 104,
   "metadata": {},
   "outputs": [
    {
     "data": {
      "text/plain": [
       "array([-0.84147814, -0.80223662, -0.75918789, -0.71253266, -0.66249041,\n",
       "       -0.60929786, -0.55320751, -0.49448611, -0.43341317, -0.37027946,\n",
       "       -0.30538552, -0.23904012, -0.17155881, -0.10326239, -0.03447539,\n",
       "        0.03447539,  0.10326239,  0.17155881,  0.23904012,  0.30538552,\n",
       "        0.37027946,  0.43341317,  0.49448611,  0.55320751,  0.60929786,\n",
       "        0.66249041,  0.71253266,  0.75918789,  0.80223662,  0.84147814])"
      ]
     },
     "execution_count": 104,
     "metadata": {},
     "output_type": "execute_result"
    }
   ],
   "source": [
    "h(points,aa)"
   ]
  },
  {
   "cell_type": "code",
   "execution_count": 108,
   "metadata": {},
   "outputs": [
    {
     "data": {
      "text/plain": [
       "[<matplotlib.lines.Line2D at 0x234c46302e0>]"
      ]
     },
     "execution_count": 108,
     "metadata": {},
     "output_type": "execute_result"
    },
    {
     "data": {
      "image/png": "[encoded data removed]",
      "text/plain": [
       "<Figure size 432x288 with 1 Axes>"
      ]
     },
     "metadata": {
      "needs_background": "light"
     },
     "output_type": "display_data"
    }
   ],
   "source": [
    "fig, axs = plt.subplots()\n",
    "axs.plot(points,f(points))\n",
    "axs.plot(points,h(points,a))"
   ]
  },
  {
   "cell_type": "code",
   "execution_count": 75,
   "metadata": {},
   "outputs": [
    {
     "data": {
      "text/plain": [
       "array([-3.59340241, -3.02088462, -3.2530142 , -3.52915801, -3.63470242,\n",
       "       -3.61299892, -3.58761882, -3.66545796, -3.89630281, -4.26918174,\n",
       "       -4.73028408, -5.21181672, -5.66759003, -6.13040784, -6.99348816,\n",
       "       -6.58897166, -4.9681816 , -3.88911349, -3.01402251, -2.31694921,\n",
       "       -1.80058741, -1.45141949, -1.22995492, -1.07630602, -0.92603006,\n",
       "       -0.73216651, -0.48772926, -0.24028177, -0.08701107, -0.13502801])"
      ]
     },
     "execution_count": 75,
     "metadata": {},
     "output_type": "execute_result"
    }
   ],
   "source": [
    "f(points) - h(points,a)"
   ]
  }
 ],
 "metadata": {
  "kernelspec": {
   "display_name": "Python 3",
   "language": "python",
   "name": "python3"
  },
  "language_info": {
   "codemirror_mode": {
    "name": "ipython",
    "version": 3
   },
   "file_extension": ".py",
   "mimetype": "text/x-python",
   "name": "python",
   "nbconvert_exporter": "python",
   "pygments_lexer": "ipython3",
   "version": "3.9.12"
  }
 },
 "nbformat": 4,
 "nbformat_minor": 2
}
