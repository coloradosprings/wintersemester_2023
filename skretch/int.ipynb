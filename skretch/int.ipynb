{
 "cells": [
  {
   "cell_type": "code",
   "execution_count": null,
   "metadata": {},
   "outputs": [],
   "source": [
    "!pip D:\\Downloads\\garrett-birkhoff-gian-carlo-rota-ordinary-differential-equations-1989.pdf \"C:\\Program Files (x86)\\Microsoft\\Edge\\Application\\msedge.exe\""
   ]
  },
  {
   "cell_type": "code",
   "execution_count": 4,
   "metadata": {},
   "outputs": [
    {
     "ename": "SyntaxError",
     "evalue": "unexpected character after line continuation character (3726874351.py, line 1)",
     "output_type": "error",
     "traceback": [
      "\u001b[1;36m  Input \u001b[1;32mIn [4]\u001b[1;36m\u001b[0m\n\u001b[1;33m    \"D:\\Downloads\\garrett-birkhoff-gian-carlo-rota-ordinary-differential-equations-1989.pdf C:\\Program Files (x86)\\Microsoft\\Edge\\Application\\msedge.exe\".replace(\"\"\\\"\"\",\"\"\\\\\"\")\u001b[0m\n\u001b[1;37m                                                                                                                                                                     ^\u001b[0m\n\u001b[1;31mSyntaxError\u001b[0m\u001b[1;31m:\u001b[0m unexpected character after line continuation character\n"
     ]
    }
   ],
   "source": [
    "\"D:\\Downloads\\garrett-birkhoff-gian-carlo-rota-ordinary-differential-equations-1989.pdf C:\\Program Files (x86)\\Microsoft\\Edge\\Application\\msedge.exe\".replace(f\"\\\"\",f\"\\\\\")"
   ]
  },
  {
   "cell_type": "code",
   "execution_count": null,
   "metadata": {},
   "outputs": [],
   "source": []
  }
 ],
 "metadata": {
  "kernelspec": {
   "display_name": "Python 3",
   "language": "python",
   "name": "python3"
  },
  "language_info": {
   "codemirror_mode": {
    "name": "ipython",
    "version": 3
   },
   "file_extension": ".py",
   "mimetype": "text/x-python",
   "name": "python",
   "nbconvert_exporter": "python",
   "pygments_lexer": "ipython3",
   "version": "3.9.12"
  }
 },
 "nbformat": 4,
 "nbformat_minor": 2
}
