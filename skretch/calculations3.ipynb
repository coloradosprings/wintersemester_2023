{
 "cells": [
  {
   "cell_type": "code",
   "execution_count": 1,
   "metadata": {},
   "outputs": [],
   "source": [
    "from sympy import *"
   ]
  },
  {
   "cell_type": "code",
   "execution_count": 10,
   "metadata": {},
   "outputs": [],
   "source": [
    "x,y = symbols(\"x y\")\n",
    "t,s = symbols(\"t s\")"
   ]
  },
  {
   "cell_type": "code",
   "execution_count": 25,
   "metadata": {},
   "outputs": [],
   "source": [
    "t = Symbol(\"t\",domain = RealField)"
   ]
  },
  {
   "cell_type": "code",
   "execution_count": 9,
   "metadata": {},
   "outputs": [
    {
     "data": {
      "text/latex": [
       "$\\displaystyle - \\frac{y^{2}}{e} + e y^{2}$"
      ],
      "text/plain": [
       "-y**2*exp(-1) + E*y**2"
      ]
     },
     "execution_count": 9,
     "metadata": {},
     "output_type": "execute_result"
    }
   ],
   "source": [
    "integrate(y*E**(x/y),(x,-y,y))"
   ]
  },
  {
   "cell_type": "code",
   "execution_count": 17,
   "metadata": {},
   "outputs": [
    {
     "data": {
      "text/latex": [
       "$\\displaystyle t - e^{t} + 1$"
      ],
      "text/plain": [
       "t - exp(t) + 1"
      ]
     },
     "execution_count": 17,
     "metadata": {},
     "output_type": "execute_result"
    }
   ],
   "source": [
    "integrate(-E**(t-s)*s,(s,0,t))"
   ]
  },
  {
   "cell_type": "code",
   "execution_count": 22,
   "metadata": {},
   "outputs": [
    {
     "data": {
      "text/latex": [
       "$\\displaystyle \\operatorname{re}{\\left(t\\right)}$"
      ],
      "text/plain": [
       "re(t)"
      ]
     },
     "execution_count": 22,
     "metadata": {},
     "output_type": "execute_result"
    }
   ],
   "source": [
    "re(t)"
   ]
  },
  {
   "cell_type": "code",
   "execution_count": 27,
   "metadata": {},
   "outputs": [
    {
     "data": {
      "text/latex": [
       "$\\displaystyle - \\left(\\operatorname{re}{\\left(t\\right)} \\frac{d}{d t} \\operatorname{re}{\\left(t\\right)} + \\operatorname{im}{\\left(t\\right)} \\frac{d}{d t} \\operatorname{im}{\\left(t\\right)}\\right) \\operatorname{sign}{\\left(t \\right)} - \\left|{t}\\right|$"
      ],
      "text/plain": [
       "-(re(t)*Derivative(re(t), t) + im(t)*Derivative(im(t), t))*sign(t) - Abs(t)"
      ]
     },
     "execution_count": 27,
     "metadata": {},
     "output_type": "execute_result"
    }
   ],
   "source": [
    "Derivative(-abs(t) * t,t).simplify()"
   ]
  },
  {
   "cell_type": "code",
   "execution_count": 28,
   "metadata": {},
   "outputs": [
    {
     "data": {
      "text/latex": [
       "$\\displaystyle \\log{\\left(x \\right)} + \\infty$"
      ],
      "text/plain": [
       "log(x) + oo"
      ]
     },
     "execution_count": 28,
     "metadata": {},
     "output_type": "execute_result"
    }
   ],
   "source": [
    "integrate(1/y,(y,0,x))"
   ]
  },
  {
   "cell_type": "code",
   "execution_count": 33,
   "metadata": {},
   "outputs": [],
   "source": [
    "g = Symbol(\"g\")"
   ]
  },
  {
   "cell_type": "code",
   "execution_count": 37,
   "metadata": {},
   "outputs": [],
   "source": [
    "def f(t):\n",
    "    return t**3/3*g**2 + +t**2/2*g-t\n",
    "    "
   ]
  },
  {
   "cell_type": "code",
   "execution_count": 38,
   "metadata": {},
   "outputs": [
    {
     "data": {
      "text/latex": [
       "$\\displaystyle \\frac{1}{6 g}$"
      ],
      "text/plain": [
       "1/(6*g)"
      ]
     },
     "execution_count": 38,
     "metadata": {},
     "output_type": "execute_result"
    }
   ],
   "source": [
    "- f(1/g)"
   ]
  },
  {
   "cell_type": "code",
   "execution_count": 45,
   "metadata": {},
   "outputs": [
    {
     "data": {
      "text/latex": [
       "$\\displaystyle \\begin{cases} - \\frac{1}{6} & \\text{for}\\: t \\geq \\frac{1}{2} \\vee t \\leq 0 \\\\\\frac{1}{6} & \\text{otherwise} \\end{cases}$"
      ],
      "text/plain": [
       "Piecewise((-1/6, (t >= 1/2) | (t <= 0)), (1/6, True))"
      ]
     },
     "execution_count": 45,
     "metadata": {},
     "output_type": "execute_result"
    }
   ],
   "source": [
    "integrate(abs(t**2*2 - t),(t,1,0)).simplify()"
   ]
  },
  {
   "cell_type": "code",
   "execution_count": 131,
   "metadata": {},
   "outputs": [],
   "source": [
    "a = symbols(\"a\")"
   ]
  },
  {
   "cell_type": "code",
   "execution_count": 76,
   "metadata": {},
   "outputs": [],
   "source": [
    "Y = 1/32 * a**3 * (cos(3*t)-cos(t))+a*(y-3/8*a**2)*t*sin(t)"
   ]
  },
  {
   "cell_type": "code",
   "execution_count": 85,
   "metadata": {},
   "outputs": [],
   "source": [
    "a = 1"
   ]
  },
  {
   "cell_type": "code",
   "execution_count": 86,
   "metadata": {},
   "outputs": [],
   "source": [
    "Y = a*(y-3/8*a**2)*t*sin(t)"
   ]
  },
  {
   "cell_type": "code",
   "execution_count": 156,
   "metadata": {},
   "outputs": [],
   "source": [
    "Y = nsimplify(3/8)*t*sin(t)\n",
    "# Y = t*sin(a*t)"
   ]
  },
  {
   "cell_type": "code",
   "execution_count": 157,
   "metadata": {},
   "outputs": [
    {
     "data": {
      "text/latex": [
       "$\\displaystyle \\frac{3 t \\cos{\\left(t \\right)}}{8} + \\frac{3 \\sin{\\left(t \\right)}}{8}$"
      ],
      "text/plain": [
       "3*t*cos(t)/8 + 3*sin(t)/8"
      ]
     },
     "execution_count": 157,
     "metadata": {},
     "output_type": "execute_result"
    }
   ],
   "source": [
    "Derivative(Y,t).simplify()"
   ]
  },
  {
   "cell_type": "code",
   "execution_count": 158,
   "metadata": {},
   "outputs": [],
   "source": [
    "Y__ = Derivative(Derivative(Y,t).simplify(),t).simplify()"
   ]
  },
  {
   "cell_type": "code",
   "execution_count": 159,
   "metadata": {},
   "outputs": [
    {
     "data": {
      "text/latex": [
       "$\\displaystyle - \\frac{3 t \\sin{\\left(t \\right)}}{8} + \\frac{3 \\cos{\\left(t \\right)}}{4}$"
      ],
      "text/plain": [
       "-3*t*sin(t)/8 + 3*cos(t)/4"
      ]
     },
     "execution_count": 159,
     "metadata": {},
     "output_type": "execute_result"
    }
   ],
   "source": [
    "Y__"
   ]
  },
  {
   "cell_type": "code",
   "execution_count": 160,
   "metadata": {},
   "outputs": [
    {
     "data": {
      "text/latex": [
       "$\\displaystyle \\frac{3 \\cos{\\left(t \\right)}}{4}$"
      ],
      "text/plain": [
       "3*cos(t)/4"
      ]
     },
     "execution_count": 160,
     "metadata": {},
     "output_type": "execute_result"
    }
   ],
   "source": [
    "Y+ Y__"
   ]
  },
  {
   "cell_type": "code",
   "execution_count": null,
   "metadata": {},
   "outputs": [],
   "source": [
    "Y = nsimplify(3/8)*t*sin(t)"
   ]
  },
  {
   "cell_type": "code",
   "execution_count": 105,
   "metadata": {},
   "outputs": [
    {
     "data": {
      "text/plain": [
       "20.25"
      ]
     },
     "execution_count": 105,
     "metadata": {},
     "output_type": "execute_result"
    }
   ],
   "source": [
    "3**4 / 4"
   ]
  },
  {
   "cell_type": "code",
   "execution_count": 116,
   "metadata": {},
   "outputs": [
    {
     "data": {
      "text/latex": [
       "$\\displaystyle \\left\\langle -\\infty, \\infty\\right\\rangle$"
      ],
      "text/plain": [
       "AccumBounds(-oo, oo)"
      ]
     },
     "execution_count": 116,
     "metadata": {},
     "output_type": "execute_result"
    }
   ],
   "source": [
    "integrate()"
   ]
  },
  {
   "cell_type": "code",
   "execution_count": 138,
   "metadata": {},
   "outputs": [
    {
     "data": {
      "text/latex": [
       "$\\displaystyle \\begin{cases} \\frac{\\pi}{2 a} & \\text{for}\\: \\left(\\left|{\\arg{\\left(a \\right)}}\\right| < \\frac{\\pi}{2} \\wedge \\frac{1}{a^{2}} \\neq 0 \\wedge \\left|{\\arg{\\left(a \\right)}}\\right| \\neq \\frac{\\pi}{2}\\right) \\vee \\left|{\\arg{\\left(a \\right)}}\\right| < \\frac{\\pi}{2} \\\\\\int\\limits_{0}^{\\infty} \\frac{1}{a^{2} + t^{2}}\\, dt & \\text{otherwise} \\end{cases}$"
      ],
      "text/plain": [
       "Piecewise((pi/(2*a), (Abs(arg(a)) < pi/2) | (Ne(a**(-2), 0) & (Abs(arg(a)) < pi/2) & Ne(Abs(arg(a)), pi/2))), (Integral(1/(a**2 + t**2), (t, 0, oo)), True))"
      ]
     },
     "execution_count": 138,
     "metadata": {},
     "output_type": "execute_result"
    }
   ],
   "source": [
    "integrate(1/(t**2 + a**2),(t,0,oo))"
   ]
  },
  {
   "cell_type": "code",
   "execution_count": 136,
   "metadata": {},
   "outputs": [
    {
     "data": {
      "text/latex": [
       "$\\displaystyle \\text{NaN}$"
      ],
      "text/plain": [
       "nan"
      ]
     },
     "execution_count": 136,
     "metadata": {},
     "output_type": "execute_result"
    }
   ],
   "source": [
    "integrate( 1/t,(t,-oo,oo))"
   ]
  },
  {
   "cell_type": "code",
   "execution_count": 167,
   "metadata": {},
   "outputs": [
    {
     "data": {
      "text/latex": [
       "$\\displaystyle \\log{\\left(\\frac{a}{t} \\right)}$"
      ],
      "text/plain": [
       "log(a/t)"
      ]
     },
     "execution_count": 167,
     "metadata": {},
     "output_type": "execute_result"
    }
   ],
   "source": [
    "( ln(a/t) ).factor()"
   ]
  },
  {
   "cell_type": "code",
   "execution_count": null,
   "metadata": {},
   "outputs": [],
   "source": []
  }
 ],
 "metadata": {
  "kernelspec": {
   "display_name": "Python 3",
   "language": "python",
   "name": "python3"
  },
  "language_info": {
   "codemirror_mode": {
    "name": "ipython",
    "version": 3
   },
   "file_extension": ".py",
   "mimetype": "text/x-python",
   "name": "python",
   "nbconvert_exporter": "python",
   "pygments_lexer": "ipython3",
   "version": "3.9.12"
  }
 },
 "nbformat": 4,
 "nbformat_minor": 2
}
