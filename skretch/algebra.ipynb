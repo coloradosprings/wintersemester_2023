{
 "cells": [
  {
   "cell_type": "code",
   "execution_count": 2,
   "metadata": {},
   "outputs": [],
   "source": [
    "from sympy import*\n"
   ]
  },
  {
   "cell_type": "code",
   "execution_count": 3,
   "metadata": {},
   "outputs": [],
   "source": [
    "a,b,c,x = symbols('a b c x')"
   ]
  },
  {
   "cell_type": "code",
   "execution_count": 4,
   "metadata": {},
   "outputs": [],
   "source": [
    "g = (x - a)*(x - b)*(x - c)"
   ]
  },
  {
   "cell_type": "code",
   "execution_count": 5,
   "metadata": {},
   "outputs": [
    {
     "data": {
      "text/latex": [
       "$\\displaystyle a^{2} b^{2} c^{2} - 2 a^{2} b^{2} c x + a^{2} b^{2} x^{2} - 2 a^{2} b c^{2} x + 4 a^{2} b c x^{2} - 2 a^{2} b x^{3} + a^{2} c^{2} x^{2} - 2 a^{2} c x^{3} + a^{2} x^{4} - 2 a b^{2} c^{2} x + 4 a b^{2} c x^{2} - 2 a b^{2} x^{3} + 4 a b c^{2} x^{2} - 8 a b c x^{3} + 4 a b x^{4} - 2 a c^{2} x^{3} + 4 a c x^{4} - 2 a x^{5} + b^{2} c^{2} x^{2} - 2 b^{2} c x^{3} + b^{2} x^{4} - 2 b c^{2} x^{3} + 4 b c x^{4} - 2 b x^{5} + c^{2} x^{4} - 2 c x^{5} + x^{6}$"
      ],
      "text/plain": [
       "a**2*b**2*c**2 - 2*a**2*b**2*c*x + a**2*b**2*x**2 - 2*a**2*b*c**2*x + 4*a**2*b*c*x**2 - 2*a**2*b*x**3 + a**2*c**2*x**2 - 2*a**2*c*x**3 + a**2*x**4 - 2*a*b**2*c**2*x + 4*a*b**2*c*x**2 - 2*a*b**2*x**3 + 4*a*b*c**2*x**2 - 8*a*b*c*x**3 + 4*a*b*x**4 - 2*a*c**2*x**3 + 4*a*c*x**4 - 2*a*x**5 + b**2*c**2*x**2 - 2*b**2*c*x**3 + b**2*x**4 - 2*b*c**2*x**3 + 4*b*c*x**4 - 2*b*x**5 + c**2*x**4 - 2*c*x**5 + x**6"
      ]
     },
     "execution_count": 5,
     "metadata": {},
     "output_type": "execute_result"
    }
   ],
   "source": [
    "(g**2).expand()"
   ]
  },
  {
   "cell_type": "code",
   "execution_count": 6,
   "metadata": {},
   "outputs": [
    {
     "data": {
      "text/latex": [
       "$\\displaystyle - a b c + a b x + a c x - a x^{2} + b c x - b x^{2} - c x^{2} + x^{3}$"
      ],
      "text/plain": [
       "-a*b*c + a*b*x + a*c*x - a*x**2 + b*c*x - b*x**2 - c*x**2 + x**3"
      ]
     },
     "execution_count": 6,
     "metadata": {},
     "output_type": "execute_result"
    }
   ],
   "source": [
    "g.expand()"
   ]
  },
  {
   "cell_type": "code",
   "execution_count": 7,
   "metadata": {},
   "outputs": [],
   "source": [
    "x = a - 1"
   ]
  },
  {
   "cell_type": "code",
   "execution_count": 8,
   "metadata": {},
   "outputs": [],
   "source": [
    "poly = x**5 + 10*x**4 + 15 * x**2 - 10 + 1"
   ]
  },
  {
   "cell_type": "code",
   "execution_count": 9,
   "metadata": {},
   "outputs": [
    {
     "data": {
      "text/latex": [
       "$\\displaystyle a^{5} + 5 a^{4} - 30 a^{3} + 65 a^{2} - 65 a + 15$"
      ],
      "text/plain": [
       "a**5 + 5*a**4 - 30*a**3 + 65*a**2 - 65*a + 15"
      ]
     },
     "execution_count": 9,
     "metadata": {},
     "output_type": "execute_result"
    }
   ],
   "source": [
    "poly.expand()"
   ]
  },
  {
   "cell_type": "code",
   "execution_count": 10,
   "metadata": {},
   "outputs": [
    {
     "data": {
      "text/latex": [
       "$\\displaystyle a^{5} + 3 a^{4} - 22 a^{3} + 44 a^{2} - 51 a + 36$"
      ],
      "text/plain": [
       "a**5 + 3*a**4 - 22*a**3 + 44*a**2 - 51*a + 36"
      ]
     },
     "execution_count": 10,
     "metadata": {},
     "output_type": "execute_result"
    }
   ],
   "source": [
    "poly = x**5 + 8*x**4 + 6 * x**2 - 12 * x + 10 + 1\n",
    "poly.expand()"
   ]
  },
  {
   "cell_type": "code",
   "execution_count": 11,
   "metadata": {},
   "outputs": [
    {
     "data": {
      "text/plain": [
       "1.0"
      ]
     },
     "execution_count": 11,
     "metadata": {},
     "output_type": "execute_result"
    }
   ],
   "source": [
    "(-1)**(-6)"
   ]
  },
  {
   "cell_type": "code",
   "execution_count": 12,
   "metadata": {},
   "outputs": [
    {
     "data": {
      "text/plain": [
       "{2: 3, 3: 2}"
      ]
     },
     "execution_count": 12,
     "metadata": {},
     "output_type": "execute_result"
    }
   ],
   "source": [
    "factorint(72)"
   ]
  },
  {
   "cell_type": "code",
   "execution_count": 13,
   "metadata": {},
   "outputs": [
    {
     "name": "stdout",
     "output_type": "stream",
     "text": [
      "Help on function factorint in module sympy.ntheory.factor_:\n",
      "\n",
      "factorint(n, limit=None, use_trial=True, use_rho=True, use_pm1=True, use_ecm=True, verbose=False, visual=None, multiple=False)\n",
      "    Given a positive integer ``n``, ``factorint(n)`` returns a dict containing\n",
      "    the prime factors of ``n`` as keys and their respective multiplicities\n",
      "    as values. For example:\n",
      "    \n",
      "    >>> from sympy.ntheory import factorint\n",
      "    >>> factorint(2000)    # 2000 = (2**4) * (5**3)\n",
      "    {2: 4, 5: 3}\n",
      "    >>> factorint(65537)   # This number is prime\n",
      "    {65537: 1}\n",
      "    \n",
      "    For input less than 2, factorint behaves as follows:\n",
      "    \n",
      "        - ``factorint(1)`` returns the empty factorization, ``{}``\n",
      "        - ``factorint(0)`` returns ``{0:1}``\n",
      "        - ``factorint(-n)`` adds ``-1:1`` to the factors and then factors ``n``\n",
      "    \n",
      "    Partial Factorization:\n",
      "    \n",
      "    If ``limit`` (> 3) is specified, the search is stopped after performing\n",
      "    trial division up to (and including) the limit (or taking a\n",
      "    corresponding number of rho/p-1 steps). This is useful if one has\n",
      "    a large number and only is interested in finding small factors (if\n",
      "    any). Note that setting a limit does not prevent larger factors\n",
      "    from being found early; it simply means that the largest factor may\n",
      "    be composite. Since checking for perfect power is relatively cheap, it is\n",
      "    done regardless of the limit setting.\n",
      "    \n",
      "    This number, for example, has two small factors and a huge\n",
      "    semi-prime factor that cannot be reduced easily:\n",
      "    \n",
      "    >>> from sympy.ntheory import isprime\n",
      "    >>> a = 1407633717262338957430697921446883\n",
      "    >>> f = factorint(a, limit=10000)\n",
      "    >>> f == {991: 1, int(202916782076162456022877024859): 1, 7: 1}\n",
      "    True\n",
      "    >>> isprime(max(f))\n",
      "    False\n",
      "    \n",
      "    This number has a small factor and a residual perfect power whose\n",
      "    base is greater than the limit:\n",
      "    \n",
      "    >>> factorint(3*101**7, limit=5)\n",
      "    {3: 1, 101: 7}\n",
      "    \n",
      "    List of Factors:\n",
      "    \n",
      "    If ``multiple`` is set to ``True`` then a list containing the\n",
      "    prime factors including multiplicities is returned.\n",
      "    \n",
      "    >>> factorint(24, multiple=True)\n",
      "    [2, 2, 2, 3]\n",
      "    \n",
      "    Visual Factorization:\n",
      "    \n",
      "    If ``visual`` is set to ``True``, then it will return a visual\n",
      "    factorization of the integer.  For example:\n",
      "    \n",
      "    >>> from sympy import pprint\n",
      "    >>> pprint(factorint(4200, visual=True))\n",
      "     3  1  2  1\n",
      "    2 *3 *5 *7\n",
      "    \n",
      "    Note that this is achieved by using the evaluate=False flag in Mul\n",
      "    and Pow. If you do other manipulations with an expression where\n",
      "    evaluate=False, it may evaluate.  Therefore, you should use the\n",
      "    visual option only for visualization, and use the normal dictionary\n",
      "    returned by visual=False if you want to perform operations on the\n",
      "    factors.\n",
      "    \n",
      "    You can easily switch between the two forms by sending them back to\n",
      "    factorint:\n",
      "    \n",
      "    >>> from sympy import Mul\n",
      "    >>> regular = factorint(1764); regular\n",
      "    {2: 2, 3: 2, 7: 2}\n",
      "    >>> pprint(factorint(regular))\n",
      "     2  2  2\n",
      "    2 *3 *7\n",
      "    \n",
      "    >>> visual = factorint(1764, visual=True); pprint(visual)\n",
      "     2  2  2\n",
      "    2 *3 *7\n",
      "    >>> print(factorint(visual))\n",
      "    {2: 2, 3: 2, 7: 2}\n",
      "    \n",
      "    If you want to send a number to be factored in a partially factored form\n",
      "    you can do so with a dictionary or unevaluated expression:\n",
      "    \n",
      "    >>> factorint(factorint({4: 2, 12: 3})) # twice to toggle to dict form\n",
      "    {2: 10, 3: 3}\n",
      "    >>> factorint(Mul(4, 12, evaluate=False))\n",
      "    {2: 4, 3: 1}\n",
      "    \n",
      "    The table of the output logic is:\n",
      "    \n",
      "        ====== ====== ======= =======\n",
      "                       Visual\n",
      "        ------ ----------------------\n",
      "        Input  True   False   other\n",
      "        ====== ====== ======= =======\n",
      "        dict    mul    dict    mul\n",
      "        n       mul    dict    dict\n",
      "        mul     mul    dict    dict\n",
      "        ====== ====== ======= =======\n",
      "    \n",
      "    Notes\n",
      "    =====\n",
      "    \n",
      "    Algorithm:\n",
      "    \n",
      "    The function switches between multiple algorithms. Trial division\n",
      "    quickly finds small factors (of the order 1-5 digits), and finds\n",
      "    all large factors if given enough time. The Pollard rho and p-1\n",
      "    algorithms are used to find large factors ahead of time; they\n",
      "    will often find factors of the order of 10 digits within a few\n",
      "    seconds:\n",
      "    \n",
      "    >>> factors = factorint(12345678910111213141516)\n",
      "    >>> for base, exp in sorted(factors.items()):\n",
      "    ...     print('%s %s' % (base, exp))\n",
      "    ...\n",
      "    2 2\n",
      "    2507191691 1\n",
      "    1231026625769 1\n",
      "    \n",
      "    Any of these methods can optionally be disabled with the following\n",
      "    boolean parameters:\n",
      "    \n",
      "        - ``use_trial``: Toggle use of trial division\n",
      "        - ``use_rho``: Toggle use of Pollard's rho method\n",
      "        - ``use_pm1``: Toggle use of Pollard's p-1 method\n",
      "    \n",
      "    ``factorint`` also periodically checks if the remaining part is\n",
      "    a prime number or a perfect power, and in those cases stops.\n",
      "    \n",
      "    For unevaluated factorial, it uses Legendre's formula(theorem).\n",
      "    \n",
      "    \n",
      "    If ``verbose`` is set to ``True``, detailed progress is printed.\n",
      "    \n",
      "    See Also\n",
      "    ========\n",
      "    \n",
      "    smoothness, smoothness_p, divisors\n",
      "\n"
     ]
    }
   ],
   "source": [
    "help(factorint)"
   ]
  },
  {
   "cell_type": "code",
   "execution_count": 12,
   "metadata": {},
   "outputs": [
    {
     "data": {
      "text/plain": [
       "250000"
      ]
     },
     "execution_count": 12,
     "metadata": {},
     "output_type": "execute_result"
    }
   ],
   "source": [
    "5**6 * 2**4"
   ]
  },
  {
   "cell_type": "code",
   "execution_count": 25,
   "metadata": {},
   "outputs": [
    {
     "data": {
      "text/plain": [
       "5"
      ]
     },
     "execution_count": 25,
     "metadata": {},
     "output_type": "execute_result"
    }
   ],
   "source": [
    "243%7"
   ]
  },
  {
   "cell_type": "code",
   "execution_count": 36,
   "metadata": {},
   "outputs": [
    {
     "name": "stdout",
     "output_type": "stream",
     "text": [
      "2 0\n",
      "2 6\n",
      "3 0\n",
      "4 0\n",
      "4 3\n",
      "4 6\n",
      "4 9\n",
      "5 0\n",
      "5 6\n",
      "6 0\n",
      "7 0\n",
      "7 3\n",
      "7 6\n",
      "7 9\n",
      "8 0\n",
      "8 2\n",
      "8 4\n",
      "8 6\n",
      "8 8\n"
     ]
    }
   ],
   "source": [
    "for i in range(2,9):\n",
    "    for k in range(0,10):\n",
    "        if i**k%9 == 1:\n",
    "            print(i,k)"
   ]
  },
  {
   "cell_type": "code",
   "execution_count": 14,
   "metadata": {},
   "outputs": [],
   "source": [
    "x = Symbol(\"x\")"
   ]
  },
  {
   "cell_type": "code",
   "execution_count": 22,
   "metadata": {},
   "outputs": [
    {
     "data": {
      "text/latex": [
       "$\\displaystyle 2$"
      ],
      "text/plain": [
       "2"
      ]
     },
     "execution_count": 22,
     "metadata": {},
     "output_type": "execute_result"
    }
   ],
   "source": [
    "integrate((sin(x)),(x,0,pi))"
   ]
  }
 ],
 "metadata": {
  "kernelspec": {
   "display_name": "Python 3",
   "language": "python",
   "name": "python3"
  },
  "language_info": {
   "codemirror_mode": {
    "name": "ipython",
    "version": 3
   },
   "file_extension": ".py",
   "mimetype": "text/x-python",
   "name": "python",
   "nbconvert_exporter": "python",
   "pygments_lexer": "ipython3",
   "version": "3.9.12"
  }
 },
 "nbformat": 4,
 "nbformat_minor": 2
}
