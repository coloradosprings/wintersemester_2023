{
 "cells": [
  {
   "cell_type": "code",
   "execution_count": 4,
   "metadata": {},
   "outputs": [],
   "source": [
    "from sympy import*\n"
   ]
  },
  {
   "cell_type": "code",
   "execution_count": 5,
   "metadata": {},
   "outputs": [],
   "source": [
    "a,b,c,x = symbols('a b c x')"
   ]
  },
  {
   "cell_type": "code",
   "execution_count": 6,
   "metadata": {},
   "outputs": [],
   "source": [
    "g = (x - a)*(x - b)*(x - c)"
   ]
  },
  {
   "cell_type": "code",
   "execution_count": 7,
   "metadata": {},
   "outputs": [
    {
     "data": {
      "text/latex": [
       "$\\displaystyle a^{2} b^{2} c^{2} - 2 a^{2} b^{2} c x + a^{2} b^{2} x^{2} - 2 a^{2} b c^{2} x + 4 a^{2} b c x^{2} - 2 a^{2} b x^{3} + a^{2} c^{2} x^{2} - 2 a^{2} c x^{3} + a^{2} x^{4} - 2 a b^{2} c^{2} x + 4 a b^{2} c x^{2} - 2 a b^{2} x^{3} + 4 a b c^{2} x^{2} - 8 a b c x^{3} + 4 a b x^{4} - 2 a c^{2} x^{3} + 4 a c x^{4} - 2 a x^{5} + b^{2} c^{2} x^{2} - 2 b^{2} c x^{3} + b^{2} x^{4} - 2 b c^{2} x^{3} + 4 b c x^{4} - 2 b x^{5} + c^{2} x^{4} - 2 c x^{5} + x^{6}$"
      ],
      "text/plain": [
       "a**2*b**2*c**2 - 2*a**2*b**2*c*x + a**2*b**2*x**2 - 2*a**2*b*c**2*x + 4*a**2*b*c*x**2 - 2*a**2*b*x**3 + a**2*c**2*x**2 - 2*a**2*c*x**3 + a**2*x**4 - 2*a*b**2*c**2*x + 4*a*b**2*c*x**2 - 2*a*b**2*x**3 + 4*a*b*c**2*x**2 - 8*a*b*c*x**3 + 4*a*b*x**4 - 2*a*c**2*x**3 + 4*a*c*x**4 - 2*a*x**5 + b**2*c**2*x**2 - 2*b**2*c*x**3 + b**2*x**4 - 2*b*c**2*x**3 + 4*b*c*x**4 - 2*b*x**5 + c**2*x**4 - 2*c*x**5 + x**6"
      ]
     },
     "execution_count": 7,
     "metadata": {},
     "output_type": "execute_result"
    }
   ],
   "source": [
    "(g**2).expand()"
   ]
  },
  {
   "cell_type": "code",
   "execution_count": 8,
   "metadata": {},
   "outputs": [
    {
     "data": {
      "text/latex": [
       "$\\displaystyle - a b c + a b x + a c x - a x^{2} + b c x - b x^{2} - c x^{2} + x^{3}$"
      ],
      "text/plain": [
       "-a*b*c + a*b*x + a*c*x - a*x**2 + b*c*x - b*x**2 - c*x**2 + x**3"
      ]
     },
     "execution_count": 8,
     "metadata": {},
     "output_type": "execute_result"
    }
   ],
   "source": [
    "g.expand()"
   ]
  },
  {
   "cell_type": "code",
   "execution_count": 9,
   "metadata": {},
   "outputs": [],
   "source": [
    "x = a - 1"
   ]
  },
  {
   "cell_type": "code",
   "execution_count": 10,
   "metadata": {},
   "outputs": [],
   "source": [
    "poly = x**5 + 10*x**4 + 15 * x**2 - 10 + 1"
   ]
  },
  {
   "cell_type": "code",
   "execution_count": 11,
   "metadata": {},
   "outputs": [
    {
     "data": {
      "text/latex": [
       "$\\displaystyle a^{5} + 5 a^{4} - 30 a^{3} + 65 a^{2} - 65 a + 15$"
      ],
      "text/plain": [
       "a**5 + 5*a**4 - 30*a**3 + 65*a**2 - 65*a + 15"
      ]
     },
     "execution_count": 11,
     "metadata": {},
     "output_type": "execute_result"
    }
   ],
   "source": [
    "poly.expand()"
   ]
  },
  {
   "cell_type": "code",
   "execution_count": 12,
   "metadata": {},
   "outputs": [
    {
     "data": {
      "text/plain": [
       "1.0"
      ]
     },
     "execution_count": 12,
     "metadata": {},
     "output_type": "execute_result"
    }
   ],
   "source": [
    "(-1)**(-6)"
   ]
  },
  {
   "cell_type": "code",
   "execution_count": 13,
   "metadata": {},
   "outputs": [
    {
     "data": {
      "text/plain": [
       "{2: 3, 3: 2}"
      ]
     },
     "execution_count": 13,
     "metadata": {},
     "output_type": "execute_result"
    }
   ],
   "source": [
    "factorint(72)"
   ]
  },
  {
   "cell_type": "code",
   "execution_count": 2,
   "metadata": {},
   "outputs": [
    {
     "data": {
      "text/plain": [
       "250000"
      ]
     },
     "execution_count": 2,
     "metadata": {},
     "output_type": "execute_result"
    }
   ],
   "source": [
    "5**6 * 2**4"
   ]
  }
 ],
 "metadata": {
  "kernelspec": {
   "display_name": "Python 3",
   "language": "python",
   "name": "python3"
  },
  "language_info": {
   "codemirror_mode": {
    "name": "ipython",
    "version": 3
   },
   "file_extension": ".py",
   "mimetype": "text/x-python",
   "name": "python",
   "nbconvert_exporter": "python",
   "pygments_lexer": "ipython3",
   "version": "3.9.12"
  }
 },
 "nbformat": 4,
 "nbformat_minor": 2
}
