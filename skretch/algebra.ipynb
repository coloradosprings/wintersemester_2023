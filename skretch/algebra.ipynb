{
 "cells": [
  {
   "cell_type": "code",
   "execution_count": 1,
   "metadata": {},
   "outputs": [],
   "source": [
    "from sympy import*\n"
   ]
  },
  {
   "cell_type": "code",
   "execution_count": 2,
   "metadata": {},
   "outputs": [],
   "source": [
    "a,b,c,x = symbols('a b c x')"
   ]
  },
  {
   "cell_type": "code",
   "execution_count": 3,
   "metadata": {},
   "outputs": [],
   "source": [
    "g = (x - a)*(x - b)*(x - c)"
   ]
  },
  {
   "cell_type": "code",
   "execution_count": 22,
   "metadata": {},
   "outputs": [
    {
     "data": {
      "text/latex": [
       "$\\displaystyle a^{2} b^{2} c^{2} - 2 a^{2} b^{2} c x + a^{2} b^{2} x^{2} - 2 a^{2} b c^{2} x + 4 a^{2} b c x^{2} - 2 a^{2} b x^{3} + a^{2} c^{2} x^{2} - 2 a^{2} c x^{3} + a^{2} x^{4} - 2 a b^{2} c^{2} x + 4 a b^{2} c x^{2} - 2 a b^{2} x^{3} + 4 a b c^{2} x^{2} - 8 a b c x^{3} + 4 a b x^{4} - 2 a c^{2} x^{3} + 4 a c x^{4} - 2 a x^{5} + b^{2} c^{2} x^{2} - 2 b^{2} c x^{3} + b^{2} x^{4} - 2 b c^{2} x^{3} + 4 b c x^{4} - 2 b x^{5} + c^{2} x^{4} - 2 c x^{5} + x^{6}$"
      ],
      "text/plain": [
       "a**2*b**2*c**2 - 2*a**2*b**2*c*x + a**2*b**2*x**2 - 2*a**2*b*c**2*x + 4*a**2*b*c*x**2 - 2*a**2*b*x**3 + a**2*c**2*x**2 - 2*a**2*c*x**3 + a**2*x**4 - 2*a*b**2*c**2*x + 4*a*b**2*c*x**2 - 2*a*b**2*x**3 + 4*a*b*c**2*x**2 - 8*a*b*c*x**3 + 4*a*b*x**4 - 2*a*c**2*x**3 + 4*a*c*x**4 - 2*a*x**5 + b**2*c**2*x**2 - 2*b**2*c*x**3 + b**2*x**4 - 2*b*c**2*x**3 + 4*b*c*x**4 - 2*b*x**5 + c**2*x**4 - 2*c*x**5 + x**6"
      ]
     },
     "execution_count": 22,
     "metadata": {},
     "output_type": "execute_result"
    }
   ],
   "source": [
    "(g**2).expand()"
   ]
  },
  {
   "cell_type": "code",
   "execution_count": null,
   "metadata": {},
   "outputs": [],
   "source": []
  }
 ],
 "metadata": {
  "kernelspec": {
   "display_name": "Python 3",
   "language": "python",
   "name": "python3"
  },
  "language_info": {
   "codemirror_mode": {
    "name": "ipython",
    "version": 3
   },
   "file_extension": ".py",
   "mimetype": "text/x-python",
   "name": "python",
   "nbconvert_exporter": "python",
   "pygments_lexer": "ipython3",
   "version": "3.9.12"
  }
 },
 "nbformat": 4,
 "nbformat_minor": 2
}
