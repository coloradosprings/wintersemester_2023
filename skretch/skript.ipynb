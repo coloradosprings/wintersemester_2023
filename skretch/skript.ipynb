{
 "cells": [
  {
   "cell_type": "markdown",
   "metadata": {},
   "source": [
    "Lemma 3.11.29 Formulierung des Lemma. Beweis Zeile 4."
   ]
  },
  {
   "cell_type": "markdown",
   "metadata": {},
   "source": [
    "Ist umgekehrt π ein Primelement, so gibt es eine <br>\n",
    "Primzahl p mit p | π.<br>\n",
    "Ist umgekehrt π ein Primelement, so gibt es eine<br>\n",
    "Primzahl p mit $π | p$ <br>"
   ]
  },
  {
   "cell_type": "markdown",
   "metadata": {},
   "source": [
    "Lemma 3.11.29 Beweis Zeile 4."
   ]
  },
  {
   "cell_type": "markdown",
   "metadata": {},
   "source": [
    "Dann folgt $N(π) = : \\mathbb{N}(α)N(β)$. Da <br>\n",
    "$N(π)$ eine Primzahl <br>\n",
    "Dann folgt $N(π) = : N(α)N(β)$. Da <br>\n",
    "$N(π)$ eine Primzahl <br>\n"
   ]
  },
  {
   "cell_type": "markdown",
   "metadata": {},
   "source": [
    "Satz 3.11.31 Beweis 3.Fall"
   ]
  },
  {
   "cell_type": "markdown",
   "metadata": {},
   "source": [
    "\n",
    "Ändern der Vorzeichen oder Vertauschen von a und b <br>\n",
    "können wir 0 < a < a erreichen<br>\n",
    "\n",
    "Ändern der Vorzeichen oder Vertauschen von a und b <br>\n",
    "können wir 0 < a < b erreichen<br>"
   ]
  }
 ],
 "metadata": {
  "language_info": {
   "name": "python"
  }
 },
 "nbformat": 4,
 "nbformat_minor": 2
}
