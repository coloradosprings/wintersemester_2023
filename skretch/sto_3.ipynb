{
 "cells": [
  {
   "cell_type": "code",
   "execution_count": 6,
   "metadata": {},
   "outputs": [],
   "source": [
    "from sympy import *"
   ]
  },
  {
   "cell_type": "code",
   "execution_count": 7,
   "metadata": {},
   "outputs": [],
   "source": [
    "a,b,p,t,x,m,k = symbols(\"a b p t x m k\")\n"
   ]
  },
  {
   "cell_type": "code",
   "execution_count": 8,
   "metadata": {},
   "outputs": [
    {
     "data": {
      "text/latex": [
       "$\\displaystyle \\infty \\operatorname{sign}{\\left(a^{p} - \\left|{a}\\right|^{p} \\right)}$"
      ],
      "text/plain": [
       "oo*sign(a**p - Abs(a)**p)"
      ]
     },
     "execution_count": 8,
     "metadata": {},
     "output_type": "execute_result"
    }
   ],
   "source": [
    "limit((abs(a + t *b)**p - abs(a)**p)/t,t,0)"
   ]
  },
  {
   "cell_type": "code",
   "execution_count": 9,
   "metadata": {},
   "outputs": [
    {
     "data": {
      "text/latex": [
       "$\\displaystyle \\frac{- \\left|{a^{p}}\\right| + \\left|{a + b t}\\right|^{p}}{t}$"
      ],
      "text/plain": [
       "(-Abs(a**p) + Abs(a + b*t)**p)/t"
      ]
     },
     "execution_count": 9,
     "metadata": {},
     "output_type": "execute_result"
    }
   ],
   "source": [
    "(abs(a + t *b)**p - abs(a**p))/t"
   ]
  },
  {
   "cell_type": "markdown",
   "metadata": {},
   "source": [
    "we define \n",
    "$$ f := x^2 * sin(x)"
   ]
  },
  {
   "cell_type": "code",
   "execution_count": 10,
   "metadata": {},
   "outputs": [
    {
     "data": {
      "text/latex": [
       "$\\displaystyle 4.93480220054468 + 1.17809724509617 i$"
      ],
      "text/plain": [
       "4.93480220054468 + 1.17809724509617*I"
      ]
     },
     "execution_count": 10,
     "metadata": {},
     "output_type": "execute_result"
    }
   ],
   "source": [
    "integrate(E**(I*3*x) *(x**2 * sin(x)),(x,0,2*pi)).evalf()"
   ]
  },
  {
   "cell_type": "code",
   "execution_count": 11,
   "metadata": {},
   "outputs": [],
   "source": [
    "# integrate(E**(I*3*np.arcsin(x)),(x,0,2*pi)).evalf()"
   ]
  },
  {
   "cell_type": "code",
   "execution_count": 12,
   "metadata": {},
   "outputs": [
    {
     "data": {
      "text/latex": [
       "$\\displaystyle 0.5$"
      ],
      "text/plain": [
       "0.500000000000000"
      ]
     },
     "execution_count": 12,
     "metadata": {},
     "output_type": "execute_result"
    }
   ],
   "source": [
    "sqrt(1/4) "
   ]
  },
  {
   "cell_type": "markdown",
   "metadata": {},
   "source": [
    "<img src=\"binär.PNG\"></img>"
   ]
  },
  {
   "cell_type": "code",
   "execution_count": 13,
   "metadata": {},
   "outputs": [],
   "source": [
    "# expr = \"\\\\int_{-\\\\epsilon}^\\\\infty dl\\\\: {\\\\rm e}^{-l\\\\zeta}\\t\\\\int_{-\\\\epsilon}^\\\\infty dl' {\\\\rm e}^{-l'\\\\zeta}\\tll'{l'-l \\\\over l+l'} \\\\{3\\\\,\\\\delta''(l) - {3 \\\\over 4}t\\\\,\\\\delta(l) \\\\} =0.\\t\\t\"\n",
    "# preview(expr, viewer='file', filename='output.png')"
   ]
  },
  {
   "cell_type": "code",
   "execution_count": 14,
   "metadata": {},
   "outputs": [
    {
     "data": {
      "text/latex": [
       "$\\displaystyle 0$"
      ],
      "text/plain": [
       "0"
      ]
     },
     "execution_count": 14,
     "metadata": {},
     "output_type": "execute_result"
    }
   ],
   "source": [
    "from sympy import *\n",
    "x = Symbol(\"x\")\n",
    "integrate(E**(I*3*x)*sin(x),(x,0,2*pi)).evalf()"
   ]
  },
  {
   "cell_type": "code",
   "execution_count": 15,
   "metadata": {},
   "outputs": [
    {
     "data": {
      "text/latex": [
       "$\\displaystyle 0$"
      ],
      "text/plain": [
       "0"
      ]
     },
     "execution_count": 15,
     "metadata": {},
     "output_type": "execute_result"
    }
   ],
   "source": [
    "integrate(E**(I*3*x)*sin(x),(x,0,2*pi))"
   ]
  },
  {
   "cell_type": "code",
   "execution_count": 16,
   "metadata": {},
   "outputs": [],
   "source": [
    "#versuche den Ansatz für (x**2 * sin(x)) + 5 delta(pi)"
   ]
  },
  {
   "cell_type": "code",
   "execution_count": 17,
   "metadata": {},
   "outputs": [
    {
     "data": {
      "text/latex": [
       "$\\displaystyle 1.0 i m x$"
      ],
      "text/plain": [
       "1.0*I*m*x"
      ]
     },
     "execution_count": 17,
     "metadata": {},
     "output_type": "execute_result"
    }
   ],
   "source": [
    "# np.exp()\n",
    "1.j*m*x"
   ]
  },
  {
   "cell_type": "markdown",
   "metadata": {},
   "source": [
    "<img src=\"density_char.PNG\">"
   ]
  },
  {
   "cell_type": "code",
   "execution_count": 18,
   "metadata": {},
   "outputs": [],
   "source": [
    "def c(m):\n",
    "    m1 = integrate(E**(1.j*m*x)*sin(x),(x,0,2*pi))\n",
    "    # m2 = 5 * (E**(1.j * m * pi))\n",
    "    return m1# + m2\n",
    "    "
   ]
  },
  {
   "cell_type": "markdown",
   "metadata": {},
   "source": [
    "<img src=\"density_char2.PNG\">"
   ]
  },
  {
   "cell_type": "code",
   "execution_count": null,
   "metadata": {},
   "outputs": [],
   "source": [
    "def c(m):\n",
    "    m1 = integrate(E**(1.j*m*x)*sin(x),(x,0,2*pi))\n",
    "    # m2 = 5 * (E**(1.j * m * pi))\n",
    "    return m1# + m2"
   ]
  },
  {
   "cell_type": "code",
   "execution_count": 32,
   "metadata": {},
   "outputs": [],
   "source": [
    "def partial_sum2(k):\n",
    "    sum = 0\n",
    "    sum += c(0) \n",
    "    for i in range(k - 1):\n",
    "        sum += c(i) *( E**(-1.j *i*a*t) -  E**(-1.j *i*a*t) / ( 1.j*t)) \n",
    "        sum += c(-i) * ( E**(-1.j *i*a*t) -  E**(-1.j *i*a*t) / ( 1.j*t)) \n",
    "        sum = sum.simplify()\n",
    "    return sum"
   ]
  },
  {
   "cell_type": "code",
   "execution_count": 40,
   "metadata": {},
   "outputs": [],
   "source": [
    "def partial_sum(k):\n",
    "    sum = 0\n",
    "    sum += c(0) \n",
    "    for i in range(k - 1):\n",
    "        sum += c(i) * E**(-1.j *i*t)\n",
    "        sum += c(-i) * E**(-1.j * -i *t)\n",
    "        sum = sum.simplify()\n",
    "    return sum"
   ]
  },
  {
   "cell_type": "code",
   "execution_count": 20,
   "metadata": {},
   "outputs": [
    {
     "data": {
      "text/plain": [
       "100"
      ]
     },
     "execution_count": 20,
     "metadata": {},
     "output_type": "execute_result"
    }
   ],
   "source": [
    "10**2"
   ]
  },
  {
   "cell_type": "code",
   "execution_count": 42,
   "metadata": {},
   "outputs": [],
   "source": [
    "A = partial_sum(10)"
   ]
  },
  {
   "cell_type": "code",
   "execution_count": 45,
   "metadata": {},
   "outputs": [
    {
     "data": {
      "text/latex": [
       "$\\displaystyle 2.0 \\cdot 10^{-148} + 2.0 \\cdot 10^{-125} i$"
      ],
      "text/plain": [
       "0.e-148 + 0.e-125*I"
      ]
     },
     "execution_count": 45,
     "metadata": {},
     "output_type": "execute_result"
    }
   ],
   "source": [
    "A.evalf(subs={t:0})"
   ]
  },
  {
   "cell_type": "markdown",
   "metadata": {},
   "source": [
    "wie hoch muss T gewählt werden?"
   ]
  },
  {
   "cell_type": "code",
   "execution_count": 22,
   "metadata": {},
   "outputs": [],
   "source": [
    "import numpy as np"
   ]
  },
  {
   "cell_type": "code",
   "execution_count": 23,
   "metadata": {},
   "outputs": [],
   "source": [
    "def partial_sum(k):\n",
    "    sum = 0\n",
    "    sum += c(0) \n",
    "    for i in range(k - 1):\n",
    "        sum += c(i) * E**(-1.j *i*t)\n",
    "        sum += c(-i) * E**(-1.j * -i *t)\n",
    "    return sum"
   ]
  },
  {
   "cell_type": "code",
   "execution_count": 24,
   "metadata": {},
   "outputs": [
    {
     "data": {
      "text/latex": [
       "$\\displaystyle - 1.0 i \\pi e^{- 2.0 i \\pi} e^{1.0 i t} + \\left(-0.333333333333333 + 0.333333333333333 e^{- 4.0 i \\pi}\\right) e^{2.0 i t} + \\left(-0.333333333333333 + 0.333333333333333 e^{4.0 i \\pi}\\right) e^{- 2.0 i t} + \\left(0.5 - 0.5 e^{2.0 i \\pi} + 1.0 i \\pi e^{2.0 i \\pi}\\right) e^{- 1.0 i t}$"
      ],
      "text/plain": [
       "-1.0*I*pi*exp(-2.0*I*pi)*exp(1.0*I*t) + (-0.333333333333333 + 0.333333333333333*exp(-4.0*I*pi))*exp(2.0*I*t) + (-0.333333333333333 + 0.333333333333333*exp(4.0*I*pi))*exp(-2.0*I*t) + (0.5 - 0.5*exp(2.0*I*pi) + 1.0*I*pi*exp(2.0*I*pi))*exp(-1.0*I*t)"
      ]
     },
     "execution_count": 24,
     "metadata": {},
     "output_type": "execute_result"
    }
   ],
   "source": [
    "partial_sum(4)"
   ]
  },
  {
   "cell_type": "code",
   "execution_count": 46,
   "metadata": {},
   "outputs": [],
   "source": [
    "m = Symbol('m',is_positive = True, is_integer = True)"
   ]
  },
  {
   "cell_type": "code",
   "execution_count": 47,
   "metadata": {},
   "outputs": [],
   "source": [
    "sum = Sum(c(k) * E**(-1.j *k*t),(k,m,-m))"
   ]
  },
  {
   "cell_type": "code",
   "execution_count": 48,
   "metadata": {},
   "outputs": [],
   "source": [
    "arr = np.linspace(0,20,21)\n",
    "exp = [c(m) for m in arr]"
   ]
  },
  {
   "cell_type": "code",
   "execution_count": 49,
   "metadata": {},
   "outputs": [],
   "source": [
    "# t = np.linspace()\n",
    "f  = np.fft.fftshift(np.fft.fft(exp))"
   ]
  },
  {
   "cell_type": "code",
   "execution_count": null,
   "metadata": {},
   "outputs": [],
   "source": []
  },
  {
   "cell_type": "code",
   "execution_count": 50,
   "metadata": {},
   "outputs": [
    {
     "data": {
      "text/plain": [
       "[<matplotlib.lines.Line2D at 0x21e2e1678b0>]"
      ]
     },
     "execution_count": 50,
     "metadata": {},
     "output_type": "execute_result"
    },
    {
     "data": {
      "image/png": "[encoded data removed]",
      "text/plain": [
       "<Figure size 432x288 with 1 Axes>"
      ]
     },
     "metadata": {
      "needs_background": "light"
     },
     "output_type": "display_data"
    }
   ],
   "source": [
    "import matplotlib.pyplot as plt\n",
    "fig,axs = plt.subplots(1)\n",
    "axs.plot(np.abs(f))"
   ]
  },
  {
   "cell_type": "code",
   "execution_count": 51,
   "metadata": {},
   "outputs": [
    {
     "data": {
      "text/plain": [
       "array([ 1.26046570e-24+0.14959965j, -4.40952710e-02+0.14295336j,\n",
       "       -8.42724836e-02+0.12360503j, -1.16961716e-01+0.09327386j,\n",
       "       -1.39258387e-01+0.05465489j, -1.49181339e-01+0.0111796j ,\n",
       "       -1.45848875e-01-0.03328905j, -1.29557097e-01-0.07479983j,\n",
       "       -1.01753604e-01-0.1096643j , -6.49088556e-02-0.13478463j,\n",
       "       -2.22966709e-02-0.14792875j,  2.22966709e-02-0.14792875j,\n",
       "        6.49088556e-02-0.13478463j,  1.01753604e-01-0.1096643j ,\n",
       "        1.29557097e-01-0.07479983j,  1.45848875e-01-0.03328905j,\n",
       "        1.49181339e-01+0.0111796j ,  1.39258387e-01+0.05465489j,\n",
       "        1.16961716e-01+0.09327386j,  8.42724836e-02+0.12360503j,\n",
       "        4.40952710e-02+0.14295336j])"
      ]
     },
     "execution_count": 51,
     "metadata": {},
     "output_type": "execute_result"
    }
   ],
   "source": [
    "np.fft.ifft(exp)"
   ]
  }
 ],
 "metadata": {
  "kernelspec": {
   "display_name": "Python 3",
   "language": "python",
   "name": "python3"
  },
  "language_info": {
   "codemirror_mode": {
    "name": "ipython",
    "version": 3
   },
   "file_extension": ".py",
   "mimetype": "text/x-python",
   "name": "python",
   "nbconvert_exporter": "python",
   "pygments_lexer": "ipython3",
   "version": "3.9.12"
  }
 },
 "nbformat": 4,
 "nbformat_minor": 2
}
