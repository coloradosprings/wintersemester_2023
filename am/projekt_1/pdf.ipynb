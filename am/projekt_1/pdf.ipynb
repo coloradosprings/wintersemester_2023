{
 "cells": [
  {
   "cell_type": "code",
   "execution_count": 1,
   "metadata": {},
   "outputs": [
    {
     "name": "stdout",
     "output_type": "stream",
     "text": [
      "Collecting PyPDF2\n",
      "  Downloading pypdf2-3.0.1-py3-none-any.whl (232 kB)\n",
      "Requirement already satisfied: typing_extensions>=3.10.0.0 in c:\\users\\natsc\\anaconda3\\lib\\site-packages (from PyPDF2) (4.1.1)\n",
      "Installing collected packages: PyPDF2\n",
      "Successfully installed PyPDF2-3.0.1\n"
     ]
    },
    {
     "name": "stderr",
     "output_type": "stream",
     "text": [
      "WARNING: You are using pip version 22.1.2; however, version 23.3.2 is available.\n",
      "You should consider upgrading via the 'c:\\Users\\natsc\\anaconda3\\python.exe -m pip install --upgrade pip' command.\n"
     ]
    }
   ],
   "source": [
    "!pip install PyPDF2"
   ]
  },
  {
   "cell_type": "code",
   "execution_count": 5,
   "metadata": {},
   "outputs": [
    {
     "name": "stdout",
     "output_type": "stream",
     "text": [
      "3\n",
      "Aufgabe 10.4. Seiv= (v1, . . . , v n)∈Cn,z∈C. Implementieren Sie folgende Funktionen:\n",
      "•ComplexVector MultiplyScalar(ComplexVector v, Complex z) , welche das Produkt mit einem\n",
      "Skalar ( zv1, . . . , zv n) berechnet\n",
      "•ComplexVector conjugate(ComplexVector v) , welche ( v1, . . . , vn) berechnet\n",
      "•Vector modulus(ComplexVector v) , welche ( |v1|, . . . ,|vn|) berechnet\n",
      "F¨urz=zr+izi∈C,z:=zr−iziund|z|:=p\n",
      "z2r+z2\n",
      "i. Verwenden Sie read-only Referenzen wo es\n",
      "sinnvoll ist.\n",
      "Aufgabe 10.5. Erweitern Sie die Klasse Matrix aus der Vorlesung (Folie 52) um die folgenden Metho-\n",
      "den:\n",
      "•Matrix transpose() , die die transponierte Matrix berechnet. Die Transponierte der Matrix A∈\n",
      "Rm×nist durch AT∈Rn×mdefiniert, wo ( AT)j,k= (A)k,j.\n",
      "•Matrix ScalarMultiply(double a) , die das Produkt mit α∈Rberechnet. Das Produkt der\n",
      "Matrix A∈Rm×n, mit der Zahl α∈Rist durch ( αA)j,k=α(A)j,kdefiniert.\n",
      "•Matrix RightMultiply(Matrix B) , die das Produkt von Rechts mit einer anderen Matrix berech-\n",
      "net. Das Produkt zweier Matrizen A∈Rm×n,B∈Rn×pist durch ( AB)i,k=Pn\n",
      "j=1(A)i,j(B)j,k\n",
      "definiert.\n",
      "Verwenden Sie (read-only) Referenzen wo es sinnvoll ist!\n",
      "Aufgabe 10.6. Seip, q, m, n ≥1,A∈Rn×mgegeben. Die Lp,qNorm ist durch\n",
      "∥A∥p,q=\n",
      "mX\n",
      "j=1 nX\n",
      "i=1|ai,j|p!q/p\n",
      "1/q\n",
      "definiert. Erweitern Sie die Klasse Matrix um eine Methode, die die Lp,qNorm berechnet. Verwenden\n",
      "Sie (read-only) Referenzen wo es sinnvoll ist!\n",
      "Aufgabe 10.7. Erweitern Sie die Klasse Matrix um die Methode void swapRows(int i, int j) ,\n",
      "welche die i-te und j-te Zeile von Avertauscht. Außerdem, implementieren Sie eine Funktion Matrix\n",
      "sortByRow(Matrix A) , welche eine sortierte Version von Aherstellt, ohne Azu¨andern. Die neue Matrix\n",
      "soll nach dem ersten Eintrag jeder Zeile sortiert sein. Zum Beispiel,\n",
      "A=\n",
      "2.1 7 .\n",
      "1.−3.\n",
      "−3.3 9 .\n",
      " sortByRow (A) =\n",
      "−3.3 9 .\n",
      "1.−3.\n",
      "2.1 7 .\n",
      "\n",
      "Verwenden Sie read-only Referenzen wo es sinnvoll ist.\n",
      "Aufgabe 10.8. Laut der Vorlesung ist der Zugriff auf private Members einer Klasse nur ¨uber set-\n",
      "undget-Methoden der Klasse m ¨oglich. Wie lautet die Ausgabe des folgenden C++ Programms? Warum\n",
      "ist das m ¨oglich? Erk ¨aren Sie, warum das schlechter Programmierstil ist.\n",
      "#include <iostream>\n",
      "using std::cout;\n",
      "using std::endl;\n",
      "class Test{\n",
      "private:\n",
      "int N;\n",
      "public:\n",
      "void setN(int N_in) { N = N_in; };\n"
     ]
    }
   ],
   "source": [
    "# importing all the required modules\n",
    "import PyPDF2\n",
    "\n",
    "# creating a pdf reader object\n",
    "reader = PyPDF2.PdfReader('serie10.pdf')\n",
    "\n",
    "# print the number of pages in pdf file\n",
    "print(len(reader.pages))\n",
    "\n",
    "# print the text of the first page\n",
    "print(reader.pages[1].extract_text())"
   ]
  },
  {
   "cell_type": "code",
   "execution_count": 7,
   "metadata": {},
   "outputs": [
    {
     "name": "stderr",
     "output_type": "stream",
     "text": [
      "ERROR: Could not find a version that satisfies the requirement PIL (from versions: none)\n",
      "ERROR: No matching distribution found for PIL\n",
      "WARNING: You are using pip version 22.1.2; however, version 23.3.2 is available.\n",
      "You should consider upgrading via the 'c:\\Users\\natsc\\anaconda3\\python.exe -m pip install --upgrade pip' command.\n"
     ]
    },
    {
     "name": "stdout",
     "output_type": "stream",
     "text": [
      "Requirement already satisfied: pdf2image in c:\\users\\natsc\\anaconda3\\lib\\site-packages (1.16.3)\n",
      "Requirement already satisfied: pillow in c:\\users\\natsc\\anaconda3\\lib\\site-packages (from pdf2image) (9.0.1)\n"
     ]
    },
    {
     "name": "stderr",
     "output_type": "stream",
     "text": [
      "WARNING: You are using pip version 22.1.2; however, version 23.3.2 is available.\n",
      "You should consider upgrading via the 'c:\\Users\\natsc\\anaconda3\\python.exe -m pip install --upgrade pip' command.\n"
     ]
    }
   ],
   "source": [
    "!pip install PIL\n",
    "!pip install pdf2image"
   ]
  },
  {
   "cell_type": "code",
   "execution_count": 8,
   "metadata": {},
   "outputs": [],
   "source": [
    "from pdf2image import convert_from_path\n",
    "from PIL import Image\n",
    " \n",
    "def convert_pdf_to_grayscale_images(pdf_path, output_folder):\n",
    "    \"\"\"\n",
    "    Converts a PDF into grayscale images.\n",
    "    \n",
    "    Parameters:\n",
    "    pdf_path (str): The path to the PDF file.\n",
    "    output_folder (str): The folder where the grayscale images will be saved.\n",
    "    \n",
    "    Returns:\n",
    "    list: A list of grayscale image paths.\n",
    "    \"\"\"\n",
    "    try:\n",
    "        # Convert PDF pages to images\n",
    "        images = convert_from_path(pdf_path)\n",
    "        \n",
    "        grayscale_image_paths = []\n",
    "        \n",
    "        # Convert each image to grayscale and save\n",
    "        for i, image in enumerate(images):\n",
    "            grayscale_image = image.convert(\"L\")\n",
    "            grayscale_image_path = f\"{output_folder}/page_{i+1}.png\"\n",
    "            grayscale_image.save(grayscale_image_path)\n",
    "            grayscale_image_paths.append(grayscale_image_path)\n",
    "        \n",
    "        return grayscale_image_paths\n",
    "    except Exception as e:\n",
    "        # Log the error\n",
    "        print(f\"Error: {e}\")\n",
    "        return []"
   ]
  },
  {
   "cell_type": "code",
   "execution_count": 21,
   "metadata": {},
   "outputs": [],
   "source": [
    "import numpy as np\n"
   ]
  },
  {
   "cell_type": "code",
   "execution_count": 43,
   "metadata": {},
   "outputs": [],
   "source": [
    "import matplotlib.pyplot as plt"
   ]
  },
  {
   "cell_type": "markdown",
   "metadata": {},
   "source": [
    "code"
   ]
  },
  {
   "cell_type": "code",
   "execution_count": 28,
   "metadata": {},
   "outputs": [],
   "source": [
    "z = np.array(convert_from_path(\"serie10.pdf\",poppler_path = r\"D:\\Release-23.11.0-0\\poppler-23.11.0\\Library\\bin\")[0])"
   ]
  },
  {
   "cell_type": "code",
   "execution_count": 40,
   "metadata": {},
   "outputs": [],
   "source": [
    "z = convert_from_path(\"serie10.pdf\",poppler_path = r\"D:\\Release-23.11.0-0\\poppler-23.11.0\\Library\\bin\" ,grayscale=True,fmt=\"jpeg\",thread_count=4\n",
    ")[0]"
   ]
  },
  {
   "cell_type": "code",
   "execution_count": 46,
   "metadata": {},
   "outputs": [
    {
     "data": {
      "text/plain": [
       "<matplotlib.image.AxesImage at 0x1de406a45b0>"
      ]
     },
     "execution_count": 46,
     "metadata": {},
     "output_type": "execute_result"
    },
    {
     "data": {
      "image/png": "[encoded data removed]",
      "text/plain": [
       "<Figure size 432x288 with 1 Axes>"
      ]
     },
     "metadata": {
      "needs_background": "light"
     },
     "output_type": "display_data"
    }
   ],
   "source": [
    "plt.imshow(np.array(z))"
   ]
  },
  {
   "cell_type": "code",
   "execution_count": null,
   "metadata": {},
   "outputs": [],
   "source": [
    "np.array(z)"
   ]
  },
  {
   "cell_type": "markdown",
   "metadata": {},
   "source": [
    "gan-implementation für trainingsdaten"
   ]
  },
  {
   "cell_type": "markdown",
   "metadata": {},
   "source": [
    "<img src=\"gan.PNG\"></img>"
   ]
  },
  {
   "cell_type": "code",
   "execution_count": 8,
   "metadata": {},
   "outputs": [],
   "source": [
    "path = 'D:\\latex\\im2latex_formulas.lst'\n",
    "formulas = open(path,encoding='latin-1').read( ).split(\"\\n\")[:10]"
   ]
  },
  {
   "cell_type": "code",
   "execution_count": 16,
   "metadata": {},
   "outputs": [
    {
     "data": {
      "text/latex": [
       "$\\displaystyle \\int_{-\\epsilon}^\\infty dl\\: {\\rm e}^{-l\\zeta}\t\\int_{-\\epsilon}^\\infty dl' {\\rm e}^{-l'\\zeta}\tll'{l'-l \\over l+l'} \\{3\\,\\delta''(l) - {3 \\over 4}t\\,\\delta(l) \\} =0.\t\t$"
      ],
      "text/plain": [
       "<IPython.core.display.Math object>"
      ]
     },
     "execution_count": 16,
     "metadata": {},
     "output_type": "execute_result"
    }
   ],
   "source": [
    "from IPython.display import Math\n",
    "Math(\"\\\\int_{-\\\\epsilon}^\\\\infty dl\\\\: {\\\\rm e}^{-l\\\\zeta}\\t\\\\int_{-\\\\epsilon}^\\\\infty dl' {\\\\rm e}^{-l'\\\\zeta}\\tll'{l'-l \\\\over l+l'} \\\\{3\\\\,\\\\delta''(l) - {3 \\\\over 4}t\\\\,\\\\delta(l) \\\\} =0.\\t\\t\")"
   ]
  },
  {
   "cell_type": "code",
   "execution_count": 9,
   "metadata": {},
   "outputs": [
    {
     "data": {
      "text/plain": [
       "[\"\\\\int_{-\\\\epsilon}^\\\\infty dl\\\\: {\\\\rm e}^{-l\\\\zeta}\\t\\\\int_{-\\\\epsilon}^\\\\infty dl' {\\\\rm e}^{-l'\\\\zeta}\\tll'{l'-l \\\\over l+l'} \\\\{3\\\\,\\\\delta''(l) - {3 \\\\over 4}t\\\\,\\\\delta(l) \\\\} =0.\\t\\t\\\\label{eq21}\",\n",
       " 'ds^{2} = (1 - {qcos\\\\theta\\\\over r})^{2\\\\over 1 + \\\\alpha^{2}}\\\\lbrace dr^2+r^2d\\\\theta^2+r^2sin^2\\\\theta d\\\\varphi^2\\\\rbrace -{dt^2\\\\over  (1 - {qcos\\\\theta\\\\over r})^{2\\\\over 1 + \\\\alpha^{2}}}\\\\, .\\\\label{eq:sps1}',\n",
       " '\\\\widetilde\\\\gamma_{\\\\rm hopf}\\\\simeq\\\\sum_{n>0}\\\\widetilde{G}_n{(-a)^n\\\\over2^{2n-1}}\\\\label{H4}',\n",
       " '({\\\\cal L}_a g)_{ij} = 0, \\\\ \\\\ \\\\ \\\\ ({\\\\cal L}_a H)_{ijk} = 0 ,',\n",
       " 'S_{stat} = 2\\\\pi \\\\sqrt{N_5^{(1)} N_5^{(2)} N_5^{(3)}} \\\\left(\\\\sqrt{n} +\\\\sqrt{\\\\bar{n}}\\\\right)\\\\label{74}',\n",
       " '\\\\hat N_3 = \\\\sum\\\\sp f_{j=1}a_j\\\\sp {\\\\dagger} a_j \\\\,. \\\\label{c5}',\n",
       " '+ \\\\int\\\\!\\\\!d^D\\\\!z_1 d^D\\\\!z_2 d^D\\\\!z_3 \\\\left.       \\\\frac{\\\\delta^2 W}{\\\\delta j(x) \\\\delta j(z_1)} \\\\,       \\\\frac{\\\\delta^2 W}{\\\\delta j(x) \\\\delta j(z_2)} \\\\,       \\\\frac{\\\\delta^2 W}{\\\\delta j(x) \\\\delta j(z_3)} \\\\,       \\\\frac{\\\\delta^3 \\\\Gamma}                  {\\\\delta \\\\Phi(z_1) \\\\delta \\\\Phi(z_2) \\\\delta \\\\Phi(z_3)}          \\\\right] ,',\n",
       " '\\\\,^{*}d\\\\,^{*}H=\\\\kappa \\\\,^{*}d\\\\phi = J_B  . \\\\label{bfm19}',\n",
       " \"{\\\\phi''\\\\over A} +{1\\\\over A}\\\\left( -{1\\\\over 2}{A'\\\\over A}+2{B'\\\\over B}+{2\\\\over r}\\\\right)\\\\phi'-{2 \\\\over r^2}\\\\phi -\\\\lambda\\\\phi (\\\\phi^2-\\\\eta^2) =0\\\\,.\\\\label{eq=phi}\",\n",
       " '\\\\label{maxw}\\\\partial_{\\\\mu} (F^{\\\\mu\\\\nu}-ej^{\\\\mu}x^{\\\\nu})=0 .']"
      ]
     },
     "execution_count": 9,
     "metadata": {},
     "output_type": "execute_result"
    }
   ],
   "source": [
    "formulas"
   ]
  }
 ],
 "metadata": {
  "kernelspec": {
   "display_name": "Python 3",
   "language": "python",
   "name": "python3"
  },
  "language_info": {
   "codemirror_mode": {
    "name": "ipython",
    "version": 3
   },
   "file_extension": ".py",
   "mimetype": "text/x-python",
   "name": "python",
   "nbconvert_exporter": "python",
   "pygments_lexer": "ipython3",
   "version": "3.9.12"
  }
 },
 "nbformat": 4,
 "nbformat_minor": 2
}
