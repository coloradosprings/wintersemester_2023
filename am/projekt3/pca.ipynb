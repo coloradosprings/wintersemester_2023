{
 "cells": [
  {
   "cell_type": "code",
   "execution_count": 1,
   "metadata": {},
   "outputs": [
    {
     "name": "stdout",
     "output_type": "stream",
     "text": [
      "Collecting yahoo_fin\n",
      "  Downloading yahoo_fin-0.8.9.1-py3-none-any.whl (10 kB)\n",
      "Requirement already satisfied: pandas in c:\\users\\natsc\\anaconda3\\lib\\site-packages (from yahoo_fin) (1.4.2)\n",
      "Collecting feedparser\n",
      "  Downloading feedparser-6.0.11-py3-none-any.whl (81 kB)\n",
      "Requirement already satisfied: requests in c:\\users\\natsc\\anaconda3\\lib\\site-packages (from yahoo_fin) (2.27.1)\n",
      "Collecting requests-html\n",
      "  Downloading requests_html-0.10.0-py3-none-any.whl (13 kB)\n",
      "Collecting sgmllib3k\n",
      "  Downloading sgmllib3k-1.0.0.tar.gz (5.8 kB)\n",
      "Requirement already satisfied: numpy>=1.18.5 in c:\\users\\natsc\\anaconda3\\lib\\site-packages (from pandas->yahoo_fin) (1.24.3)\n",
      "Requirement already satisfied: pytz>=2020.1 in c:\\users\\natsc\\anaconda3\\lib\\site-packages (from pandas->yahoo_fin) (2021.3)\n",
      "Requirement already satisfied: python-dateutil>=2.8.1 in c:\\users\\natsc\\anaconda3\\lib\\site-packages (from pandas->yahoo_fin) (2.8.2)\n",
      "Requirement already satisfied: six>=1.5 in c:\\users\\natsc\\anaconda3\\lib\\site-packages (from python-dateutil>=2.8.1->pandas->yahoo_fin) (1.16.0)\n",
      "Requirement already satisfied: certifi>=2017.4.17 in c:\\users\\natsc\\anaconda3\\lib\\site-packages (from requests->yahoo_fin) (2023.11.17)\n",
      "Requirement already satisfied: urllib3<1.27,>=1.21.1 in c:\\users\\natsc\\anaconda3\\lib\\site-packages (from requests->yahoo_fin) (1.26.18)\n",
      "Requirement already satisfied: idna<4,>=2.5 in c:\\users\\natsc\\anaconda3\\lib\\site-packages (from requests->yahoo_fin) (3.3)\n",
      "Requirement already satisfied: charset-normalizer~=2.0.0 in c:\\users\\natsc\\anaconda3\\lib\\site-packages (from requests->yahoo_fin) (2.0.4)\n",
      "Collecting parse\n",
      "  Downloading parse-1.20.0-py2.py3-none-any.whl (19 kB)\n",
      "Collecting bs4\n",
      "  Downloading bs4-0.0.1.tar.gz (1.1 kB)\n",
      "Requirement already satisfied: w3lib in c:\\users\\natsc\\anaconda3\\lib\\site-packages (from requests-html->yahoo_fin) (1.21.0)\n",
      "Collecting fake-useragent\n",
      "  Downloading fake_useragent-1.4.0-py3-none-any.whl (15 kB)\n",
      "Collecting pyppeteer>=0.0.14\n",
      "  Downloading pyppeteer-1.0.2-py3-none-any.whl (83 kB)\n",
      "Collecting pyquery\n",
      "  Downloading pyquery-2.0.0-py3-none-any.whl (22 kB)\n",
      "Requirement already satisfied: tqdm<5.0.0,>=4.42.1 in c:\\users\\natsc\\anaconda3\\lib\\site-packages (from pyppeteer>=0.0.14->requests-html->yahoo_fin) (4.64.0)\n",
      "Requirement already satisfied: appdirs<2.0.0,>=1.4.3 in c:\\users\\natsc\\anaconda3\\lib\\site-packages (from pyppeteer>=0.0.14->requests-html->yahoo_fin) (1.4.4)\n",
      "Requirement already satisfied: importlib-metadata>=1.4 in c:\\users\\natsc\\anaconda3\\lib\\site-packages (from pyppeteer>=0.0.14->requests-html->yahoo_fin) (4.11.3)\n",
      "Collecting pyee<9.0.0,>=8.1.0\n",
      "  Downloading pyee-8.2.2-py2.py3-none-any.whl (12 kB)\n",
      "Collecting websockets<11.0,>=10.0\n",
      "  Downloading websockets-10.4-cp39-cp39-win_amd64.whl (101 kB)\n",
      "Requirement already satisfied: zipp>=0.5 in c:\\users\\natsc\\anaconda3\\lib\\site-packages (from importlib-metadata>=1.4->pyppeteer>=0.0.14->requests-html->yahoo_fin) (3.7.0)\n",
      "Requirement already satisfied: colorama in c:\\users\\natsc\\anaconda3\\lib\\site-packages (from tqdm<5.0.0,>=4.42.1->pyppeteer>=0.0.14->requests-html->yahoo_fin) (0.4.4)\n",
      "Requirement already satisfied: beautifulsoup4 in c:\\users\\natsc\\anaconda3\\lib\\site-packages (from bs4->requests-html->yahoo_fin) (4.11.1)\n",
      "Requirement already satisfied: soupsieve>1.2 in c:\\users\\natsc\\anaconda3\\lib\\site-packages (from beautifulsoup4->bs4->requests-html->yahoo_fin) (2.3.1)\n",
      "Collecting importlib-resources>=5.0\n",
      "  Downloading importlib_resources-6.1.1-py3-none-any.whl (33 kB)\n",
      "Requirement already satisfied: lxml>=2.1 in c:\\users\\natsc\\anaconda3\\lib\\site-packages (from pyquery->requests-html->yahoo_fin) (4.8.0)\n",
      "Collecting cssselect>=1.2.0\n",
      "  Downloading cssselect-1.2.0-py2.py3-none-any.whl (18 kB)\n",
      "Building wheels for collected packages: bs4, sgmllib3k\n",
      "  Building wheel for bs4 (setup.py): started\n",
      "  Building wheel for bs4 (setup.py): finished with status 'done'\n",
      "  Created wheel for bs4: filename=bs4-0.0.1-py3-none-any.whl size=1272 sha256=30d558a893448270bae64ab99cf0547d978d2e39730749f4df2c902be9ec7842\n",
      "  Stored in directory: c:\\users\\natsc\\appdata\\local\\pip\\cache\\wheels\\73\\2b\\cb\\099980278a0c9a3e57ff1a89875ec07bfa0b6fcbebb9a8cad3\n",
      "  Building wheel for sgmllib3k (setup.py): started\n",
      "  Building wheel for sgmllib3k (setup.py): finished with status 'done'\n",
      "  Created wheel for sgmllib3k: filename=sgmllib3k-1.0.0-py3-none-any.whl size=6066 sha256=8b93cf2a3503abad60f2503a99c185591cb685f56627af7d0af5cbbfeb65fd65\n",
      "  Stored in directory: c:\\users\\natsc\\appdata\\local\\pip\\cache\\wheels\\65\\7a\\a7\\78c287f64e401255dff4c13fdbc672fed5efbfd21c530114e1\n",
      "Successfully built bs4 sgmllib3k\n",
      "Installing collected packages: websockets, pyee, importlib-resources, cssselect, sgmllib3k, pyquery, pyppeteer, parse, fake-useragent, bs4, requests-html, feedparser, yahoo-fin\n",
      "  Attempting uninstall: cssselect\n",
      "    Found existing installation: cssselect 1.1.0\n",
      "    Uninstalling cssselect-1.1.0:\n",
      "      Successfully uninstalled cssselect-1.1.0\n",
      "Successfully installed bs4-0.0.1 cssselect-1.2.0 fake-useragent-1.4.0 feedparser-6.0.11 importlib-resources-6.1.1 parse-1.20.0 pyee-8.2.2 pyppeteer-1.0.2 pyquery-2.0.0 requests-html-0.10.0 sgmllib3k-1.0.0 websockets-10.4 yahoo-fin-0.8.9.1\n"
     ]
    },
    {
     "name": "stderr",
     "output_type": "stream",
     "text": [
      "WARNING: You are using pip version 22.1.2; however, version 23.3.2 is available.\n",
      "You should consider upgrading via the 'c:\\Users\\natsc\\anaconda3\\python.exe -m pip install --upgrade pip' command.\n"
     ]
    }
   ],
   "source": [
    "!pip install yahoo_fin\n",
    "from get_data_train import GetData_DAX"
   ]
  },
  {
   "cell_type": "code",
   "execution_count": 3,
   "metadata": {},
   "outputs": [],
   "source": [
    "import re"
   ]
  },
  {
   "cell_type": "code",
   "execution_count": 1,
   "metadata": {},
   "outputs": [],
   "source": [
    "s = '''P911.DE\tDr. Ing. h.c. F. Porsche AG\t79,90\t0,00\t0,00%\t185.880\n",
    "DTG.DE\tDaimler Truck Holding AG\t34,02\t0,01\t+0,03%\t562.430\n",
    "ADS.DE\tadidas AG\t184,16\t0,06\t+0,03%\t161.239\n",
    "HEI.DE\tHeidelberg Materials AG\t80,94\t0,08\t+0,10%\t114.090\n",
    "EOAN.DE\tE.ON SE\t12,15\t0,01\t+0,12%\t1.898.324\n",
    "AIR.DE\tAirbus SE\t140,08\t0,28\t+0,20%\t95.975\n",
    "CON.DE\tContinental Aktiengesellschaft\t76,92\t0,22\t+0,29%\t101.645\n",
    "1COV.DE\tCovestro AG\t52,68\t-0,16\t-0,30%\t290.240\n",
    "RWE.DE\tRWE AG\t41,18\t0,13\t+0,32%\t732.440\n",
    "VOW3.DE\tVolkswagen AG\t111,80\t-0,36\t-0,32%\t419.018\n",
    "BMW.DE\tBayerische Motoren Werke Aktiengesellschaft\t100,78\t0,34\t+0,34%\t342.418\n",
    "DHL.DE\tDeutsche Post AG\t44,85\t0,15\t+0,35%\t872.866\n",
    "IFX.DE\tInfineon Technologies AG\t37,80\t0,13\t+0,36%\t1.154.724\n",
    "BAS.DE\tBASF SE\t48,78\t0,20\t+0,41%\t657.424\n",
    "BAYN.DE\tBayer Aktiengesellschaft\t33,63\t0,14\t+0,42%\t2.153.339\n",
    "DBK.DE\tDeutsche Bank AG\t12,36\t0,05\t+0,44%\t3.143.634\n",
    "HNR1.DE\tHannover Rück SE\t216,30\t1,10\t+0,51%\t54.299\n",
    "BEI.DE\tBeiersdorf Aktiengesellschaft\t135,70\t0,70\t+0,52%\t84.270\n",
    "ALV.DE\tAllianz SE\t241,95\t1,30\t+0,54%\t301.410\n",
    "MTX.DE\tMTU Aero Engines AG\t195,25\t1,20\t+0,62%\t67.587\n",
    "DTE.DE\tDeutsche Telekom AG\t21,75\t0,14\t+0,62%\t3.172.543\n",
    "SY1.DE\tSymrise AG\t99,64\t0,76\t+0,77%\t111.493\n",
    "SIE.DE\tSiemens Aktiengesellschaft\t169,92\t1,44\t+0,85%\t571.937\n",
    "DB1.DE\tDeutsche Boerse AG\t186,50\t1,80\t+0,97%\t137.820\n",
    "FRE.DE\tFresenius SE & Co. KGaA\t28,07\t-0,29\t-1,02%\t1.558.083\n",
    "VNA.DE\tVonovia SE\t28,54\t-0,31\t-1,07%\t919.961\n",
    "MRK.DE\tMerck KGaA\t144,10\t1,55\t+1,09%\t138.577\n",
    "SHL.DE\tSiemens Healthineers AG\t52,60\t-0,58\t-1,09%\t270.881\n",
    "ENR.DE\tSiemens Energy AG\t12,00\t0,20\t+1,69%\t1.310.202\n",
    "ZAL.DE\tZalando SE'''"
   ]
  },
  {
   "cell_type": "code",
   "execution_count": 6,
   "metadata": {},
   "outputs": [],
   "source": [
    "tickers = re.findall(fr'\\w*\\.DE\\b',s)\n",
    "# tickers"
   ]
  },
  {
   "cell_type": "code",
   "execution_count": 3,
   "metadata": {},
   "outputs": [
    {
     "name": "stdout",
     "output_type": "stream",
     "text": [
      "[datetime.date(2023, 12, 28), datetime.date(2023, 12, 27)]\n",
      "x\n",
      "index: 0\n"
     ]
    },
    {
     "name": "stdout",
     "output_type": "stream",
     "text": [
      "(511, 60, 4)\n",
      "x\n",
      "index: 1\n",
      "last data_block unlabeled\n",
      "y\n",
      "index: 0\n",
      "index: 1\n"
     ]
    }
   ],
   "source": [
    "x = GetData_DAX(2)"
   ]
  },
  {
   "cell_type": "code",
   "execution_count": 4,
   "metadata": {},
   "outputs": [],
   "source": [
    "#PCA?"
   ]
  }
 ],
 "metadata": {
  "kernelspec": {
   "display_name": "Python 3",
   "language": "python",
   "name": "python3"
  },
  "language_info": {
   "codemirror_mode": {
    "name": "ipython",
    "version": 3
   },
   "file_extension": ".py",
   "mimetype": "text/x-python",
   "name": "python",
   "nbconvert_exporter": "python",
   "pygments_lexer": "ipython3",
   "version": "3.9.12"
  }
 },
 "nbformat": 4,
 "nbformat_minor": 2
}
