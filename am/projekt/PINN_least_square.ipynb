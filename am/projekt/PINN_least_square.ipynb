{
 "cells": [
  {
   "cell_type": "code",
   "execution_count": 1,
   "metadata": {},
   "outputs": [],
   "source": [
    "import tensorflow as tf\n",
    "import numpy as np"
   ]
  },
  {
   "cell_type": "code",
   "execution_count": 27,
   "metadata": {},
   "outputs": [],
   "source": [
    "class Momentum(tf.Module):\n",
    "\n",
    "  def __init__(self, learning_rate=1e-3, momentum=0.7):\n",
    "    # Initialize parameters\n",
    "    self.learning_rate = learning_rate\n",
    "    self.momentum = momentum\n",
    "    self.change = 0.\n",
    "    self.title = f\"Gradient descent optimizer: learning rate={self.learning_rate}\"\n",
    "\n",
    "  def apply_gradients(self, grads, vars):\n",
    "    # Update variables \n",
    "    for grad, var in zip(grads, vars):\n",
    "      curr_change = self.learning_rate*grad + self.momentum*self.change\n",
    "      var.assign_sub(curr_change)\n",
    "      self.change = curr_change"
   ]
  },
  {
   "cell_type": "markdown",
   "metadata": {},
   "source": [
    "optimizer"
   ]
  },
  {
   "cell_type": "code",
   "execution_count": 28,
   "metadata": {},
   "outputs": [],
   "source": [
    "#https://www.tensorflow.org/guide/core/optimizers_core\n",
    "class GradientDescent(tf.Module):\n",
    "\n",
    "  def __init__(self, learning_rate=1e-3):\n",
    "    # Initialize parameters\n",
    "    self.learning_rate = learning_rate\n",
    "    self.title = f\"Gradient descent optimizer: learning rate={self.learning_rate}\"\n",
    "\n",
    "  def apply_gradients(self, grads, vars):\n",
    "    # Update variables\n",
    "    for grad, var in zip(grads, vars):\n",
    "      var.assign_sub(self.learning_rate*grad)"
   ]
  },
  {
   "cell_type": "code",
   "execution_count": null,
   "metadata": {},
   "outputs": [],
   "source": []
  },
  {
   "cell_type": "code",
   "execution_count": 4,
   "metadata": {},
   "outputs": [],
   "source": [
    "a = 1\n",
    "b = 1\n",
    "c = 1\n",
    "y0 = 1.\n",
    "y0_prime = 0.\n",
    "\n",
    "\n",
    "def g(t):\n",
    "    return np.cos(t) "
   ]
  },
  {
   "cell_type": "code",
   "execution_count": 30,
   "metadata": {},
   "outputs": [],
   "source": [
    "def inh(t,NN,g):\n",
    "    t = t.reshape(-1,1)\n",
    "    t = tf.constant(t, dtype = tf.float32)\n",
    "    t_0 = tf.zeros((1,1))\n",
    "    one = tf.ones((1,1))\n",
    "    \n",
    "    with tf.GradientTape(persistent=True) as tape:\n",
    "        tape.watch(t)\n",
    "        u = NN(t)\n",
    "        dnn = tape.gradient(u, t)\n",
    "        ddnn = tape.gradient(dnn,t)\n",
    "    ode_loss =  (a * ddnn + b * dnn + c * u - g(t))\n",
    "   \n",
    "    iv_loss = NN(t_0) # we preceed with one intital value loss y_prime\n",
    "    square_loss = tf.square(ode_loss) + tf.square(iv_loss)\n",
    "    return square_loss\n"
   ]
  },
  {
   "cell_type": "code",
   "execution_count": 6,
   "metadata": {},
   "outputs": [],
   "source": [
    "# with tf.GradientTape(persistent=True) as tape: \n",
    "#     loss = inh(train_t,NN,g)\n",
    "# grad = tape.gradient(loss, trainable_vars)\n",
    "# grad"
   ]
  },
  {
   "cell_type": "code",
   "execution_count": 29,
   "metadata": {},
   "outputs": [],
   "source": [
    "NN = tf.keras.models.Sequential([\n",
    "    tf.keras.layers.Input((1,)),\n",
    "    tf.keras.layers.Dense(units = 32, activation = tf.keras.activations.relu),\n",
    "    tf.keras.layers.Dense(units = 32, activation = tf.keras.activations.relu), #2 additional layers\n",
    "\n",
    "    tf.keras.layers.Dense(units = 1)\n",
    "])"
   ]
  },
  {
   "cell_type": "code",
   "execution_count": 8,
   "metadata": {},
   "outputs": [],
   "source": [
    "train_t = (np.array([0., 0.025, 0.475, 0.5, 0.525, 0.9, 0.95, 1., 1.05, 1.1, 1.4, 1.45, 1.5, 1.55, 1.6, 1.95, 2.])).reshape(-1, 1)\n",
    "train_loss_record1 = []\n",
    "def train(epochs = 300):\n",
    "    trainable_vars = NN.trainable_variables\n",
    "    optimizer = Momentum()\n",
    "    for _ in range(epochs):\n",
    "        with tf.GradientTape(persistent=True) as tape: \n",
    "            loss = inh(train_t,NN,g)\n",
    "        grad = tape.gradient(loss, trainable_vars)\n",
    "        optimizer.apply_gradients(grad, trainable_vars)\n",
    "        train_loss_record1.append(loss)\n",
    "\n",
    "\n"
   ]
  },
  {
   "cell_type": "code",
   "execution_count": 9,
   "metadata": {},
   "outputs": [
    {
     "name": "stdout",
     "output_type": "stream",
     "text": [
      "1/1 [==============================] - 0s 350ms/step\n"
     ]
    }
   ],
   "source": [
    "y_pred = NN.predict(train_t)"
   ]
  },
  {
   "cell_type": "markdown",
   "metadata": {},
   "source": [
    "plot\n"
   ]
  },
  {
   "cell_type": "code",
   "execution_count": 12,
   "metadata": {},
   "outputs": [],
   "source": [
    "from sympy import *\n",
    "import matplotlib.pyplot as plt\n",
    "import numpy as np"
   ]
  },
  {
   "cell_type": "code",
   "execution_count": 13,
   "metadata": {},
   "outputs": [],
   "source": [
    "t = np.linspace(0,1,10**2)\n",
    "t = t.reshape((t.shape[0],1))"
   ]
  },
  {
   "cell_type": "code",
   "execution_count": 14,
   "metadata": {},
   "outputs": [],
   "source": [
    "w,r,O,B = 1,1,1,1\n",
    "def solution(t):\n",
    "    A = 1/(-t**2*O**2 + 1j*r*t*O + w**2)\n",
    "    Z = A*E**(1j*O*t)\n",
    "    return  float(re(Z))\n",
    "def solution(t):\n",
    "    return np.sin(t)"
   ]
  },
  {
   "cell_type": "code",
   "execution_count": 15,
   "metadata": {},
   "outputs": [
    {
     "data": {
      "text/plain": [
       "0.50634885"
      ]
     },
     "execution_count": 15,
     "metadata": {},
     "output_type": "execute_result"
    }
   ],
   "source": [
    "from tensorflow.python.ops import math_ops\n",
    "def trapezoid(t, y):\n",
    "    return math_ops.reduce_sum(\n",
    "            math_ops.multiply( t[1:] - t[:-1],\n",
    "                              (y[:-1] + y[1:]) / 2.))\n",
    "            #  name='trapezoidal_integral_approx')\n",
    "np.sqrt ( trapezoid(t,(NN(t) - solution(t))**2) )\n"
   ]
  },
  {
   "cell_type": "code",
   "execution_count": 14,
   "metadata": {},
   "outputs": [],
   "source": [
    "\n",
    "# fig, axs = plt.subplots(1)\n",
    "# axs.set_xlabel(\"t\")\n",
    "# axs.set_ylabel(\"pred\")\n",
    "# axs.plot(train_t,\"b\")\n",
    "# axs.plot(train_t, [solution(t[0]) for t in train_t],\"r\")\n",
    "# axs.plot(train_t, y_pred,\"yo\")"
   ]
  },
  {
   "cell_type": "code",
   "execution_count": 35,
   "metadata": {},
   "outputs": [],
   "source": [
    "train_t = (np.array([0., 0.025, 0.475, 0.5, 0.525, 0.9, 0.95, 1., 1.05, 1.1, 1.4, 1.45, 1.5, 1.55, 1.6, 1.95, 2.])).reshape(-1, 1)\n",
    "train_loss_record1 = []\n",
    "def train(epochs = 300):\n",
    "    trainable_vars = NN.trainable_variables\n",
    "    optimizer = GradientDescent()\n",
    "    for _ in range(epochs):\n",
    "        with tf.GradientTape(persistent=True) as tape: \n",
    "            loss = inh(train_t,NN,g)\n",
    "        grad = tape.gradient(loss, trainable_vars)\n",
    "        optimizer.apply_gradients(grad, trainable_vars)\n",
    "        train_loss_record1.append(loss)\n",
    "train()"
   ]
  },
  {
   "cell_type": "code",
   "execution_count": 31,
   "metadata": {},
   "outputs": [],
   "source": [
    "train_t2 = (np.linspace(0,np.pi,17)).reshape(-1, 1)\n",
    "train_t = (np.array([0., 0.025, 0.475, 0.5, 0.525, 0.9, 0.95, 1., 1.05, 1.1, 1.4, 1.45, 1.5, 1.55, 1.6, 1.95, 2.])).reshape(-1, 1)\n",
    "train_loss_record1 = []\n",
    "def train(epochs = 300):\n",
    "    trainable_vars = NN.trainable_variables\n",
    "    optimizer = tf.keras.optimizers.SGD()\n",
    "    for _ in range(epochs):\n",
    "        with tf.GradientTape(persistent=True) as tape: \n",
    "            loss = inh(train_t,NN,g)\n",
    "        grad = tape.gradient(loss, trainable_vars)\n",
    "        optimizer.apply_gradients(zip(grad, trainable_vars))\n",
    "        train_loss_record1.append(loss)\n",
    "train()"
   ]
  },
  {
   "cell_type": "code",
   "execution_count": 36,
   "metadata": {},
   "outputs": [
    {
     "name": "stdout",
     "output_type": "stream",
     "text": [
      "1/1 [==============================] - 0s 29ms/step\n"
     ]
    }
   ],
   "source": [
    "y_pred = NN.predict(train_t)"
   ]
  },
  {
   "cell_type": "code",
   "execution_count": 37,
   "metadata": {},
   "outputs": [
    {
     "data": {
      "text/plain": [
       "[<matplotlib.lines.Line2D at 0x169651bfdc0>]"
      ]
     },
     "execution_count": 37,
     "metadata": {},
     "output_type": "execute_result"
    },
    {
     "data": {
      "image/png": "[encoded data removed]",
      "text/plain": [
       "<Figure size 432x288 with 1 Axes>"
      ]
     },
     "metadata": {
      "needs_background": "light"
     },
     "output_type": "display_data"
    }
   ],
   "source": [
    "fig, axs = plt.subplots(1)\n",
    "axs.set_xlabel(\"t\")\n",
    "axs.set_ylabel(\"pred\")\n",
    "axs.plot(train_t, y_pred,\"b\")\n",
    "axs.plot(train_t, [solution(t[0]) for t in train_t],\"r\")\n",
    "axs.plot(train_t, y_pred,\"yo\")\n"
   ]
  },
  {
   "cell_type": "code",
   "execution_count": null,
   "metadata": {},
   "outputs": [],
   "source": [
    "GradientDescent"
   ]
  }
 ],
 "metadata": {
  "kernelspec": {
   "display_name": "Python 3",
   "language": "python",
   "name": "python3"
  },
  "language_info": {
   "codemirror_mode": {
    "name": "ipython",
    "version": 3
   },
   "file_extension": ".py",
   "mimetype": "text/x-python",
   "name": "python",
   "nbconvert_exporter": "python",
   "pygments_lexer": "ipython3",
   "version": "3.9.12"
  }
 },
 "nbformat": 4,
 "nbformat_minor": 2
}
