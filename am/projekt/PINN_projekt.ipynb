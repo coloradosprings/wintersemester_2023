{
 "cells": [
  {
   "cell_type": "code",
   "execution_count": 174,
   "metadata": {},
   "outputs": [],
   "source": [
    "import tensorflow as tf\n",
    "import numpy as np"
   ]
  },
  {
   "cell_type": "code",
   "execution_count": null,
   "metadata": {},
   "outputs": [],
   "source": []
  },
  {
   "cell_type": "code",
   "execution_count": null,
   "metadata": {},
   "outputs": [],
   "source": []
  },
  {
   "cell_type": "markdown",
   "metadata": {},
   "source": [
    "We want to train the neural network for the ODE  <br>\n",
    "we are trying to find a particular solution of second order inhomegenous ode\n",
    "\n",
    "$$\n",
    "m * \\ddot y + c * \\dot y + k * y = g(t),\n",
    "$$\n",
    "with $m = 1, c = 0.1$ and $k = 1$. \n",
    "\n",
    "Therefore we define an objective \n",
    "\n",
    "$$\n",
    "\\mathcal{L}(\\mathbf{W}) = \\frac{1}{M}\\sum_{i=1}^M (m * \\ddot y_\\mathbf{W}(t_i) + c * \\dot y_\\mathbf{W}(t_i) + k * y_\\mathbf{W}(t_i)) ^ 2 + (y_\\mathbf{W}(0) - y_0) ^ 2 + (\\dot y_\\mathbf{W}(0) - \\dot y_0) ^ 2\n",
    "$$"
   ]
  },
  {
   "cell_type": "code",
   "execution_count": 257,
   "metadata": {},
   "outputs": [],
   "source": [
    "NN = tf.keras.models.Sequential([\n",
    "    tf.keras.layers.Input((1,)),\n",
    "    tf.keras.layers.Dense(units = 32, activation = 'tanh'),\n",
    "    tf.keras.layers.Dense(units = 1)\n",
    "])"
   ]
  },
  {
   "cell_type": "code",
   "execution_count": null,
   "metadata": {},
   "outputs": [],
   "source": []
  },
  {
   "cell_type": "code",
   "execution_count": 258,
   "metadata": {},
   "outputs": [],
   "source": [
    "# NN(0)"
   ]
  },
  {
   "cell_type": "code",
   "execution_count": 259,
   "metadata": {},
   "outputs": [],
   "source": [
    "a = 1\n",
    "b = 1\n",
    "c = 1\n",
    "y0 = 1.\n",
    "y0_prime = 0."
   ]
  },
  {
   "cell_type": "code",
   "execution_count": 260,
   "metadata": {},
   "outputs": [],
   "source": [
    "\n",
    "def g(t):\n",
    "    return t\n",
    "def ode_system(t, net):\n",
    "    t = t.reshape(-1,1)\n",
    "    t = tf.constant(t, dtype = tf.float32)\n",
    "    t_0 = tf.zeros((1,1))\n",
    "    one = tf.ones((1,1))\n",
    "\n",
    "    with tf.GradientTape() as tape:\n",
    "        tape.watch(t)\n",
    "\n",
    "        u = net(t)\n",
    "        u_t = tape.gradient(u, t)\n",
    "\n",
    "    ode_loss = u_t - tf.math.cos(2*np.pi*t)\n",
    "    IC_loss = net(t_0) - one"
   ]
  },
  {
   "cell_type": "code",
   "execution_count": 261,
   "metadata": {},
   "outputs": [],
   "source": [
    "from sympy import *\n",
    "z = Symbol(\"z\")"
   ]
  },
  {
   "cell_type": "markdown",
   "metadata": {},
   "source": [
    "losses"
   ]
  },
  {
   "cell_type": "code",
   "execution_count": 262,
   "metadata": {},
   "outputs": [],
   "source": [
    "def inh(t,NN,g):\n",
    "    t = t.reshape(-1,1)\n",
    "    t = tf.constant(t, dtype = tf.float32)\n",
    "    t_0 = tf.zeros((1,1))\n",
    "    one = tf.ones((1,1))\n",
    "    \n",
    "    with tf.GradientTape(persistent=True) as tape:\n",
    "        tape.watch(t)\n",
    "        u = NN(t)\n",
    "        dnn = tape.gradient(u, t)\n",
    "        ddnn = tape.gradient(dnn,t)\n",
    "    ode_loss =  (a * ddnn + b * dnn + c * u - g(t))\n",
    "   \n",
    "    iv_loss = y0 - NN(t_0) # we preceed with one intital value loss y_prime\n",
    "    square_loss = tf.square(ode_loss) + tf.square(iv_loss)\n",
    "    total_loss = tf.reduce_mean(square_loss)\n",
    "    return total_loss\n",
    "\n",
    "        \n",
    "    "
   ]
  },
  {
   "cell_type": "code",
   "execution_count": null,
   "metadata": {},
   "outputs": [],
   "source": []
  },
  {
   "cell_type": "code",
   "execution_count": 263,
   "metadata": {},
   "outputs": [],
   "source": [
    "train_t = (np.array([0., 0.025, 0.475, 0.5, 0.525, 0.9, 0.95, 1., 1.05, 1.1, 1.4, 1.45, 1.5, 1.55, 1.6, 1.95, 2.])).reshape(-1, 1)\n",
    "train_loss_record = []"
   ]
  },
  {
   "cell_type": "code",
   "execution_count": 264,
   "metadata": {},
   "outputs": [],
   "source": [
    "\n",
    "# t = t.reshape(-1,1)\n",
    "# t = tf.constant(t, dtype = tf.float32)\n",
    "# t_0 = tf.zeros((1,1))\n",
    "# one = tf.ones((1,1))"
   ]
  },
  {
   "cell_type": "code",
   "execution_count": 265,
   "metadata": {},
   "outputs": [],
   "source": [
    "trainable_vars = NN.trainable_variables"
   ]
  },
  {
   "cell_type": "markdown",
   "metadata": {},
   "source": [
    "train"
   ]
  },
  {
   "cell_type": "code",
   "execution_count": 266,
   "metadata": {},
   "outputs": [],
   "source": [
    "train_t = (np.array([0., 0.025, 0.475, 0.5, 0.525, 0.9, 0.95, 1., 1.05, 1.1, 1.4, 1.45, 1.5, 1.55, 1.6, 1.95, 2.])).reshape(-1, 1)\n",
    "train_loss_record1 = []\n",
    "\n",
    "optimizer = tf.optimizers.SGD(learning_rate=0.01)\n",
    "epochs = 100 \n",
    "for _ in range(epochs):\n",
    "    with tf.GradientTape(persistent=True) as tape: \n",
    "        loss = inh(train_t,NN,g)\n",
    "    grad = tape.gradient(loss, trainable_vars)\n",
    "    optimizer.apply_gradients(zip(grad, trainable_vars))\n",
    "    train_loss_record.append(loss)\n",
    "\n",
    "\n"
   ]
  },
  {
   "cell_type": "code",
   "execution_count": 267,
   "metadata": {},
   "outputs": [
    {
     "name": "stdout",
     "output_type": "stream",
     "text": [
      "1/1 [==============================] - 0s 82ms/step\n"
     ]
    }
   ],
   "source": [
    "y_pred = NN.predict(train_t)"
   ]
  },
  {
   "cell_type": "code",
   "execution_count": 268,
   "metadata": {},
   "outputs": [
    {
     "data": {
      "text/plain": [
       "array([[0.8962828 ],\n",
       "       [0.90066224],\n",
       "       [0.9711887 ],\n",
       "       [0.9747185 ],\n",
       "       [0.9782155 ],\n",
       "       [1.0275507 ],\n",
       "       [1.0338025 ],\n",
       "       [1.0400038 ],\n",
       "       [1.0461621 ],\n",
       "       [1.0522842 ],\n",
       "       [1.0885899 ],\n",
       "       [1.0946155 ],\n",
       "       [1.1006441 ],\n",
       "       [1.1066787 ],\n",
       "       [1.1127219 ],\n",
       "       [1.1553956 ],\n",
       "       [1.1615543 ]], dtype=float32)"
      ]
     },
     "execution_count": 268,
     "metadata": {},
     "output_type": "execute_result"
    }
   ],
   "source": [
    "y_pred"
   ]
  },
  {
   "cell_type": "code",
   "execution_count": 269,
   "metadata": {},
   "outputs": [],
   "source": [
    "import matplotlib.pyplot as plt"
   ]
  },
  {
   "cell_type": "markdown",
   "metadata": {},
   "source": [
    "plot"
   ]
  },
  {
   "cell_type": "code",
   "execution_count": 270,
   "metadata": {},
   "outputs": [
    {
     "data": {
      "text/plain": [
       "[<matplotlib.lines.Line2D at 0x24b520823d0>]"
      ]
     },
     "execution_count": 270,
     "metadata": {},
     "output_type": "execute_result"
    },
    {
     "data": {
      "image/png": "[encoded data removed]",
      "text/plain": [
       "<Figure size 432x288 with 1 Axes>"
      ]
     },
     "metadata": {
      "needs_background": "light"
     },
     "output_type": "display_data"
    }
   ],
   "source": [
    "\n",
    "fig, axs = plt.subplots(1)\n",
    "axs.set_xlabel(\"t\")\n",
    "axs.set_ylabel(\"pred\")\n",
    "axs.plot(train_t, y_pred,\"b\")\n",
    "\n"
   ]
  },
  {
   "cell_type": "markdown",
   "metadata": {},
   "source": [
    "harmonischer oszilator\n",
    "$$\n",
    "\\ddot y + r * \\dot y + \\omega ^2 * y = B * cos(\\Omega * t),\n",
    "$$"
   ]
  },
  {
   "cell_type": "code",
   "execution_count": 329,
   "metadata": {},
   "outputs": [],
   "source": [
    "a = 1\n",
    "b = 1\n",
    "c = 1\n",
    "y0 = 1.\n",
    "y0_prime = 0.\n",
    "\n",
    "\n",
    "def g(t):\n",
    "    return np.cos(t) "
   ]
  },
  {
   "cell_type": "code",
   "execution_count": 272,
   "metadata": {},
   "outputs": [],
   "source": [
    "NN = tf.keras.models.Sequential([\n",
    "    tf.keras.layers.Input((1,)),\n",
    "   tf.keras.layers.Input((1,)),\n",
    "    tf.keras.layers.Dense(units = 32, activation = 'tanh'),\n",
    "    tf.keras.layers.Dense(units = 32, activation = 'tanh'), #2 additional layers\n",
    "    tf.keras.layers.Dense(units = 32, activation = 'tanh'),\n",
    "\n",
    "    tf.keras.layers.Dense(units = 1)\n",
    "])"
   ]
  },
  {
   "cell_type": "code",
   "execution_count": 273,
   "metadata": {},
   "outputs": [],
   "source": [
    "def inh(t,NN,g):\n",
    "    t = t.reshape(-1,1)\n",
    "    t = tf.constant(t, dtype = tf.float32)\n",
    "    t_0 = tf.zeros((1,1))\n",
    "    one = tf.ones((1,1))\n",
    "    \n",
    "    with tf.GradientTape(persistent=True) as tape:\n",
    "        tape.watch(t)\n",
    "        u = NN(t)\n",
    "        dnn = tape.gradient(u, t)\n",
    "        ddnn = tape.gradient(dnn,t)\n",
    "    ode_loss =  (a * ddnn + b * dnn + c * u - g(t))\n",
    "   \n",
    "    iv_loss = y0 - NN(t_0) # we preceed with one intital value loss y_prime\n",
    "    square_loss = tf.square(ode_loss) + tf.square(iv_loss)\n",
    "    total_loss = tf.reduce_mean(square_loss)\n",
    "    return total_loss\n",
    "\n",
    "        \n",
    "    "
   ]
  },
  {
   "cell_type": "code",
   "execution_count": 274,
   "metadata": {},
   "outputs": [],
   "source": [
    "# one = tf.ones((1,1))\n",
    "# solution(one)"
   ]
  },
  {
   "cell_type": "code",
   "execution_count": 275,
   "metadata": {},
   "outputs": [
    {
     "data": {
      "text/plain": [
       "<tf.Tensor: shape=(17, 1), dtype=float32, numpy=\n",
       "array([[0.        ],\n",
       "       [0.00823362],\n",
       "       [0.15211439],\n",
       "       [0.15965132],\n",
       "       [0.16712107],\n",
       "       [0.26993406],\n",
       "       [0.2822222 ],\n",
       "       [0.29416358],\n",
       "       [0.3057582 ],\n",
       "       [0.3170082 ],\n",
       "       [0.37749463],\n",
       "       [0.38646108],\n",
       "       [0.39512792],\n",
       "       [0.40350306],\n",
       "       [0.41159496],\n",
       "       [0.4609868 ],\n",
       "       [0.46710464]], dtype=float32)>"
      ]
     },
     "execution_count": 275,
     "metadata": {},
     "output_type": "execute_result"
    }
   ],
   "source": [
    "NN(train_t)"
   ]
  },
  {
   "cell_type": "code",
   "execution_count": 276,
   "metadata": {},
   "outputs": [],
   "source": [
    "trainable_vars = NN.trainable_variables"
   ]
  },
  {
   "cell_type": "code",
   "execution_count": null,
   "metadata": {},
   "outputs": [],
   "source": []
  },
  {
   "cell_type": "markdown",
   "metadata": {},
   "source": [
    "osz train"
   ]
  },
  {
   "cell_type": "code",
   "execution_count": 277,
   "metadata": {},
   "outputs": [],
   "source": [
    "train_t = (np.array([0., 0.025, 0.475, 0.5, 0.525, 0.9, 0.95, 1., 1.05, 1.1, 1.4, 1.45, 1.5, 1.55, 1.6, 1.95, 2.])).reshape(-1, 1)\n",
    "train_loss_record1 = []\n",
    "\n",
    "optimizer = tf.optimizers.SGD(learning_rate=0.01)\n",
    "epochs = 300\n",
    "for _ in range(epochs):\n",
    "    with tf.GradientTape(persistent=True) as tape: \n",
    "        loss = inh(train_t,NN,g)\n",
    "    grad = tape.gradient(loss, trainable_vars)\n",
    "    optimizer.apply_gradients(zip(grad, trainable_vars))\n",
    "    train_loss_record.append(loss)\n",
    "\n",
    "\n"
   ]
  },
  {
   "cell_type": "code",
   "execution_count": 278,
   "metadata": {},
   "outputs": [
    {
     "name": "stdout",
     "output_type": "stream",
     "text": [
      "1/1 [==============================] - 0s 93ms/step\n"
     ]
    }
   ],
   "source": [
    "y_pred = NN.predict(train_t)"
   ]
  },
  {
   "cell_type": "code",
   "execution_count": 279,
   "metadata": {},
   "outputs": [],
   "source": [
    "# y_pred"
   ]
  },
  {
   "cell_type": "code",
   "execution_count": 280,
   "metadata": {},
   "outputs": [],
   "source": [
    "g,w,r,O,B = 1,1,1,1,1\n",
    "def solution(t):\n",
    "    A = 1/(-t**2*O**2 + 1j*r*t*O + w**2)\n",
    "    Z = A*E**(1j*O*t)\n",
    "    return  float(re(Z))"
   ]
  },
  {
   "cell_type": "code",
   "execution_count": 281,
   "metadata": {},
   "outputs": [
    {
     "data": {
      "text/plain": [
       "[1.0,\n",
       " 1.0003124510107286,\n",
       " 1.097663838772549,\n",
       " 1.1051073116552383,\n",
       " 1.1119664810338747,\n",
       " 0.9728165850799684,\n",
       " 0.9094880992017693,\n",
       " 0.8414709848078965,\n",
       " 0.7724964297952647,\n",
       " 0.7057434898079957,\n",
       " 0.4221478223207986,\n",
       " 0.39378453062798835,\n",
       " 0.3692645187728401,\n",
       " 0.34797984062836984,\n",
       " 0.3293954300817883,\n",
       " 0.24440455510582576,\n",
       " 0.23592579717636852]"
      ]
     },
     "execution_count": 281,
     "metadata": {},
     "output_type": "execute_result"
    }
   ],
   "source": [
    "[solution(t[0]) for t in train_t]"
   ]
  },
  {
   "cell_type": "code",
   "execution_count": 282,
   "metadata": {},
   "outputs": [
    {
     "data": {
      "text/latex": [
       "$\\displaystyle - \\frac{\\left(z - 1\\right) \\left(z + 1\\right) \\cos{\\left(z \\right)}}{z^{4} - z^{2} + 1}$"
      ],
      "text/plain": [
       "-(z - 1)*(z + 1)*cos(z)/(z**4 - z**2 + 1)"
      ]
     },
     "execution_count": 282,
     "metadata": {},
     "output_type": "execute_result"
    }
   ],
   "source": [
    "#calculated solution\n",
    "z = symbols(\"z\",real=True)\n",
    "g,w,r,O,B = 1,1,1,1,1\n",
    "A = 1/(-z**2*O**2 + I*r*z*O + w**2)\n",
    "Z = A*E**(I*O*z)\n",
    "factor( re(A)*re(E**(I*O*z)) )"
   ]
  },
  {
   "cell_type": "markdown",
   "metadata": {},
   "source": [
    "plot"
   ]
  },
  {
   "cell_type": "code",
   "execution_count": 283,
   "metadata": {},
   "outputs": [
    {
     "data": {
      "text/plain": [
       "[<matplotlib.lines.Line2D at 0x24b520b7af0>]"
      ]
     },
     "execution_count": 283,
     "metadata": {},
     "output_type": "execute_result"
    },
    {
     "data": {
      "image/png": "[encoded data removed]",
      "text/plain": [
       "<Figure size 432x288 with 1 Axes>"
      ]
     },
     "metadata": {
      "needs_background": "light"
     },
     "output_type": "display_data"
    }
   ],
   "source": [
    "\n",
    "fig, axs = plt.subplots(1)\n",
    "axs.set_xlabel(\"t\")\n",
    "axs.set_ylabel(\"pred\")\n",
    "axs.plot(train_t, y_pred,\"b\")\n",
    "axs.plot(train_t, [solution(t[0]) for t in train_t],\"r\")\n",
    "axs.plot(train_t, y_pred,\"yo\")"
   ]
  },
  {
   "cell_type": "code",
   "execution_count": 284,
   "metadata": {},
   "outputs": [
    {
     "data": {
      "text/plain": [
       "[<matplotlib.lines.Line2D at 0x24b5218ffd0>]"
      ]
     },
     "execution_count": 284,
     "metadata": {},
     "output_type": "execute_result"
    },
    {
     "data": {
      "image/png": "[encoded data removed]",
      "text/plain": [
       "<Figure size 432x288 with 1 Axes>"
      ]
     },
     "metadata": {
      "needs_background": "light"
     },
     "output_type": "display_data"
    }
   ],
   "source": [
    "\n",
    "fig, axs = plt.subplots(1)\n",
    "axs.set_xlabel(\"t\")\n",
    "axs.set_ylabel(\"pred\")\n",
    "axs.plot(train_loss_record,\"b\")"
   ]
  },
  {
   "cell_type": "code",
   "execution_count": 285,
   "metadata": {},
   "outputs": [
    {
     "data": {
      "text/plain": [
       "[<tf.Variable 'dense_40/kernel:0' shape=(1, 32) dtype=float32, numpy=\n",
       " array([[-2.8232646e-01,  1.5873156e-01, -4.2189345e-01, -2.5273389e-01,\n",
       "          1.8191170e-02,  1.6738985e-01, -1.5842885e-01,  4.2904356e-01,\n",
       "          8.8294379e-02, -9.0938851e-02,  1.6765290e-01,  1.8901895e-01,\n",
       "          1.5464377e-01, -4.1246310e-01,  4.2916238e-01, -4.6775697e-04,\n",
       "          2.7542021e-02,  1.9208547e-01, -1.8800578e-01,  3.6047462e-01,\n",
       "          4.2367774e-01,  3.0145893e-01, -2.7025503e-01,  1.9243950e-01,\n",
       "         -1.9107653e-01,  4.8257485e-01, -6.2241443e-03,  2.5481969e-02,\n",
       "         -7.0507467e-02, -8.3977990e-02,  2.6912534e-01,  1.0955085e-01]],\n",
       "       dtype=float32)>,\n",
       " <tf.Variable 'dense_40/bias:0' shape=(32,) dtype=float32, numpy=\n",
       " array([ 0.03803923, -0.02919331, -0.03705924,  0.04206348, -0.00571239,\n",
       "        -0.01954596,  0.04078402,  0.02057167,  0.03311451,  0.0644845 ,\n",
       "         0.04512893, -0.02860095, -0.05751054,  0.01564023,  0.02350057,\n",
       "         0.02385801,  0.01337881, -0.05017254,  0.06128284,  0.03397824,\n",
       "        -0.00459133, -0.03076533,  0.01133678, -0.02186099,  0.04038889,\n",
       "         0.019219  , -0.04585214,  0.05124895,  0.00051717,  0.00790615,\n",
       "        -0.06453069, -0.06342841], dtype=float32)>,\n",
       " <tf.Variable 'dense_41/kernel:0' shape=(32, 32) dtype=float32, numpy=\n",
       " array([[ 0.113347  ,  0.28879082, -0.2278224 , ...,  0.26314297,\n",
       "         -0.2769717 ,  0.06836086],\n",
       "        [ 0.1409675 ,  0.20962088, -0.24062423, ...,  0.19582374,\n",
       "          0.2207977 , -0.04192927],\n",
       "        [-0.01068972,  0.14105336, -0.0839885 , ...,  0.2868985 ,\n",
       "          0.16744633,  0.15649506],\n",
       "        ...,\n",
       "        [-0.23558694,  0.22146796, -0.04589435, ...,  0.05590351,\n",
       "         -0.13162646, -0.23136309],\n",
       "        [-0.01827966,  0.00355021, -0.09658302, ..., -0.17482337,\n",
       "         -0.11215124, -0.25875047],\n",
       "        [-0.00698175,  0.0877894 , -0.21521474, ..., -0.15013584,\n",
       "          0.26725677, -0.16939606]], dtype=float32)>,\n",
       " <tf.Variable 'dense_41/bias:0' shape=(32,) dtype=float32, numpy=\n",
       " array([ 0.02327238, -0.00552485, -0.00148533, -0.01027854,  0.03350005,\n",
       "         0.02145151,  0.02261746,  0.06975558,  0.06665225,  0.00601534,\n",
       "         0.021434  , -0.00117946, -0.0502894 , -0.01102476,  0.01121338,\n",
       "         0.05030415, -0.04393349,  0.03186434, -0.05652578, -0.0381972 ,\n",
       "        -0.01403018, -0.01014953, -0.05295826, -0.04636164,  0.00404391,\n",
       "         0.01213144, -0.00721226, -0.04738806,  0.00057948,  0.00756749,\n",
       "        -0.00037874, -0.01708922], dtype=float32)>,\n",
       " <tf.Variable 'dense_42/kernel:0' shape=(32, 32) dtype=float32, numpy=\n",
       " array([[-0.05284303, -0.17391413, -0.2916171 , ...,  0.10072797,\n",
       "         -0.14664212, -0.14036429],\n",
       "        [-0.05735509, -0.09928242, -0.23753901, ..., -0.26952776,\n",
       "          0.22581269, -0.07984818],\n",
       "        [-0.13399625, -0.31123757,  0.19047907, ..., -0.210284  ,\n",
       "         -0.12533   , -0.09852602],\n",
       "        ...,\n",
       "        [-0.04891308,  0.25056785,  0.08047032, ...,  0.24568732,\n",
       "          0.03681951,  0.16382405],\n",
       "        [-0.28104535, -0.06448842, -0.12774672, ..., -0.0222294 ,\n",
       "         -0.06132507, -0.1519882 ],\n",
       "        [-0.11439957,  0.04176535,  0.08649667, ..., -0.28930035,\n",
       "          0.26396522,  0.28226504]], dtype=float32)>,\n",
       " <tf.Variable 'dense_42/bias:0' shape=(32,) dtype=float32, numpy=\n",
       " array([ 0.01190032, -0.01809529, -0.01303037,  0.05210539, -0.02708314,\n",
       "         0.01420052, -0.02041123,  0.04468911,  0.0243886 ,  0.03300687,\n",
       "        -0.00124062,  0.01299876,  0.02524626, -0.01424138, -0.01689668,\n",
       "         0.00474675,  0.02541084, -0.0024287 , -0.00753344,  0.01262573,\n",
       "        -0.03635273, -0.04948614, -0.01629096,  0.02212156,  0.00682816,\n",
       "        -0.01461326, -0.03318027,  0.04017515, -0.02597936,  0.02741811,\n",
       "        -0.02910307,  0.01164676], dtype=float32)>,\n",
       " <tf.Variable 'dense_43/kernel:0' shape=(32, 1) dtype=float32, numpy=\n",
       " array([[ 0.1588527 ],\n",
       "        [-0.23940074],\n",
       "        [-0.16939202],\n",
       "        [ 0.48243544],\n",
       "        [-0.3278961 ],\n",
       "        [ 0.17208898],\n",
       "        [-0.24584104],\n",
       "        [ 0.41424072],\n",
       "        [ 0.30198205],\n",
       "        [ 0.3545953 ],\n",
       "        [ 0.00794612],\n",
       "        [ 0.18110621],\n",
       "        [ 0.26239341],\n",
       "        [-0.26623276],\n",
       "        [-0.17545421],\n",
       "        [ 0.11218787],\n",
       "        [ 0.3159611 ],\n",
       "        [-0.02194192],\n",
       "        [-0.10206942],\n",
       "        [ 0.18675917],\n",
       "        [-0.40605524],\n",
       "        [-0.4686602 ],\n",
       "        [-0.24888776],\n",
       "        [ 0.25329882],\n",
       "        [ 0.09994441],\n",
       "        [-0.19097313],\n",
       "        [-0.14416999],\n",
       "        [ 0.39366952],\n",
       "        [-0.2829493 ],\n",
       "        [ 0.33664134],\n",
       "        [-0.32100743],\n",
       "        [ 0.14788355]], dtype=float32)>,\n",
       " <tf.Variable 'dense_43/bias:0' shape=(1,) dtype=float32, numpy=array([0.09382484], dtype=float32)>]"
      ]
     },
     "execution_count": 285,
     "metadata": {},
     "output_type": "execute_result"
    }
   ],
   "source": [
    "NN.trainable_variables"
   ]
  },
  {
   "cell_type": "markdown",
   "metadata": {},
   "source": []
  },
  {
   "cell_type": "markdown",
   "metadata": {},
   "source": [
    "weiter Lösungen in abhängigkeit von r ?\n",
    "approximation der Lösung in polyomen\n"
   ]
  },
  {
   "cell_type": "code",
   "execution_count": 286,
   "metadata": {},
   "outputs": [],
   "source": [
    "from scipy import integrate"
   ]
  },
  {
   "cell_type": "code",
   "execution_count": 287,
   "metadata": {},
   "outputs": [],
   "source": [
    "#interpolation polynom y` y`` y"
   ]
  },
  {
   "cell_type": "markdown",
   "metadata": {},
   "source": []
  },
  {
   "cell_type": "markdown",
   "metadata": {},
   "source": [
    "we are trying to make a ansatz of the form $$e^N$$"
   ]
  },
  {
   "cell_type": "code",
   "execution_count": 315,
   "metadata": {},
   "outputs": [
    {
     "data": {
      "text/plain": [
       "<tf.Tensor: shape=(), dtype=complex64, numpy=1j>"
      ]
     },
     "execution_count": 315,
     "metadata": {},
     "output_type": "execute_result"
    }
   ],
   "source": [
    "tf.complex(0.0,1.0)"
   ]
  },
  {
   "cell_type": "code",
   "execution_count": 319,
   "metadata": {},
   "outputs": [],
   "source": [
    "def inh(t,NN,g):\n",
    "    t = t.reshape(-1,1)\n",
    "    t = tf.constant(t, dtype = tf.float32)\n",
    "    t_0 = tf.zeros((1,1))\n",
    "    one = tf.ones((1,1))\n",
    "    \n",
    "    with tf.GradientTape(persistent=True) as tape:\n",
    "        tape.watch(t)\n",
    "        u = tf.exp(NN(t))\n",
    "        dnn = tape.gradient(u, t)\n",
    "        ddnn = tape.gradient(dnn,t)\n",
    "    ode_loss =  (a * ddnn + b * dnn + c * u - g(t))\n",
    "   \n",
    "    iv_loss = y0 - NN(t_0) # we preceed with one intital value loss y_prime\n",
    "    square_loss = tf.square(ode_loss) + tf.square(iv_loss)\n",
    "    total_loss = tf.reduce_mean(square_loss)\n",
    "    return total_loss\n",
    "\n",
    "        \n",
    "    "
   ]
  },
  {
   "cell_type": "code",
   "execution_count": 320,
   "metadata": {},
   "outputs": [],
   "source": [
    "train_t = (np.array([0., 0.025, 0.475, 0.5, 0.525, 0.9, 0.95, 1., 1.05, 1.1, 1.4, 1.45, 1.5, 1.55, 1.6, 1.95, 2.])).reshape(-1, 1)\n",
    "train_loss_record = []"
   ]
  },
  {
   "cell_type": "code",
   "execution_count": 321,
   "metadata": {},
   "outputs": [],
   "source": [
    "train_t = (np.array([0., 0.025, 0.475, 0.5, 0.525, 0.9, 0.95, 1., 1.05, 1.1, 1.4, 1.45, 1.5, 1.55, 1.6, 1.95, 2.])).reshape(-1, 1)\n",
    "train_loss_record = []\n",
    "\n",
    "optimizer = tf.optimizers.SGD(learning_rate=0.01)\n",
    "epochs = 100 \n",
    "for _ in range(epochs):\n",
    "    with tf.GradientTape(persistent=True) as tape: \n",
    "        loss = inh(train_t,NN,g)\n",
    "    grad = tape.gradient(loss, trainable_vars)\n",
    "    optimizer.apply_gradients(zip(grad, trainable_vars))\n",
    "    train_loss_record.append(loss)\n",
    "\n",
    "\n"
   ]
  },
  {
   "cell_type": "code",
   "execution_count": 305,
   "metadata": {},
   "outputs": [
    {
     "name": "stdout",
     "output_type": "stream",
     "text": [
      "1/1 [==============================] - 0s 23ms/step\n"
     ]
    }
   ],
   "source": [
    "y_pred = NN.predict(train_t)"
   ]
  },
  {
   "cell_type": "code",
   "execution_count": 296,
   "metadata": {},
   "outputs": [
    {
     "data": {
      "text/plain": [
       "array([[ 0.8132153 ],\n",
       "       [ 0.7964962 ],\n",
       "       [ 0.47110966],\n",
       "       [ 0.45146477],\n",
       "       [ 0.4316399 ],\n",
       "       [ 0.11255952],\n",
       "       [ 0.06704008],\n",
       "       [ 0.02087498],\n",
       "       [-0.02590964],\n",
       "       [-0.07328402],\n",
       "       [-0.36793095],\n",
       "       [-0.4183939 ],\n",
       "       [-0.46912515],\n",
       "       [-0.5200779 ],\n",
       "       [-0.5712043 ],\n",
       "       [-0.9299035 ],\n",
       "       [-0.98069686]], dtype=float32)"
      ]
     },
     "execution_count": 296,
     "metadata": {},
     "output_type": "execute_result"
    }
   ],
   "source": [
    "y_pred"
   ]
  },
  {
   "cell_type": "code",
   "execution_count": 297,
   "metadata": {},
   "outputs": [
    {
     "data": {
      "text/plain": [
       "[<matplotlib.lines.Line2D at 0x24b52249ca0>]"
      ]
     },
     "execution_count": 297,
     "metadata": {},
     "output_type": "execute_result"
    },
    {
     "data": {
      "image/png": "[encoded data removed]",
      "text/plain": [
       "<Figure size 432x288 with 1 Axes>"
      ]
     },
     "metadata": {
      "needs_background": "light"
     },
     "output_type": "display_data"
    }
   ],
   "source": [
    "fig, axs = plt.subplots(1)\n",
    "axs.set_xlabel(\"t\")\n",
    "axs.set_ylabel(\"pred\")\n",
    "axs.plot(train_t, tf.exp(y_pred),\"b\")\n",
    "axs.plot(train_t, [solution(t[0]) for t in train_t],\"r\")\n",
    "axs.plot(train_t,  tf.exp(y_pred),\"yo\")"
   ]
  },
  {
   "cell_type": "code",
   "execution_count": 300,
   "metadata": {},
   "outputs": [
    {
     "data": {
      "text/plain": [
       "[<matplotlib.lines.Line2D at 0x24b52347d00>]"
      ]
     },
     "execution_count": 300,
     "metadata": {},
     "output_type": "execute_result"
    },
    {
     "data": {
      "image/png": "[encoded data removed]",
      "text/plain": [
       "<Figure size 432x288 with 1 Axes>"
      ]
     },
     "metadata": {
      "needs_background": "light"
     },
     "output_type": "display_data"
    }
   ],
   "source": [
    "\n",
    "fig, axs = plt.subplots(1)\n",
    "axs.set_xlabel(\"t\")\n",
    "axs.set_ylabel(\"pred\")\n",
    "\n",
    "axs.plot(train_loss_record,\"b\")\n",
    "axs.plot(train_loss_record1,\"r\")"
   ]
  },
  {
   "cell_type": "markdown",
   "metadata": {},
   "source": []
  },
  {
   "cell_type": "markdown",
   "metadata": {},
   "source": [
    "simulatinious training"
   ]
  },
  {
   "cell_type": "code",
   "execution_count": 323,
   "metadata": {},
   "outputs": [],
   "source": [
    "NN__2 = tf.keras.models.Sequential([\n",
    "    tf.keras.layers.Input((1,)),\n",
    "    tf.keras.layers.Dense(units = 32, activation = 'tanh'),\n",
    "    tf.keras.layers.Dense(units = 1)\n",
    "])"
   ]
  },
  {
   "cell_type": "code",
   "execution_count": 348,
   "metadata": {},
   "outputs": [],
   "source": [
    "def inh(t,NN,NN__2,g):\n",
    "    t = t.reshape(-1,1)\n",
    "    t = tf.constant(t, dtype = tf.float32)\n",
    "    t_0 = tf.zeros((1,1))\n",
    "    one = tf.ones((1,1))\n",
    "    \n",
    "    with tf.GradientTape(persistent=True) as tape:\n",
    "        tape.watch(t)\n",
    "        u = NN(t)\n",
    "        v = NN__2(t)\n",
    "        o = NN(t) * tf.exp (NN__2(t))\n",
    "        dnn = tape.gradient(o, t)\n",
    "        ddnn = tape.gradient(dnn,t)\n",
    "    ode_loss =  (a * ddnn + b * dnn + c * u - g(t))\n",
    "   \n",
    "    iv_loss = y0 - NN(t_0) # we preceed with one intital value loss y_prime\n",
    "    square_loss = tf.square(ode_loss) + tf.square(iv_loss)\n",
    "    total_loss = tf.reduce_mean(square_loss)\n",
    "    return total_loss\n",
    "\n",
    "        \n",
    "    "
   ]
  },
  {
   "cell_type": "code",
   "execution_count": 349,
   "metadata": {},
   "outputs": [],
   "source": [
    "train_t = (np.array([0., 0.025, 0.475, 0.5, 0.525, 0.9, 0.95, 1., 1.05, 1.1, 1.4, 1.45, 1.5, 1.55, 1.6, 1.95, 2.])).reshape(-1, 1)\n",
    "train_loss_record = []"
   ]
  },
  {
   "cell_type": "code",
   "execution_count": 350,
   "metadata": {},
   "outputs": [
    {
     "name": "stdout",
     "output_type": "stream",
     "text": [
      "WARNING:tensorflow:Calling GradientTape.gradient on a persistent tape inside its context is significantly less efficient than calling it outside the context (it causes the gradient ops to be recorded on the tape, leading to increased CPU and memory usage). Only call GradientTape.gradient inside the context if you actually want to trace the gradient in order to compute higher order derivatives.\n",
      "WARNING:tensorflow:Calling GradientTape.gradient on a persistent tape inside its context is significantly less efficient than calling it outside the context (it causes the gradient ops to be recorded on the tape, leading to increased CPU and memory usage). Only call GradientTape.gradient inside the context if you actually want to trace the gradient in order to compute higher order derivatives.\n"
     ]
    }
   ],
   "source": [
    "train_t = (np.array([0., 0.025, 0.475, 0.5, 0.525, 0.9, 0.95, 1., 1.05, 1.1, 1.4, 1.45, 1.5, 1.55, 1.6, 1.95, 2.])).reshape(-1, 1)\n",
    "train_loss_record = []\n",
    "\n",
    "optimizer = tf.optimizers.SGD(learning_rate=0.01)\n",
    "epochs = 100 \n",
    "for _ in range(epochs):\n",
    "    with tf.GradientTape(persistent=True) as tape: \n",
    "        loss = inh(train_t,NN,NN__2,g)\n",
    "    grad = tape.gradient(loss, trainable_vars)\n",
    "    optimizer.apply_gradients(zip(grad, trainable_vars))\n",
    "    train_loss_record.append(loss)\n",
    "\n",
    "\n"
   ]
  },
  {
   "cell_type": "code",
   "execution_count": 346,
   "metadata": {},
   "outputs": [
    {
     "name": "stdout",
     "output_type": "stream",
     "text": [
      "1/1 [==============================] - 0s 30ms/step\n"
     ]
    },
    {
     "name": "stdout",
     "output_type": "stream",
     "text": [
      "1/1 [==============================] - 0s 28ms/step\n"
     ]
    }
   ],
   "source": [
    "y_pred1 = NN.predict(train_t)\n",
    "y_pred2  = NN__2.predict(train_t)"
   ]
  },
  {
   "cell_type": "code",
   "execution_count": 351,
   "metadata": {},
   "outputs": [
    {
     "data": {
      "text/plain": [
       "[<matplotlib.lines.Line2D at 0x24b5688c520>]"
      ]
     },
     "execution_count": 351,
     "metadata": {},
     "output_type": "execute_result"
    },
    {
     "data": {
      "image/png": "[encoded data removed]",
      "text/plain": [
       "<Figure size 432x288 with 1 Axes>"
      ]
     },
     "metadata": {
      "needs_background": "light"
     },
     "output_type": "display_data"
    }
   ],
   "source": [
    "def ansatz(t):\n",
    "    u = tf.cos(NN(t))\n",
    "    v = tf.sin(NN__2(t))\n",
    "    return u + v\n",
    "fig, axs = plt.subplots(1)\n",
    "axs.set_xlabel(\"t\")\n",
    "axs.set_ylabel(\"pred\")\n",
    "axs.plot(train_t, y_pred1 * tf.exp(y_pred2) ,\"b\")\n",
    "axs.plot(train_t, [solution(t[0]) for t in train_t],\"r\")\n",
    "# axs.plot(train_t, tf.sin(y_pred1) + tf.cos(y_pred2) ,\"yb\")"
   ]
  },
  {
   "cell_type": "code",
   "execution_count": null,
   "metadata": {},
   "outputs": [],
   "source": []
  }
 ],
 "metadata": {
  "kernelspec": {
   "display_name": "Python 3",
   "language": "python",
   "name": "python3"
  },
  "language_info": {
   "codemirror_mode": {
    "name": "ipython",
    "version": 3
   },
   "file_extension": ".py",
   "mimetype": "text/x-python",
   "name": "python",
   "nbconvert_exporter": "python",
   "pygments_lexer": "ipython3",
   "version": "3.9.12"
  }
 },
 "nbformat": 4,
 "nbformat_minor": 2
}
