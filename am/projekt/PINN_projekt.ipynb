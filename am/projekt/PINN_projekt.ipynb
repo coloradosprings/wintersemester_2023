{
 "cells": [
  {
   "cell_type": "code",
   "execution_count": 2,
   "metadata": {},
   "outputs": [],
   "source": [
    "import tensorflow as tf\n",
    "import numpy as np"
   ]
  },
  {
   "cell_type": "code",
   "execution_count": 3,
   "metadata": {},
   "outputs": [],
   "source": [
    "from tensorflow.keras.models import Sequential"
   ]
  },
  {
   "cell_type": "code",
   "execution_count": 4,
   "metadata": {},
   "outputs": [],
   "source": [
    "#functions for integral\n",
    "from tensorflow.python.ops import math_ops\n",
    "\n",
    "def trapezoidal_integral_approx(t, y):\n",
    "    return math_ops.reduce_sum(\n",
    "            math_ops.multiply(t[:-1] - t[1:],\n",
    "                              (y[:-1] + y[1:]) / 2.), \n",
    "            name='trapezoidal_integral_approx')\n",
    "def trapazoid(f,a, b):\n",
    "    u = (b - a)\n",
    "    v = (f(a) + f(b))\n",
    "    return (u * v) / 2\n",
    "def simpson(f,a, b):\n",
    "    u = (b - a)\n",
    "    v = (f(a) + 4 * f((a + b)/2) + f(b))\n",
    "    return (u * v) / 6\n",
    "def approx_int(m,f,interval = (0,10),rule = trapazoid):\n",
    "    assert interval.__len__() == 2\n",
    "    a = interval[0]\n",
    "    b = interval[1]\n",
    "    x_i_1 = a\n",
    "    sum = 0\n",
    "    for k in range(1,m + 1):\n",
    "        x_i = x_i_1\n",
    "        x_i_1 = a + k * ( ( b - a )/m ) \n",
    "        sum += rule(f,x_i, x_i_1)\n",
    "    return sum"
   ]
  },
  {
   "cell_type": "markdown",
   "metadata": {},
   "source": [
    "We want to train the neural network for the ODE  <br>\n",
    "we are trying to find a particular solution of second order inhomegenous ode\n",
    "\n",
    "$$\n",
    "m * \\ddot y + c * \\dot y + k * y = g(t),\n",
    "$$\n",
    "with $m = 1, c = 0.1$ and $k = 1$. \n",
    "\n",
    "Therefore we define an objective \n",
    "\n",
    "$$\n",
    "\\mathcal{L}(\\mathbf{W}) = \\frac{1}{M}\\sum_{i=1}^M (m * \\ddot y_\\mathbf{W}(t_i) + c * \\dot y_\\mathbf{W}(t_i) + k * y_\\mathbf{W}(t_i)) ^ 2 + (y_\\mathbf{W}(0) - y_0) ^ 2 + (\\dot y_\\mathbf{W}(0) - \\dot y_0) ^ 2\n",
    "$$"
   ]
  },
  {
   "cell_type": "code",
   "execution_count": 5,
   "metadata": {},
   "outputs": [],
   "source": [
    "NN = Sequential([\n",
    "    tf.keras.layers.Input((1,)),\n",
    "    tf.keras.layers.Dense(units = 32, activation = 'tanh'),\n",
    "    tf.keras.layers.Dense(units = 1)\n",
    "])"
   ]
  },
  {
   "cell_type": "code",
   "execution_count": null,
   "metadata": {},
   "outputs": [],
   "source": []
  },
  {
   "cell_type": "code",
   "execution_count": 6,
   "metadata": {},
   "outputs": [],
   "source": [
    "# NN(0)"
   ]
  },
  {
   "cell_type": "code",
   "execution_count": 7,
   "metadata": {},
   "outputs": [],
   "source": [
    "a = 1\n",
    "b = 1\n",
    "c = 1\n",
    "y0 = 1.\n",
    "y0_prime = 0."
   ]
  },
  {
   "cell_type": "code",
   "execution_count": 8,
   "metadata": {},
   "outputs": [],
   "source": [
    "\n",
    "def g(t):\n",
    "    return t\n",
    "def ode_system(t, net):\n",
    "    t = t.reshape(-1,1)\n",
    "    t = tf.constant(t, dtype = tf.float32)\n",
    "    t_0 = tf.zeros((1,1))\n",
    "    one = tf.ones((1,1))\n",
    "\n",
    "    with tf.GradientTape() as tape:\n",
    "        tape.watch(t)\n",
    "\n",
    "        u = net(t)\n",
    "        u_t = tape.gradient(u, t)\n",
    "\n",
    "    ode_loss = u_t - tf.math.cos(2*np.pi*t)\n",
    "    IC_loss = net(t_0) - one"
   ]
  },
  {
   "cell_type": "code",
   "execution_count": 9,
   "metadata": {},
   "outputs": [],
   "source": [
    "from sympy import *\n",
    "z = Symbol(\"z\")"
   ]
  },
  {
   "cell_type": "code",
   "execution_count": 10,
   "metadata": {},
   "outputs": [],
   "source": [
    "#can we try to define the loss with integral?\n",
    "def inh(t,NN,g):\n",
    "    t = t.reshape(-1,1)\n",
    "    t = tf.constant(t, dtype = tf.float32)\n",
    "    t_0 = tf.zeros((1,1))\n",
    "    one = tf.ones((1,1))\n",
    "    \n",
    "    with tf.GradientTape(persistent=True) as tape:\n",
    "        tape.watch(t)\n",
    "        u = NN(t)\n",
    "        dnn = tape.gradient(u, t)\n",
    "        ddnn = tape.gradient(dnn,t)\n",
    "    ode_loss =  (a * ddnn + b * dnn + c * u - g(t))\n",
    "   \n",
    "    iv_loss = y0 - NN(t_0) # we preceed with one intital value loss y_prime\n",
    "    square_loss = tf.square(ode_loss) + tf.square(iv_loss)\n",
    "    total_loss = tf.reduce_mean(square_loss)\n",
    "    return total_loss"
   ]
  },
  {
   "cell_type": "markdown",
   "metadata": {},
   "source": [
    "losses"
   ]
  },
  {
   "cell_type": "code",
   "execution_count": 11,
   "metadata": {},
   "outputs": [],
   "source": [
    "def inh(t,NN,g):\n",
    "    t = t.reshape(-1,1)\n",
    "    t = tf.constant(t, dtype = tf.float32)\n",
    "    t_0 = tf.zeros((1,1))\n",
    "    one = tf.ones((1,1))\n",
    "    \n",
    "    with tf.GradientTape(persistent=True) as tape:\n",
    "        tape.watch(t)\n",
    "        u = NN(t)\n",
    "        dnn = tape.gradient(u, t)\n",
    "        ddnn = tape.gradient(dnn,t)\n",
    "    ode_loss =  (a * ddnn + b * dnn + c * u - g(t))\n",
    "   \n",
    "    iv_loss = y0 - NN(t_0) # we preceed with one intital value loss y_prime\n",
    "    square_loss = tf.square(ode_loss) + tf.square(iv_loss)\n",
    "    total_loss = tf.reduce_mean(square_loss)\n",
    "    return total_loss\n",
    "\n",
    "        \n",
    "    "
   ]
  },
  {
   "cell_type": "code",
   "execution_count": null,
   "metadata": {},
   "outputs": [],
   "source": []
  },
  {
   "cell_type": "code",
   "execution_count": 12,
   "metadata": {},
   "outputs": [],
   "source": [
    "train_t = (np.array([0., 0.025, 0.475, 0.5, 0.525, 0.9, 0.95, 1., 1.05, 1.1, 1.4, 1.45, 1.5, 1.55, 1.6, 1.95, 2.])).reshape(-1, 1)\n",
    "train_loss_record = []"
   ]
  },
  {
   "cell_type": "code",
   "execution_count": 13,
   "metadata": {},
   "outputs": [],
   "source": [
    "\n",
    "# t = t.reshape(-1,1)\n",
    "# t = tf.constant(t, dtype = tf.float32)\n",
    "# t_0 = tf.zeros((1,1))\n",
    "# one = tf.ones((1,1))"
   ]
  },
  {
   "cell_type": "code",
   "execution_count": 14,
   "metadata": {},
   "outputs": [],
   "source": [
    "trainable_vars = NN.trainable_variables"
   ]
  },
  {
   "cell_type": "markdown",
   "metadata": {},
   "source": [
    "train"
   ]
  },
  {
   "cell_type": "code",
   "execution_count": 15,
   "metadata": {},
   "outputs": [
    {
     "name": "stdout",
     "output_type": "stream",
     "text": [
      "WARNING:tensorflow:Calling GradientTape.gradient on a persistent tape inside its context is significantly less efficient than calling it outside the context (it causes the gradient ops to be recorded on the tape, leading to increased CPU and memory usage). Only call GradientTape.gradient inside the context if you actually want to trace the gradient in order to compute higher order derivatives.\n",
      "WARNING:tensorflow:Calling GradientTape.gradient on a persistent tape inside its context is significantly less efficient than calling it outside the context (it causes the gradient ops to be recorded on the tape, leading to increased CPU and memory usage). Only call GradientTape.gradient inside the context if you actually want to trace the gradient in order to compute higher order derivatives.\n"
     ]
    }
   ],
   "source": [
    "train_t = (np.array([0., 0.025, 0.475, 0.5, 0.525, 0.9, 0.95, 1., 1.05, 1.1, 1.4, 1.45, 1.5, 1.55, 1.6, 1.95, 2.])).reshape(-1, 1)\n",
    "train_loss_record1 = []\n",
    "\n",
    "optimizer = tf.optimizers.SGD(learning_rate=0.01)\n",
    "epochs = 100 \n",
    "for _ in range(epochs):\n",
    "    with tf.GradientTape(persistent=True) as tape: \n",
    "        loss = inh(train_t,NN,g)\n",
    "    grad = tape.gradient(loss, trainable_vars)\n",
    "    optimizer.apply_gradients(zip(grad, trainable_vars))\n",
    "    train_loss_record.append(loss)\n",
    "\n",
    "\n"
   ]
  },
  {
   "cell_type": "code",
   "execution_count": 16,
   "metadata": {},
   "outputs": [
    {
     "name": "stdout",
     "output_type": "stream",
     "text": [
      "WARNING:tensorflow:AutoGraph could not transform <function Model.make_predict_function.<locals>.predict_function at 0x0000012F57184310> and will run it as-is.\n",
      "Please report this to the TensorFlow team. When filing the bug, set the verbosity to 10 (on Linux, `export AUTOGRAPH_VERBOSITY=10`) and attach the full output.\n",
      "Cause: module 'gast' has no attribute 'Constant'\n",
      "To silence this warning, decorate the function with @tf.autograph.experimental.do_not_convert\n",
      "WARNING: AutoGraph could not transform <function Model.make_predict_function.<locals>.predict_function at 0x0000012F57184310> and will run it as-is.\n",
      "Please report this to the TensorFlow team. When filing the bug, set the verbosity to 10 (on Linux, `export AUTOGRAPH_VERBOSITY=10`) and attach the full output.\n",
      "Cause: module 'gast' has no attribute 'Constant'\n",
      "To silence this warning, decorate the function with @tf.autograph.experimental.do_not_convert\n",
      "1/1 [==============================] - 0s 222ms/step\n"
     ]
    }
   ],
   "source": [
    "y_pred = NN.predict(train_t)"
   ]
  },
  {
   "cell_type": "code",
   "execution_count": 17,
   "metadata": {},
   "outputs": [
    {
     "data": {
      "text/plain": [
       "array([[0.90304965],\n",
       "       [0.905024  ],\n",
       "       [0.93427455],\n",
       "       [0.93575454],\n",
       "       [0.93724066],\n",
       "       [0.9621758 ],\n",
       "       [0.9661283 ],\n",
       "       [0.9702809 ],\n",
       "       [0.97464615],\n",
       "       [0.979235  ],\n",
       "       [1.0118957 ],\n",
       "       [1.0182343 ],\n",
       "       [1.024832  ],\n",
       "       [1.0316871 ],\n",
       "       [1.0387976 ],\n",
       "       [1.0952979 ],\n",
       "       [1.1042492 ]], dtype=float32)"
      ]
     },
     "execution_count": 17,
     "metadata": {},
     "output_type": "execute_result"
    }
   ],
   "source": [
    "y_pred"
   ]
  },
  {
   "cell_type": "code",
   "execution_count": 18,
   "metadata": {},
   "outputs": [],
   "source": [
    "import matplotlib.pyplot as plt"
   ]
  },
  {
   "cell_type": "markdown",
   "metadata": {},
   "source": [
    "plot"
   ]
  },
  {
   "cell_type": "code",
   "execution_count": 19,
   "metadata": {},
   "outputs": [
    {
     "data": {
      "text/plain": [
       "[<matplotlib.lines.Line2D at 0x12f5b01fc70>]"
      ]
     },
     "execution_count": 19,
     "metadata": {},
     "output_type": "execute_result"
    },
    {
     "data": {
      "image/png": "[encoded data removed]",
      "text/plain": [
       "<Figure size 432x288 with 1 Axes>"
      ]
     },
     "metadata": {
      "needs_background": "light"
     },
     "output_type": "display_data"
    }
   ],
   "source": [
    "\n",
    "fig, axs = plt.subplots(1)\n",
    "axs.set_xlabel(\"t\")\n",
    "axs.set_ylabel(\"pred\")\n",
    "axs.plot(train_t, y_pred,\"b\")\n",
    "\n"
   ]
  },
  {
   "cell_type": "markdown",
   "metadata": {},
   "source": [
    "harmonischer oszilator\n",
    "$$\n",
    "\\ddot y + r * \\dot y + \\omega ^2 * y = B * cos(\\Omega * t),\n",
    "$$"
   ]
  },
  {
   "cell_type": "code",
   "execution_count": 21,
   "metadata": {},
   "outputs": [],
   "source": [
    "a = 1\n",
    "b = 1\n",
    "c = 1\n",
    "y0 = 0\n",
    "w = 1\n",
    "y0_prime = 0.\n",
    "\n",
    "\n",
    "def g(t):\n",
    "    return np.cos(w * t) "
   ]
  },
  {
   "cell_type": "code",
   "execution_count": 20,
   "metadata": {},
   "outputs": [],
   "source": [
    "NN = Sequential([\n",
    "    tf.keras.layers.Input((1,)),\n",
    "    tf.keras.layers.Dense(units = 32, activation = 'tanh'),\n",
    "    tf.keras.layers.Dense(units = 32, activation = 'tanh'), #2 additional layers\n",
    "    tf.keras.layers.Dense(units = 32, activation = 'tanh'),\n",
    "\n",
    "    tf.keras.layers.Dense(units = 1)\n",
    "])"
   ]
  },
  {
   "cell_type": "code",
   "execution_count": 23,
   "metadata": {},
   "outputs": [
    {
     "data": {
      "text/plain": [
       "[<tf.Variable 'dense_2/kernel:0' shape=(1, 32) dtype=float32, numpy=\n",
       " array([[-0.42247352, -0.01979887, -0.21958062,  0.30065995, -0.28956813,\n",
       "         -0.10506058,  0.13048202,  0.30503172, -0.09345037, -0.34030133,\n",
       "          0.42490244, -0.2929662 ,  0.15297085,  0.05493551, -0.02874607,\n",
       "         -0.06444883,  0.41545284, -0.03585041, -0.09996387, -0.10223061,\n",
       "          0.36765206,  0.03126454,  0.3107087 ,  0.40710092, -0.39941168,\n",
       "          0.3758992 ,  0.01023757,  0.02650461, -0.34210247,  0.09421974,\n",
       "         -0.34434086,  0.12398607]], dtype=float32)>,\n",
       " <tf.Variable 'dense_2/bias:0' shape=(32,) dtype=float32, numpy=\n",
       " array([0., 0., 0., 0., 0., 0., 0., 0., 0., 0., 0., 0., 0., 0., 0., 0., 0.,\n",
       "        0., 0., 0., 0., 0., 0., 0., 0., 0., 0., 0., 0., 0., 0., 0.],\n",
       "       dtype=float32)>,\n",
       " <tf.Variable 'dense_3/kernel:0' shape=(32, 32) dtype=float32, numpy=\n",
       " array([[ 0.05190131, -0.04105568, -0.08711711, ..., -0.08661507,\n",
       "         -0.02039379,  0.26018587],\n",
       "        [ 0.0611752 , -0.19542836, -0.14882989, ..., -0.08073825,\n",
       "          0.17969915,  0.15403673],\n",
       "        [ 0.22864798, -0.23001963,  0.08843476, ...,  0.28102693,\n",
       "         -0.19624108,  0.07307538],\n",
       "        ...,\n",
       "        [ 0.2508184 ,  0.04096743, -0.2541006 , ...,  0.24372539,\n",
       "         -0.07606162,  0.14657643],\n",
       "        [ 0.19764766,  0.00827613,  0.15990955, ..., -0.06497701,\n",
       "         -0.0711389 ,  0.22875038],\n",
       "        [-0.1896841 ,  0.21626523,  0.29317024, ...,  0.27809325,\n",
       "          0.18384361, -0.24780577]], dtype=float32)>,\n",
       " <tf.Variable 'dense_3/bias:0' shape=(32,) dtype=float32, numpy=\n",
       " array([0., 0., 0., 0., 0., 0., 0., 0., 0., 0., 0., 0., 0., 0., 0., 0., 0.,\n",
       "        0., 0., 0., 0., 0., 0., 0., 0., 0., 0., 0., 0., 0., 0., 0.],\n",
       "       dtype=float32)>,\n",
       " <tf.Variable 'dense_4/kernel:0' shape=(32, 32) dtype=float32, numpy=\n",
       " array([[ 0.18351504,  0.17502093, -0.08970526, ...,  0.29616895,\n",
       "          0.23049173,  0.04608411],\n",
       "        [-0.06886348,  0.20872453,  0.02710178, ..., -0.30107516,\n",
       "          0.19206232,  0.20831618],\n",
       "        [-0.22935373, -0.05707681,  0.14878133, ..., -0.10580778,\n",
       "          0.00935698,  0.11041382],\n",
       "        ...,\n",
       "        [-0.00788319, -0.15411724, -0.1891096 , ...,  0.06866974,\n",
       "          0.2936879 ,  0.21126881],\n",
       "        [ 0.25115827, -0.06801228,  0.2803466 , ..., -0.22840713,\n",
       "          0.20836595,  0.07929605],\n",
       "        [-0.30461466, -0.24399091,  0.2685587 , ..., -0.07945979,\n",
       "         -0.2910558 , -0.02663356]], dtype=float32)>,\n",
       " <tf.Variable 'dense_4/bias:0' shape=(32,) dtype=float32, numpy=\n",
       " array([0., 0., 0., 0., 0., 0., 0., 0., 0., 0., 0., 0., 0., 0., 0., 0., 0.,\n",
       "        0., 0., 0., 0., 0., 0., 0., 0., 0., 0., 0., 0., 0., 0., 0.],\n",
       "       dtype=float32)>,\n",
       " <tf.Variable 'dense_5/kernel:0' shape=(32, 1) dtype=float32, numpy=\n",
       " array([[-0.3350031 ],\n",
       "        [ 0.30694783],\n",
       "        [-0.0995203 ],\n",
       "        [ 0.34138018],\n",
       "        [ 0.0527088 ],\n",
       "        [-0.36783212],\n",
       "        [-0.06829959],\n",
       "        [ 0.22005343],\n",
       "        [-0.4111936 ],\n",
       "        [ 0.35350633],\n",
       "        [-0.19363058],\n",
       "        [-0.27833945],\n",
       "        [-0.32811865],\n",
       "        [-0.39243665],\n",
       "        [ 0.02111703],\n",
       "        [ 0.17173016],\n",
       "        [ 0.0614489 ],\n",
       "        [ 0.16160458],\n",
       "        [ 0.21688545],\n",
       "        [-0.26309603],\n",
       "        [ 0.15699941],\n",
       "        [ 0.2638572 ],\n",
       "        [ 0.32883245],\n",
       "        [-0.00944817],\n",
       "        [-0.33189255],\n",
       "        [-0.06888366],\n",
       "        [-0.25380576],\n",
       "        [-0.22070184],\n",
       "        [ 0.36554664],\n",
       "        [-0.2936898 ],\n",
       "        [ 0.06180024],\n",
       "        [-0.17973348]], dtype=float32)>,\n",
       " <tf.Variable 'dense_5/bias:0' shape=(1,) dtype=float32, numpy=array([0.], dtype=float32)>]"
      ]
     },
     "execution_count": 23,
     "metadata": {},
     "output_type": "execute_result"
    }
   ],
   "source": [
    "NN.trainable_variables"
   ]
  },
  {
   "cell_type": "code",
   "execution_count": 170,
   "metadata": {},
   "outputs": [],
   "source": [
    "class GradientDescent(tf.Module):\n",
    "\n",
    "  def __init__(self, learning_rate=1e-3):\n",
    "    # Initialize parameters\n",
    "    self.learning_rate = learning_rate\n",
    "    self.title = f\"Gradient descent optimizer: learning rate={self.learning_rate}\"\n",
    "\n",
    "  def apply_gradients(self, grads, vars):\n",
    "    # Update variables\n",
    "    for grad, var in zip(grads, vars):\n",
    "      var.assign_sub(self.learning_rate*grad)"
   ]
  },
  {
   "cell_type": "code",
   "execution_count": 171,
   "metadata": {},
   "outputs": [],
   "source": [
    "def inh(t,NN,g):\n",
    "    t = t.reshape(-1,1)\n",
    "    t = tf.constant(t, dtype = tf.float32)\n",
    "    t_0 = tf.zeros((1,1))\n",
    "    one = tf.ones((1,1))\n",
    "    \n",
    "    with tf.GradientTape(persistent=True) as tape:\n",
    "        tape.watch(t)\n",
    "        u = NN(t)\n",
    "        dnn = tape.gradient(u, t)\n",
    "        ddnn = tape.gradient(dnn,t)\n",
    "    ode_loss =  (a * ddnn + b * dnn + c * u - g(t))\n",
    "   \n",
    "    iv_loss = y0 - NN(t_0) # we preceed with one intital value loss y_prime\n",
    "    square_loss = tf.square(ode_loss) + tf.square(iv_loss)\n",
    "    total_loss = tf.reduce_mean(square_loss)\n",
    "    return total_loss\n",
    "\n",
    "        \n",
    "    "
   ]
  },
  {
   "cell_type": "code",
   "execution_count": 172,
   "metadata": {},
   "outputs": [],
   "source": [
    "# with tf.GradientTape(persistent=True) as tape:\n",
    "#     tape.watch(t)\n",
    "#     u = NN(t)\n",
    "#     dnn = tape.gradient(u, t)\n",
    "#     ddnn = tape.gradient(dnn,t)\n",
    "# ode_loss =  (a * ddnn + b * dnn + c * u - g(t))\n",
    "# dnn = tape.gradient(u, t)\n"
   ]
  },
  {
   "cell_type": "code",
   "execution_count": 173,
   "metadata": {},
   "outputs": [],
   "source": [
    "# one = tf.ones((1,1))\n",
    "# solution(one)"
   ]
  },
  {
   "cell_type": "code",
   "execution_count": 174,
   "metadata": {},
   "outputs": [
    {
     "data": {
      "text/plain": [
       "<tf.Tensor: shape=(17, 1), dtype=float32, numpy=\n",
       "array([[0.        ],\n",
       "       [0.00799917],\n",
       "       [0.15162134],\n",
       "       [0.15954861],\n",
       "       [0.16746542],\n",
       "       [0.2842138 ],\n",
       "       [0.29937074],\n",
       "       [0.31439915],\n",
       "       [0.3292893 ],\n",
       "       [0.3440317 ],\n",
       "       [0.42892706],\n",
       "       [0.44242   ],\n",
       "       [0.45571142],\n",
       "       [0.4687976 ],\n",
       "       [0.4816757 ],\n",
       "       [0.5658669 ],\n",
       "       [0.5770415 ]], dtype=float32)>"
      ]
     },
     "execution_count": 174,
     "metadata": {},
     "output_type": "execute_result"
    }
   ],
   "source": [
    "NN(train_t)"
   ]
  },
  {
   "cell_type": "code",
   "execution_count": 175,
   "metadata": {},
   "outputs": [],
   "source": [
    "trainable_vars = NN.trainable_variables"
   ]
  },
  {
   "cell_type": "markdown",
   "metadata": {},
   "source": [
    "osz train"
   ]
  },
  {
   "cell_type": "code",
   "execution_count": 176,
   "metadata": {},
   "outputs": [],
   "source": [
    "train_t = (np.array([0., 0.025, 0.475, 0.5, 0.525, 0.9, 0.95, 1., 1.05, 1.1, 1.4, 1.45, 1.5, 1.55, 1.6, 1.95, 2.])).reshape(-1, 1)\n",
    "train_loss_record1 = []\n",
    "\n",
    "optimizer = tf.optimizers.SGD(learning_rate=0.01)\n",
    "\n",
    "epochs = 300\n",
    "for _ in range(epochs):\n",
    "    with tf.GradientTape(persistent=True) as tape: \n",
    "        loss = inh(train_t,NN,g)\n",
    "    grad = tape.gradient(loss, trainable_vars)\n",
    "    optimizer.apply_gradients(zip(grad, trainable_vars))\n",
    "    train_loss_record1.append(loss)\n",
    "\n",
    "\n"
   ]
  },
  {
   "cell_type": "code",
   "execution_count": 177,
   "metadata": {},
   "outputs": [
    {
     "name": "stdout",
     "output_type": "stream",
     "text": [
      "1/1 [==============================] - 0s 93ms/step\n"
     ]
    }
   ],
   "source": [
    "y_pred = NN.predict(train_t)"
   ]
  },
  {
   "cell_type": "code",
   "execution_count": 178,
   "metadata": {},
   "outputs": [],
   "source": [
    "# y_pred"
   ]
  },
  {
   "cell_type": "code",
   "execution_count": 179,
   "metadata": {},
   "outputs": [],
   "source": [
    "w,r,O,B = 4,1,2,1\n",
    "def solution(t):\n",
    "    A = 1/(-t**2*O**2 + 1j*r*t*O + w**2)\n",
    "    Z = A*E**(1j*O*t)\n",
    "    return  float(re(Z))"
   ]
  },
  {
   "cell_type": "code",
   "execution_count": 180,
   "metadata": {},
   "outputs": [],
   "source": [
    "def solution(t):\n",
    "    A = 4\n",
    "    m = (1 -A**2)**2 + A**2\n",
    "    z = ((1 - A**2)*np.cos(A * t) )/m +  ( -(A)*np.sin(A * t) )/m\n",
    "    return  z\n",
    "# def solution(t):\n",
    "#     return np.sin(t)"
   ]
  },
  {
   "cell_type": "code",
   "execution_count": 181,
   "metadata": {},
   "outputs": [],
   "source": [
    "def solution(t):\n",
    "    return np.sin(t)"
   ]
  },
  {
   "cell_type": "code",
   "execution_count": 182,
   "metadata": {},
   "outputs": [],
   "source": [
    "x_test = np.linspace(0,2,20)\n",
    "\n",
    "\n"
   ]
  },
  {
   "cell_type": "markdown",
   "metadata": {},
   "source": [
    "plot"
   ]
  },
  {
   "cell_type": "code",
   "execution_count": 183,
   "metadata": {},
   "outputs": [
    {
     "data": {
      "image/png": "[encoded data removed]",
      "text/plain": [
       "<Figure size 432x288 with 1 Axes>"
      ]
     },
     "metadata": {
      "needs_background": "light"
     },
     "output_type": "display_data"
    }
   ],
   "source": [
    "\n",
    "fig, axs = plt.subplots(1)\n",
    "axs.set_xlabel(\"t\")\n",
    "axs.set_ylabel(\"pred\")\n",
    "axs.plot(train_t,y_pred,\"b\")\n",
    "axs.plot(train_t, [solution(t[0]) for t in train_t],\"r\")\n",
    "axs.plot(train_t, y_pred,\"yo\")\n",
    "axs.spines['top'].set_visible(False)\n",
    "axs.spines['right'].set_visible(False)"
   ]
  },
  {
   "cell_type": "markdown",
   "metadata": {},
   "source": [
    "L2 loss\n"
   ]
  },
  {
   "cell_type": "code",
   "execution_count": 184,
   "metadata": {},
   "outputs": [
    {
     "data": {
      "text/plain": [
       "0.20998633"
      ]
     },
     "execution_count": 184,
     "metadata": {},
     "output_type": "execute_result"
    }
   ],
   "source": [
    "from tensorflow.python.ops import math_ops\n",
    "\n",
    "t = np.linspace(0,1,10**2)\n",
    "t = t.reshape((t.shape[0],1))\n",
    "\n",
    "def trapezoid(t, y):\n",
    "    return math_ops.reduce_sum(\n",
    "            math_ops.multiply( t[1:] - t[:-1],\n",
    "                              (y[:-1] + y[1:]) / 2.))\n",
    "            #  name='trapezoidal_integral_approx')\n",
    "np.sqrt ( trapezoid(t,(NN(t) - solution(t))**2) )"
   ]
  },
  {
   "cell_type": "code",
   "execution_count": 185,
   "metadata": {},
   "outputs": [],
   "source": [
    "# trapezoidal_integral_approx(t,NN(t) - sin(t))"
   ]
  },
  {
   "cell_type": "code",
   "execution_count": 186,
   "metadata": {},
   "outputs": [
    {
     "data": {
      "text/plain": [
       "<tf.Tensor: shape=(), dtype=float32, numpy=-7.8604217>"
      ]
     },
     "execution_count": 186,
     "metadata": {},
     "output_type": "execute_result"
    }
   ],
   "source": [
    "\n",
    "points = np.linspace(0,2,20)\n",
    "sol_p = np.array([solution(t) for t in points])\n",
    "trapezoidal_integral_approx(NN(points),sol_p)\n",
    "\n",
    "# fig, axs = plt.subplots(1)\n",
    "# axs.set_xlabel(\"t\")\n",
    "# axs.set_ylabel(\"pred\")\n",
    "# axs.plot(points,NN(points),\"b\")\n",
    "# axs.plot(points, [solution(t) for t in points],\"r\")\n"
   ]
  },
  {
   "cell_type": "code",
   "execution_count": 187,
   "metadata": {},
   "outputs": [
    {
     "data": {
      "image/png": "[encoded data removed]",
      "text/plain": [
       "<Figure size 432x288 with 1 Axes>"
      ]
     },
     "metadata": {
      "needs_background": "light"
     },
     "output_type": "display_data"
    }
   ],
   "source": [
    "\n",
    "fig, axs = plt.subplots(1)\n",
    "axs.set_xlabel(\"t\")\n",
    "axs.set_ylabel(\"pred\")\n",
    "axs.plot(train_loss_record,\"b\")\n",
    "axs.spines['top'].set_visible(False)\n",
    "axs.spines['right'].set_visible(False)"
   ]
  },
  {
   "cell_type": "code",
   "execution_count": 188,
   "metadata": {},
   "outputs": [
    {
     "data": {
      "text/plain": [
       "100"
      ]
     },
     "execution_count": 188,
     "metadata": {},
     "output_type": "execute_result"
    }
   ],
   "source": [
    "train_loss_record.__len__()"
   ]
  },
  {
   "cell_type": "markdown",
   "metadata": {},
   "source": [
    "mit Gradient descent"
   ]
  },
  {
   "cell_type": "code",
   "execution_count": 189,
   "metadata": {},
   "outputs": [],
   "source": [
    "train_t = (np.array([0., 0.025, 0.475, 0.5, 0.525, 0.9, 0.95, 1., 1.05, 1.1, 1.4, 1.45, 1.5, 1.55, 1.6, 1.95, 2.])).reshape(-1, 1)\n",
    "train_loss_record1 = []\n",
    "NN = Sequential([\n",
    "    tf.keras.layers.Input((1,)),\n",
    "    tf.keras.layers.Dense(units = 32, activation = 'tanh'),\n",
    "     tf.keras.layers.Dense(units = 32, activation = 'tanh'),\n",
    "    tf.keras.layers.Dense(units = 1)\n",
    "])\n",
    "optimizer = GradientDescent()\n",
    "trainable_vars = NN.trainable_variables\n",
    "epochs = 300\n",
    "for _ in range(epochs):\n",
    "    with tf.GradientTape(persistent=True) as tape: \n",
    "        loss = inh(train_t,NN,g)\n",
    "        grad = tape.gradient(loss, trainable_vars)\n",
    "        optimizer.apply_gradients(grad, trainable_vars)\n",
    "    train_loss_record1.append(loss)\n",
    "\n",
    "\n",
    "\n",
    "\n"
   ]
  },
  {
   "cell_type": "code",
   "execution_count": 190,
   "metadata": {},
   "outputs": [
    {
     "data": {
      "text/plain": [
       "<tf.Tensor: shape=(), dtype=float32, numpy=-0.20663868>"
      ]
     },
     "execution_count": 190,
     "metadata": {},
     "output_type": "execute_result"
    }
   ],
   "source": [
    "trapezoidal_integral_approx(t,(NN(t) - np.sin(t) )**2)"
   ]
  },
  {
   "cell_type": "code",
   "execution_count": 191,
   "metadata": {},
   "outputs": [
    {
     "data": {
      "text/plain": [
       "[<matplotlib.lines.Line2D at 0x1dbb5036fd0>]"
      ]
     },
     "execution_count": 191,
     "metadata": {},
     "output_type": "execute_result"
    },
    {
     "data": {
      "image/png": "[encoded data removed]",
      "text/plain": [
       "<Figure size 432x288 with 1 Axes>"
      ]
     },
     "metadata": {
      "needs_background": "light"
     },
     "output_type": "display_data"
    }
   ],
   "source": [
    "f,axs = plt.subplots(1)\n",
    "axs.plot([t for t in range(train_loss_record1.__len__())],train_loss_record1)"
   ]
  },
  {
   "cell_type": "code",
   "execution_count": 192,
   "metadata": {},
   "outputs": [
    {
     "name": "stdout",
     "output_type": "stream",
     "text": [
      "1/1 [==============================] - 0s 85ms/step\n"
     ]
    },
    {
     "data": {
      "image/png": "[encoded data removed]",
      "text/plain": [
       "<Figure size 432x288 with 1 Axes>"
      ]
     },
     "metadata": {
      "needs_background": "light"
     },
     "output_type": "display_data"
    }
   ],
   "source": [
    "y_pred = NN.predict(train_t)\n",
    "fig, axs = plt.subplots(1)\n",
    "axs.set_xlabel(\"t\")\n",
    "axs.set_ylabel(\"pred\")\n",
    "axs.plot(train_t,y_pred,\"b\")\n",
    "axs.plot(train_t, [solution(t[0]) for t in train_t],\"r\")\n",
    "axs.plot(train_t, y_pred,\"yo\")\n",
    "axs.spines['top'].set_visible(False)\n",
    "axs.spines['right'].set_visible(False)"
   ]
  },
  {
   "cell_type": "markdown",
   "metadata": {},
   "source": [
    "wire sehen der verlust erreicht platteu"
   ]
  },
  {
   "cell_type": "code",
   "execution_count": 193,
   "metadata": {},
   "outputs": [],
   "source": [
    "NN = Sequential([\n",
    "    tf.keras.layers.Input((1,)),\n",
    "    tf.keras.layers.Dense(units = 32, activation = 'tanh'),\n",
    "    tf.keras.layers.Dense(units = 32, activation = 'tanh'),\n",
    "\n",
    "\n",
    "    tf.keras.layers.Dense(units = 1)\n",
    "])\n",
    "T = Sequential([\n",
    "    tf.keras.layers.Input((1,)),\n",
    "    tf.keras.layers.Dense(units = 32, activation = 'tanh'),\n",
    "    tf.keras.layers.Dense(units = 32, activation = 'tanh'),\n",
    "    tf.keras.layers.Dense(units = 1)\n",
    "])"
   ]
  },
  {
   "cell_type": "markdown",
   "metadata": {},
   "source": [
    "competitive "
   ]
  },
  {
   "cell_type": "code",
   "execution_count": 194,
   "metadata": {},
   "outputs": [],
   "source": [
    "def shared_loss(t,NN,T,g):\n",
    "    t = t.reshape(-1,1)\n",
    "    t = tf.constant(t, dtype = tf.float32)\n",
    "    t_0 = tf.zeros((1,1))\n",
    "    one = tf.ones((1,1))\n",
    "    \n",
    "    with tf.GradientTape(persistent=True) as tape:\n",
    "        tape.watch(t)\n",
    "        u = NN(t)\n",
    "        dnn = tape.gradient(u, t)\n",
    "        ddnn = tape.gradient(dnn,t)\n",
    "    ode_loss =  (a * ddnn + b * dnn + c * u - g(t))\n",
    "   \n",
    "    iv_loss = NN(t_0) # we preceed with one intital value loss y_prime\n",
    "    square_loss = T(t) *( tf.square(ode_loss) + tf.square(iv_loss) )\n",
    "\n",
    "    total_loss = tf.reduce_mean(square_loss)\n",
    "    return total_loss"
   ]
  },
  {
   "cell_type": "code",
   "execution_count": 195,
   "metadata": {},
   "outputs": [],
   "source": [
    "trainable_vars1 = NN.trainable_variables\n",
    "trainable_vars2 = T.trainable_variables"
   ]
  },
  {
   "cell_type": "code",
   "execution_count": 196,
   "metadata": {},
   "outputs": [],
   "source": [
    "train_t = (np.array([0., 0.025, 0.475, 0.5, 0.525, 0.9, 0.95, 1., 1.05, 1.1, 1.4, 1.45, 1.5, 1.55, 1.6, 1.95, 2.])).reshape(-1, 1)\n",
    "train_loss_record1 = []\n",
    "\n",
    "optimizer = tf.optimizers.SGD(learning_rate=0.01)\n",
    "\n",
    "epochs = 300\n",
    "for _ in range(epochs):\n",
    "    with tf.GradientTape(persistent=True) as tape: \n",
    "        loss1 = shared_loss(train_t,NN,T,g)\n",
    "        loss2 =  -loss1\n",
    "    grad = tape.gradient(loss1, trainable_vars1)\n",
    "    optimizer.apply_gradients(zip(grad, trainable_vars1))\n",
    "    #discriminator\n",
    "    grad = tape.gradient(loss2, trainable_vars2)\n",
    "    optimizer.apply_gradients(zip(grad, trainable_vars2))\n",
    "    \n",
    "    train_loss_record1.append(loss1)\n"
   ]
  },
  {
   "cell_type": "code",
   "execution_count": 197,
   "metadata": {},
   "outputs": [
    {
     "name": "stdout",
     "output_type": "stream",
     "text": [
      "1/1 [==============================] - 0s 89ms/step\n",
      "1/1 [==============================] - 0s 99ms/step\n"
     ]
    }
   ],
   "source": [
    "y_pred = NN.predict(train_t)\n",
    "z_pred = T.predict(train_t)"
   ]
  },
  {
   "cell_type": "code",
   "execution_count": null,
   "metadata": {},
   "outputs": [],
   "source": []
  },
  {
   "cell_type": "markdown",
   "metadata": {},
   "source": [
    "e"
   ]
  },
  {
   "cell_type": "code",
   "execution_count": 198,
   "metadata": {},
   "outputs": [
    {
     "data": {
      "image/png": "[encoded data removed]",
      "text/plain": [
       "<Figure size 432x288 with 1 Axes>"
      ]
     },
     "metadata": {
      "needs_background": "light"
     },
     "output_type": "display_data"
    }
   ],
   "source": [
    "\n",
    "fig, axs = plt.subplots(1)\n",
    "axs.set_xlabel(\"t\")\n",
    "axs.set_ylabel(\"pred\")\n",
    "axs.plot(train_loss_record1,\"b\")\n",
    "axs.spines['top'].set_visible(False)\n",
    "axs.spines['right'].set_visible(False)"
   ]
  },
  {
   "cell_type": "code",
   "execution_count": 199,
   "metadata": {},
   "outputs": [
    {
     "data": {
      "image/png": "[encoded data removed]",
      "text/plain": [
       "<Figure size 432x288 with 1 Axes>"
      ]
     },
     "metadata": {
      "needs_background": "light"
     },
     "output_type": "display_data"
    }
   ],
   "source": [
    "\n",
    "fig, axs = plt.subplots(1)\n",
    "axs.set_xlabel(\"t\")\n",
    "axs.set_ylabel(\"pred\")\n",
    "axs.plot(train_t,y_pred,\"b\")\n",
    "axs.plot(train_t, [solution(t[0]) for t in train_t],\"r\")\n",
    "axs.plot(train_t,y_pred,\"yo\")\n",
    "axs.spines['top'].set_visible(False)\n",
    "axs.spines['right'].set_visible(False)"
   ]
  },
  {
   "cell_type": "code",
   "execution_count": 200,
   "metadata": {},
   "outputs": [
    {
     "data": {
      "text/plain": [
       "0.2058129"
      ]
     },
     "execution_count": 200,
     "metadata": {},
     "output_type": "execute_result"
    }
   ],
   "source": [
    "np.sqrt ( trapezoid(t,(NN(t) - solution(t))**2) )"
   ]
  },
  {
   "cell_type": "markdown",
   "metadata": {},
   "source": []
  },
  {
   "cell_type": "markdown",
   "metadata": {},
   "source": [
    "weiter Lösungen in abhängigkeit von r ?\n",
    "approximation der Lösung in polyomen\n"
   ]
  },
  {
   "cell_type": "code",
   "execution_count": 201,
   "metadata": {},
   "outputs": [],
   "source": [
    "#interpolation polynom y` y`` y"
   ]
  },
  {
   "cell_type": "markdown",
   "metadata": {},
   "source": [
    "we are trying to make a ansatz of the form $$e^{NN} - 1$$"
   ]
  },
  {
   "cell_type": "code",
   "execution_count": 202,
   "metadata": {},
   "outputs": [
    {
     "data": {
      "text/plain": [
       "0"
      ]
     },
     "execution_count": 202,
     "metadata": {},
     "output_type": "execute_result"
    }
   ],
   "source": [
    "y0"
   ]
  },
  {
   "cell_type": "code",
   "execution_count": 203,
   "metadata": {},
   "outputs": [],
   "source": [
    "def inh(t,NN,g):\n",
    "    t = t.reshape(-1,1)\n",
    "    t = tf.constant(t, dtype = tf.float32)\n",
    "    t_0 = tf.zeros((1,1))\n",
    "    one = tf.ones((1,1))\n",
    "    \n",
    "    with tf.GradientTape(persistent=True) as tape:\n",
    "        tape.watch(t)\n",
    "        u = tf.exp(NN(t)) - 1\n",
    "        dnn = tape.gradient(u, t)\n",
    "        ddnn = tape.gradient(dnn,t)\n",
    "    ode_loss =  (a * ddnn + b * dnn + c * u - g(t))\n",
    "   \n",
    "    iv_loss = y0 - (tf.exp(NN(t_0)) - 1) # we preceed with one intital value loss y_prime\n",
    "    square_loss = tf.square(ode_loss) + tf.square(iv_loss)\n",
    "    total_loss = tf.reduce_mean(square_loss)\n",
    "    return total_loss\n",
    "\n",
    "        \n",
    "    "
   ]
  },
  {
   "cell_type": "code",
   "execution_count": null,
   "metadata": {},
   "outputs": [],
   "source": [
    "train_t = (np.array([0., 0.025, 0.475, 0.5, 0.525, 0.9, 0.95, 1., 1.05, 1.1, 1.4, 1.45, 1.5, 1.55, 1.6, 1.95, 2.])).reshape(-1, 1)\n",
    "train_loss_record2 = []\n",
    "\n",
    "optimizer = tf.optimizers.SGD(learning_rate=0.01)\n",
    "epochs = 100 \n",
    "for _ in range(epochs):\n",
    "    with tf.GradientTape(persistent=True) as tape: \n",
    "        loss = inh(train_t,NN,g)\n",
    "    grad = tape.gradient(loss, trainable_vars)\n",
    "    optimizer.apply_gradients(zip(grad, trainable_vars))\n",
    "    train_loss_record2.append(loss)\n",
    "\n",
    "\n"
   ]
  },
  {
   "cell_type": "code",
   "execution_count": null,
   "metadata": {},
   "outputs": [],
   "source": [
    "def solution(t):\n",
    "    return np.sin(t)"
   ]
  },
  {
   "cell_type": "code",
   "execution_count": null,
   "metadata": {},
   "outputs": [
    {
     "data": {
      "text/plain": [
       "[<matplotlib.lines.Line2D at 0x27c1f931640>]"
      ]
     },
     "execution_count": 520,
     "metadata": {},
     "output_type": "execute_result"
    },
    {
     "data": {
      "image/png": "[encoded data removed]",
      "text/plain": [
       "<Figure size 432x288 with 1 Axes>"
      ]
     },
     "metadata": {
      "needs_background": "light"
     },
     "output_type": "display_data"
    }
   ],
   "source": [
    "fig, axs = plt.subplots(1)\n",
    "axs.set_xlabel(\"t\")\n",
    "axs.set_ylabel(\"pred\")\n",
    "axs.plot(train_t, tf.exp(y_pred) - 1,\"b\")\n",
    "axs.plot(train_t, [solution(t[0]) for t in train_t],\"r\")\n",
    "# axs.plot(train_t, solution(t),\"r\")\n",
    "axs.plot(train_t,  tf.exp(y_pred) -1,\"yo\")"
   ]
  },
  {
   "cell_type": "code",
   "execution_count": null,
   "metadata": {},
   "outputs": [],
   "source": [
    "\n",
    "fig, axs = plt.subplots(1)\n",
    "axs.set_xlabel(\"t\")\n",
    "axs.set_ylabel(\"pred\")\n",
    "\n",
    "# axs.plot(train_loss_record,\"b\")\n",
    "axs.plot(train_loss_record2,\"r\")\n",
    "axs.set_yscale(\"log\")"
   ]
  },
  {
   "cell_type": "code",
   "execution_count": null,
   "metadata": {},
   "outputs": [],
   "source": [
    "train_loss_record1"
   ]
  },
  {
   "cell_type": "markdown",
   "metadata": {},
   "source": []
  },
  {
   "cell_type": "markdown",
   "metadata": {},
   "source": [
    "simulatinious training, try mimic $$ g(t) = cos (\\omega\\ t) $$"
   ]
  },
  {
   "cell_type": "code",
   "execution_count": 206,
   "metadata": {},
   "outputs": [],
   "source": [
    "NN__2 = Sequential([\n",
    "    tf.keras.layers.Input((1,)),\n",
    "    tf.keras.layers.Dense(units = 32, activation = 'tanh'),\n",
    "    tf.keras.layers.Dense(units = 1)\n",
    "])\n",
    "NN = tf.keras.models.Sequential([\n",
    "    tf.keras.layers.Input((1,)),\n",
    "    tf.keras.layers.Dense(units = 32, activation = 'tanh'),\n",
    "    tf.keras.layers.Dense(units = 32, activation = 'tanh'), #2 additional layers\n",
    "    tf.keras.layers.Dense(units = 32, activation = 'tanh'),\n",
    "\n",
    "    tf.keras.layers.Dense(units = 1)\n",
    "])"
   ]
  },
  {
   "cell_type": "code",
   "execution_count": 207,
   "metadata": {},
   "outputs": [],
   "source": [
    "def inh(t,NN,NN__2,g):\n",
    "    t = t.reshape(-1,1)\n",
    "    t = tf.constant(t, dtype = tf.float32)\n",
    "    t_0 = tf.zeros((1,1))\n",
    "    one = tf.ones((1,1))\n",
    "    \n",
    "    with tf.GradientTape(persistent=True) as tape:\n",
    "        tape.watch(t)\n",
    "        o = NN(t)*tf.cos(NN__2(t)*t) \n",
    "        dnn = tape.gradient(o, t)\n",
    "        ddnn = tape.gradient(dnn,t)\n",
    "    ode_loss =  (a * ddnn + b * dnn + c * o - g(t))\n",
    "   \n",
    "    iv_loss = y0 - NN(t_0)*tf.cos(NN__2(t_0)*t_0)  # we preceed with one intital value loss y_prime\n",
    "    square_loss = tf.square(ode_loss) + tf.square(iv_loss)\n",
    "    total_loss = tf.reduce_mean(square_loss)\n",
    "    return total_loss\n",
    "\n",
    "        \n",
    "    "
   ]
  },
  {
   "cell_type": "code",
   "execution_count": null,
   "metadata": {},
   "outputs": [],
   "source": []
  },
  {
   "cell_type": "code",
   "execution_count": 208,
   "metadata": {},
   "outputs": [],
   "source": [
    "trainable_vars =  NN.trainable_variables\n",
    "train_vars2 = NN__2.trainable_variables\n",
    "# trainable_vars = np.concatenate((trainable_vars,NN__2.trainable_variables))\n",
    "# c = tf.concat((NN.trainable_variables,NN__2.trainable_variables), axis=0)"
   ]
  },
  {
   "cell_type": "code",
   "execution_count": 209,
   "metadata": {},
   "outputs": [
    {
     "name": "stdout",
     "output_type": "stream",
     "text": [
      "WARNING:tensorflow:Calling GradientTape.gradient on a persistent tape inside its context is significantly less efficient than calling it outside the context (it causes the gradient ops to be recorded on the tape, leading to increased CPU and memory usage). Only call GradientTape.gradient inside the context if you actually want to trace the gradient in order to compute higher order derivatives.\n",
      "WARNING:tensorflow:Calling GradientTape.gradient on a persistent tape inside its context is significantly less efficient than calling it outside the context (it causes the gradient ops to be recorded on the tape, leading to increased CPU and memory usage). Only call GradientTape.gradient inside the context if you actually want to trace the gradient in order to compute higher order derivatives.\n"
     ]
    }
   ],
   "source": [
    "train_t = (np.array([0., 0.025, 0.475, 0.5, 0.525, 0.9, 0.95, 1., 1.05, 1.1, 1.4, 1.45, 1.5, 1.55, 1.6, 1.95, 2.])).reshape(-1, 1)\n",
    "train_loss_record = []\n",
    "\n",
    "optimizer = tf.optimizers.SGD(learning_rate=0.01)\n",
    "epochs = 100 \n",
    "for _ in range(epochs):\n",
    "    \n",
    "    with tf.GradientTape(persistent=True) as tape: \n",
    "        loss = inh(train_t,NN,NN__2,g)\n",
    "    grad = tape.gradient(loss, trainable_vars)\n",
    "    grad2 = tape.gradient(loss,train_vars2 )\n",
    "    optimizer.apply_gradients(zip(grad, trainable_vars))\n",
    "    optimizer.apply_gradients(zip(grad2, train_vars2))\n",
    "    train_loss_record.append(loss)\n",
    "    train_loss_record.append(loss)\n",
    "\n",
    "\n"
   ]
  },
  {
   "cell_type": "code",
   "execution_count": 210,
   "metadata": {},
   "outputs": [
    {
     "data": {
      "text/plain": [
       "<tf.Variable 'UnreadVariable' shape=() dtype=int64, numpy=201>"
      ]
     },
     "execution_count": 210,
     "metadata": {},
     "output_type": "execute_result"
    }
   ],
   "source": [
    "optimizer.apply_gradients(zip(grad, trainable_vars))"
   ]
  },
  {
   "cell_type": "code",
   "execution_count": 211,
   "metadata": {},
   "outputs": [
    {
     "name": "stdout",
     "output_type": "stream",
     "text": [
      "1/1 [==============================] - 0s 115ms/step\n",
      "1/1 [==============================] - 0s 69ms/step\n"
     ]
    }
   ],
   "source": [
    "y_pred1 = NN.predict(train_t)\n",
    "y_pred2  = NN__2.predict(train_t)\n"
   ]
  },
  {
   "cell_type": "code",
   "execution_count": 212,
   "metadata": {},
   "outputs": [
    {
     "data": {
      "text/plain": [
       "array([[ 0.08929467],\n",
       "       [ 0.0894318 ],\n",
       "       [ 0.08408654],\n",
       "       [ 0.08316559],\n",
       "       [ 0.08216532],\n",
       "       [ 0.05739129],\n",
       "       [ 0.05274888],\n",
       "       [ 0.04781998],\n",
       "       [ 0.04261791],\n",
       "       [ 0.03715684],\n",
       "       [-0.00016468],\n",
       "       [-0.00699273],\n",
       "       [-0.01395138],\n",
       "       [-0.02102559],\n",
       "       [-0.02820025],\n",
       "       [-0.08011171],\n",
       "       [-0.08762689]], dtype=float32)"
      ]
     },
     "execution_count": 212,
     "metadata": {},
     "output_type": "execute_result"
    }
   ],
   "source": [
    "y_pred1"
   ]
  },
  {
   "cell_type": "code",
   "execution_count": 213,
   "metadata": {},
   "outputs": [],
   "source": [
    "arr = [solution(t[0]) for t in train_t]"
   ]
  },
  {
   "cell_type": "code",
   "execution_count": 214,
   "metadata": {},
   "outputs": [
    {
     "data": {
      "text/plain": [
       "[<matplotlib.lines.Line2D at 0x1dbb537e310>]"
      ]
     },
     "execution_count": 214,
     "metadata": {},
     "output_type": "execute_result"
    },
    {
     "data": {
      "image/png": "[encoded data removed]",
      "text/plain": [
       "<Figure size 432x288 with 1 Axes>"
      ]
     },
     "metadata": {
      "needs_background": "light"
     },
     "output_type": "display_data"
    }
   ],
   "source": [
    "def ansatz(t):\n",
    "    u = tf.cos(NN(t))\n",
    "    v = tf.sin(NN__2(t))\n",
    "    return u + v\n",
    "fig, axs = plt.subplots(1)\n",
    "axs.set_xlabel(\"t\")\n",
    "axs.set_ylabel(\"pred\")\n",
    "axs.plot(train_t,  y_pred1*tf.cos(y_pred2*train_t) ,\"b\")\n",
    "axs.plot(train_t, arr,\"r\")\n",
    "# axs.plot(train_t, tf.sin(y_pred1) + tf.cos(y_pred2) ,\"yb\")"
   ]
  },
  {
   "cell_type": "code",
   "execution_count": 215,
   "metadata": {},
   "outputs": [],
   "source": [
    "# points = np.linspace(0,2,20)\n",
    "# trapezoidal_integral_approx(NN(points),points)\n"
   ]
  },
  {
   "cell_type": "code",
   "execution_count": 216,
   "metadata": {},
   "outputs": [
    {
     "data": {
      "text/plain": [
       "<tf.Tensor: shape=(17,), dtype=float64, numpy=\n",
       "array([ 1.    ,  1.5625,  2.125 ,  2.6875,  3.25  ,  3.8125,  4.375 ,\n",
       "        4.9375,  5.5   ,  6.0625,  6.625 ,  7.1875,  7.75  ,  8.3125,\n",
       "        8.875 ,  9.4375, 10.    ])>"
      ]
     },
     "execution_count": 216,
     "metadata": {},
     "output_type": "execute_result"
    }
   ],
   "source": [
    "r_train = tf.linspace(1,10,17)\n",
    "r_train\n"
   ]
  },
  {
   "cell_type": "markdown",
   "metadata": {},
   "source": [
    " find solution in dependence of r"
   ]
  },
  {
   "cell_type": "code",
   "execution_count": 217,
   "metadata": {},
   "outputs": [
    {
     "data": {
      "text/plain": [
       "<tf.Tensor: shape=(17,), dtype=float64, numpy=\n",
       "array([ 1.    ,  1.5625,  2.125 ,  2.6875,  3.25  ,  3.8125,  4.375 ,\n",
       "        4.9375,  5.5   ,  6.0625,  6.625 ,  7.1875,  7.75  ,  8.3125,\n",
       "        8.875 ,  9.4375, 10.    ])>"
      ]
     },
     "execution_count": 217,
     "metadata": {},
     "output_type": "execute_result"
    }
   ],
   "source": [
    "r_train"
   ]
  },
  {
   "cell_type": "code",
   "execution_count": 223,
   "metadata": {},
   "outputs": [],
   "source": [
    "a = 1\n",
    "b = 1\n",
    "c = 1\n",
    "y0 = 1.\n",
    "y0_prime = 0.\n",
    "def g(t):\n",
    "    return np.cos(t) \n",
    "\n",
    "#we try putting the parameter outside the nework\n",
    "NN_r = Sequential([\n",
    "    tf.keras.layers.Input((2,)),\n",
    "    tf.keras.layers.Dense(units = 32, activation = 'tanh'),\n",
    "    tf.keras.layers.Dense(units = 32, activation = 'tanh'), #2 additional layers\n",
    "    tf.keras.layers.Dense(units = 32, activation = 'tanh'),\n",
    "\n",
    "    tf.keras.layers.Dense(units = 1)\n",
    "])\n",
    "\n",
    "def inh(t,NN,g,r):\n",
    "    # def g(t,r):\n",
    "    #     return np.cos(r * t) \n",
    "    t = t.reshape(-1,1)\n",
    "    t = tf.constant(t, dtype = tf.float32)\n",
    "    r = tf.constant(r, dtype = tf.float32)\n",
    "    v = tf.concat([r,t],1)\n",
    "    t\n",
    "    # input_tensor = tf.concat([r,t],1)\n",
    "    t_0 = tf.zeros((1,1))\n",
    "    one = tf.ones((1,1))\n",
    "    \n",
    "    with tf.GradientTape(persistent=True) as tape:\n",
    "        tape.watch(t)\n",
    "        u = NN(v)\n",
    "        dnn = tape.gradient(u, t)\n",
    "        tf.print(dnn)\n",
    "        ddnn = tape.gradient(dnn,t)\n",
    "    ode_loss =  (a * ddnn + r * dnn + c * u - g(t))\n",
    "   \n",
    "    iv_loss = y0 - NN(t_0) # we preceed with one intital value loss y_prime\n",
    "    square_loss = tf.square(ode_loss) + tf.square(iv_loss)\n",
    "    total_loss = tf.reduce_mean(square_loss)\n",
    "    return total_loss\n",
    "\n",
    "        \n",
    "    "
   ]
  },
  {
   "cell_type": "code",
   "execution_count": 224,
   "metadata": {},
   "outputs": [],
   "source": [
    "c = 1\n",
    "def concat(t,r):\n",
    "    return tf.concat([r,t],1)\n",
    "\n",
    "\n",
    "# @tf.function    \n",
    "# def f(t,r):\n",
    "#     # with tf.GradientTape(persistent=True) as tape:\n",
    "#     #     tape.watch(t)\n",
    "#     v = c(t,r)\n",
    "#     u = NN_r(v)\n",
    "#     dnn = tf.gradients(u, t)[0]\n",
    "#     tf.print(dnn)\n",
    "#     ddnn = tf.gradients(dnn,t)[0]\n",
    "    \n",
    "    \n",
    "    \n",
    "def f1(t,r,g):\n",
    "    with tf.GradientTape(persistent=True) as tape:\n",
    "        tape.watch(t)\n",
    "        v = concat(t,r)\n",
    "        u = NN_r(v)\n",
    "        dnn = tape.gradient(u, t)\n",
    "        ddnn = tape.gradient(dnn,t)\n",
    "        f = (a * ddnn + r * dnn + c * u - g(t))\n",
    "    return f\n",
    "    "
   ]
  },
  {
   "cell_type": "code",
   "execution_count": 220,
   "metadata": {},
   "outputs": [],
   "source": [
    "# @tf.function\n",
    "def inh_tf(t,NN,g,r):\n",
    "    # def g(t,r):\n",
    "    #     return np.cos(r * t) \n",
    "\n",
    "    t = tf.constant(t, dtype = tf.float32)\n",
    "    r = tf.constant(r, dtype = tf.float32)\n",
    "    v = tf.concat([r,t],1)\n",
    "    y_0 = 1\n",
    "    t_0 = tf.zeros((17,1))\n",
    "    y_0 = tf.ones((17,1)) * y_0\n",
    "    # input_tensor = tf.concat([r,t],1)\n",
    "    # t_0 = tf.zeros((1,1))\n",
    "    one = tf.ones((1,1))\n",
    "    \n",
    "    ode_loss =  f1(t,r,g)\n",
    "    # initial_loss = y0 - tf.square(ode_loss) \n",
    "    iv_loss = y0 - NN_r(concat(t_0,r)) \n",
    "    square_loss = tf.square(ode_loss) + tf.square(iv_loss)\n",
    "    total_loss = tf.reduce_mean(square_loss)\n",
    "    return total_loss"
   ]
  },
  {
   "cell_type": "code",
   "execution_count": 221,
   "metadata": {},
   "outputs": [],
   "source": [
    "# f1(t,r,g)"
   ]
  },
  {
   "cell_type": "code",
   "execution_count": null,
   "metadata": {},
   "outputs": [],
   "source": [
    "train_t = np.array(train_t,dtype=np.float32)"
   ]
  },
  {
   "cell_type": "code",
   "execution_count": null,
   "metadata": {},
   "outputs": [],
   "source": []
  },
  {
   "cell_type": "markdown",
   "metadata": {},
   "source": [
    "init"
   ]
  },
  {
   "cell_type": "code",
   "execution_count": null,
   "metadata": {},
   "outputs": [],
   "source": [
    "t = train_t.reshape(-1,1)\n",
    "# r = tf.ones((17,1))\n",
    "r = np.linspace(0,4,17).reshape(-1,1)\n",
    "r = tf.constant(r, dtype = tf.float32)\n",
    "t = tf.constant(t, dtype = tf.float32)\n",
    "v = tf.concat([r,t],1)\n",
    "u = NN_r(v)"
   ]
  },
  {
   "cell_type": "code",
   "execution_count": null,
   "metadata": {},
   "outputs": [],
   "source": [
    "# @tf.function\n",
    "# def grad():\n",
    "#     with tf.GradientTape(persistent=True) as tape:\n",
    "#         tape.watch(v[0])\n",
    "#         tape.watch(v[1])\n",
    "        \n",
    "#         u = NN_r(v)\n",
    "#         grad = tf.gradients(u, v[0])[0][:,0]\n",
    "#         tf.print(grad)\n",
    "# grad()"
   ]
  },
  {
   "cell_type": "code",
   "execution_count": null,
   "metadata": {},
   "outputs": [
    {
     "name": "stdout",
     "output_type": "stream",
     "text": [
      "[[-0.113248602]\n",
      " [-0.123665571]\n",
      " [-0.0798022076]\n",
      " ...\n",
      " [0.037897069]\n",
      " [0.0622544065]\n",
      " [0.0579255]]\n"
     ]
    }
   ],
   "source": [
    "with tf.GradientTape(persistent=True) as tape:\n",
    "    tape.watch(t)\n",
    "    u = NN_r(tf.concat([r,t],1))\n",
    "    dnn = tape.gradient(u, t)\n",
    "    ddnn = tape.gradient(dnn,t)\n",
    "    tf.print(ddnn)\n"
   ]
  },
  {
   "cell_type": "markdown",
   "metadata": {},
   "source": [
    "train "
   ]
  },
  {
   "cell_type": "code",
   "execution_count": null,
   "metadata": {},
   "outputs": [],
   "source": [
    "\n",
    "train_loss_record4 = []\n",
    "trainable_vars = NN_r.trainable_variables\n",
    "optimizer = tf.optimizers.SGD(learning_rate=0.01)\n",
    "epochs = 100 \n",
    "for _ in range(epochs):\n",
    "    with tf.GradientTape(persistent=True) as tape: \n",
    "        loss = inh_tf(train_t,NN_r,g,r)\n",
    "    grad = tape.gradient(loss, trainable_vars)\n",
    "    optimizer.apply_gradients(zip(grad, trainable_vars))\n",
    "    train_loss_record4.append(loss)\n"
   ]
  },
  {
   "cell_type": "code",
   "execution_count": null,
   "metadata": {},
   "outputs": [
    {
     "data": {
      "text/plain": [
       "[<matplotlib.lines.Line2D at 0x191f236ddc0>]"
      ]
     },
     "execution_count": 407,
     "metadata": {},
     "output_type": "execute_result"
    },
    {
     "data": {
      "image/png": "[encoded data removed]",
      "text/plain": [
       "<Figure size 432x288 with 1 Axes>"
      ]
     },
     "metadata": {
      "needs_background": "light"
     },
     "output_type": "display_data"
    }
   ],
   "source": [
    "fig, axs = plt.subplots(1)\n",
    "axs.set_xlabel(\"t\")\n",
    "train_loss_record4\n",
    "axs.plot(train_loss_record4,\"b\")"
   ]
  },
  {
   "cell_type": "code",
   "execution_count": null,
   "metadata": {},
   "outputs": [
    {
     "name": "stdout",
     "output_type": "stream",
     "text": [
      "1/1 [==============================] - 0s 29ms/step\n"
     ]
    },
    {
     "data": {
      "text/plain": [
       "array([[0.9561721 ],\n",
       "       [1.004394  ],\n",
       "       [1.0388123 ],\n",
       "       [1.0596757 ],\n",
       "       [1.068784  ],\n",
       "       [1.0686865 ],\n",
       "       [1.0620046 ],\n",
       "       [1.0510299 ],\n",
       "       [1.0375701 ],\n",
       "       [1.0229502 ],\n",
       "       [1.0080829 ],\n",
       "       [0.99356365],\n",
       "       [0.97975385],\n",
       "       [0.9668524 ],\n",
       "       [0.95494723],\n",
       "       [0.9440528 ],\n",
       "       [0.9341382 ]], dtype=float32)"
      ]
     },
     "execution_count": 412,
     "metadata": {},
     "output_type": "execute_result"
    }
   ],
   "source": [
    "NN_r(np.reshape([0,1],(1,2)))\n",
    "NN_r.predict(concat(tf.zeros((17,1)),r))"
   ]
  },
  {
   "cell_type": "code",
   "execution_count": null,
   "metadata": {},
   "outputs": [
    {
     "data": {
      "text/plain": [
       "<tf.Tensor: shape=(), dtype=float32, numpy=-1.8823595>"
      ]
     },
     "execution_count": 464,
     "metadata": {},
     "output_type": "execute_result"
    }
   ],
   "source": []
  },
  {
   "cell_type": "markdown",
   "metadata": {},
   "source": []
  },
  {
   "cell_type": "code",
   "execution_count": 226,
   "metadata": {},
   "outputs": [],
   "source": [
    "NN = Sequential([\n",
    "    tf.keras.layers.Input((1,)),\n",
    "    tf.keras.layers.Dense(units = 32, activation = 'tanh'),\n",
    "    tf.keras.layers.Dense(units = 32, activation = 'tanh'),\n",
    "\n",
    "\n",
    "    tf.keras.layers.Dense(units = 1)\n",
    "])\n",
    "T = Sequential([\n",
    "    tf.keras.layers.Input((1,)),\n",
    "    tf.keras.layers.Dense(units = 32, activation = 'tanh'),\n",
    "    tf.keras.layers.Dense(units = 32, activation = 'tanh'),\n",
    "    tf.keras.layers.Dense(units = 1)\n",
    "])"
   ]
  },
  {
   "cell_type": "markdown",
   "metadata": {},
   "source": [
    "c gradientdescent "
   ]
  },
  {
   "cell_type": "code",
   "execution_count": null,
   "metadata": {},
   "outputs": [],
   "source": [
    "# tf.hessians(\n",
    "#     ys,\n",
    "#     xs,\n",
    "#     gate_gradients=False,\n",
    "#     aggregation_method=None,\n",
    "#     name='hessians'\n",
    "# )"
   ]
  },
  {
   "cell_type": "code",
   "execution_count": null,
   "metadata": {},
   "outputs": [],
   "source": [
    "class C_GradientDescent(tf.Module):\n",
    "\n",
    "  def __init__(self, learning_rate=1e-3):\n",
    "    # Initialize parameters\n",
    "    self.learning_rate = learning_rate\n",
    "    self.title = f\"Gradient descent optimizer: learning rate={self.learning_rate}\"\n",
    "\n",
    "  def apply_gradients(self, grads,hess, vars):\n",
    "    # Update variables\n",
    "    for grad,hess, var in zip(grads,hess, vars):\n",
    "      print(type(var))\n",
    "      print(type(hess))\n",
    "      print(type(grads))\n",
    "      var.assign_sub(self.learning_rate*grad + self.learning_rate**2  * (hess * grad))"
   ]
  },
  {
   "cell_type": "code",
   "execution_count": 1,
   "metadata": {},
   "outputs": [],
   "source": [
    "# # dy_dx = gg.gradient(y, x)\n",
    "# loss = shared_loss(train_t,NN,T,g)\n",
    "# grad2 = tape.gradient(loss, trainable_vars2)\n",
    "# hess_yx = tape.gradient(grad2,trainable_vars1)\n"
   ]
  },
  {
   "cell_type": "code",
   "execution_count": 227,
   "metadata": {},
   "outputs": [],
   "source": [
    "# optimizer = C_GradientDescent()\n",
    "\n",
    "\n",
    "# epochs = 300\n",
    "# for _ in range(epochs):\n",
    "#     with tf.GradientTape(persistent=True) as tape: \n",
    "#         loss = shared_loss(train_t,NN,T,g)\n",
    "        \n",
    "#     grad1 = tape.gradient(loss, trainable_vars1)\n",
    "#     grad2 = tape.gradient(loss, trainable_vars2)\n",
    "    \n",
    "#     hess_xy = tape.gradient(grad1,trainable_vars2)\n",
    "#     hess_yx = tape.gradient(grad2,trainable_vars1)\n",
    "    \n",
    "    \n",
    "#     optimizer.apply_gradients(grad,hess_xy, trainable_vars)\n",
    "#     train_loss_record1.append(loss)\n"
   ]
  },
  {
   "cell_type": "markdown",
   "metadata": {},
   "source": [
    "--"
   ]
  },
  {
   "cell_type": "code",
   "execution_count": null,
   "metadata": {},
   "outputs": [],
   "source": [
    "\n",
    "# https://i-systems.github.io/tutorial/KSNVE/220525/01_PINN.html#3.2.-Lab-1%3A-Simple-Example\n",
    "#https://deeplearningmath.org/general-fully-connected-neural-networks"
   ]
  },
  {
   "cell_type": "code",
   "execution_count": null,
   "metadata": {},
   "outputs": [
    {
     "data": {
      "text/plain": [
       "<tf.Tensor: shape=(), dtype=float32, numpy=-2.061646>"
      ]
     },
     "execution_count": 415,
     "metadata": {},
     "output_type": "execute_result"
    }
   ],
   "source": [
    "from tensorflow.python.ops import math_ops\n",
    "\n",
    "def trapezoidal_integral_approx(t, y):\n",
    "    return math_ops.reduce_sum(\n",
    "            math_ops.multiply(t[:-1] - t[1:],\n",
    "                              (y[:-1] + y[1:]) / 2.), \n",
    "            name='trapezoidal_integral_approx')\n",
    "trapezoidal_integral_approx(t,NN(t))"
   ]
  },
  {
   "cell_type": "code",
   "execution_count": null,
   "metadata": {},
   "outputs": [],
   "source": [
    "\n"
   ]
  },
  {
   "cell_type": "markdown",
   "metadata": {},
   "source": [
    "\\begin{bmatrix}\n",
    "  & a_{12} &  & \\dots & a_{1n} \\\\\n",
    "a_{21} & a_{22} & a_{23}b\\small& \\ \\\\\n",
    "\\dots  & \\dots  & \\dots  & \\dots & \\dots  \\\\\n",
    "a_{n1} & a_{n2} & a_{n3} & \\dots & a_{nn} \n",
    "\\end{bmatrix}\n",
    "\n",
    "\n",
    "\\begin{bmatrix}\n",
    "{\\Large W}   \\\\\n",
    "\n",
    " \n",
    "\\end{bmatrix}\n",
    "\n",
    "\n",
    "\n",
    "\n"
   ]
  },
  {
   "cell_type": "markdown",
   "metadata": {},
   "source": []
  },
  {
   "cell_type": "code",
   "execution_count": null,
   "metadata": {},
   "outputs": [],
   "source": []
  }
 ],
 "metadata": {
  "kernelspec": {
   "display_name": "Python 3",
   "language": "python",
   "name": "python3"
  },
  "language_info": {
   "codemirror_mode": {
    "name": "ipython",
    "version": 3
   },
   "file_extension": ".py",
   "mimetype": "text/x-python",
   "name": "python",
   "nbconvert_exporter": "python",
   "pygments_lexer": "ipython3",
   "version": "3.9.12"
  }
 },
 "nbformat": 4,
 "nbformat_minor": 2
}
