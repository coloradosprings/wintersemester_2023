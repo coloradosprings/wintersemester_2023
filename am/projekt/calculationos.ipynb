{
 "cells": [
  {
   "cell_type": "code",
   "execution_count": 2,
   "metadata": {},
   "outputs": [],
   "source": [
    "from sympy import *"
   ]
  },
  {
   "cell_type": "code",
   "execution_count": 3,
   "metadata": {},
   "outputs": [
    {
     "data": {
      "text/latex": [
       "$\\displaystyle - \\frac{\\left(z - 1\\right) \\left(z + 1\\right) \\cos{\\left(z \\right)}}{z^{4} - z^{2} + 1}$"
      ],
      "text/plain": [
       "-(z - 1)*(z + 1)*cos(z)/(z**4 - z**2 + 1)"
      ]
     },
     "execution_count": 3,
     "metadata": {},
     "output_type": "execute_result"
    }
   ],
   "source": [
    "#calculated solution\n",
    "z = symbols(\"z\",real=True)\n",
    "w,r,O,B = 1,1,1,1\n",
    "A = 1/(-z**2*O**2 + I*r*z*O + w**2)\n",
    "Z = A*E**(I*O*z)\n",
    "factor( re(A)*re(E**(I*O*z)) )"
   ]
  },
  {
   "cell_type": "code",
   "execution_count": 4,
   "metadata": {},
   "outputs": [],
   "source": [
    "A = z**4 - z**2 + 1"
   ]
  },
  {
   "cell_type": "code",
   "execution_count": 9,
   "metadata": {},
   "outputs": [],
   "source": [
    "B = (z**2 - 1) * cos(z) + z*sin(z)"
   ]
  },
  {
   "cell_type": "code",
   "execution_count": 14,
   "metadata": {},
   "outputs": [
    {
     "data": {
      "text/latex": [
       "$\\displaystyle \\frac{- z^{10} \\sin{\\left(z \\right)} + 4 z^{9} \\sin{\\left(z \\right)} - z^{9} \\cos{\\left(z \\right)} + 4 z^{7} \\cos{\\left(z \\right)} - z^{6} \\sin{\\left(z \\right)} - 10 z^{6} \\cos{\\left(z \\right)} + 6 z^{5} \\sin{\\left(z \\right)} - 3 z^{5} \\cos{\\left(z \\right)} + 2 z^{4} \\sin{\\left(z \\right)} - 12 z^{4} \\cos{\\left(z \\right)} - 26 z^{3} \\sin{\\left(z \\right)} + 2 z^{3} \\cos{\\left(z \\right)} - 3 z^{2} \\sin{\\left(z \\right)} + 12 z^{2} \\cos{\\left(z \\right)} + 6 z \\sin{\\left(z \\right)} + z \\cos{\\left(z \\right)} + 2 \\sqrt{2} \\sin{\\left(z + \\frac{\\pi}{4} \\right)}}{z^{12} - 3 z^{10} + 6 z^{8} - 7 z^{6} + 6 z^{4} - 3 z^{2} + 1}$"
      ],
      "text/plain": [
       "(-z**10*sin(z) + 4*z**9*sin(z) - z**9*cos(z) + 4*z**7*cos(z) - z**6*sin(z) - 10*z**6*cos(z) + 6*z**5*sin(z) - 3*z**5*cos(z) + 2*z**4*sin(z) - 12*z**4*cos(z) - 26*z**3*sin(z) + 2*z**3*cos(z) - 3*z**2*sin(z) + 12*z**2*cos(z) + 6*z*sin(z) + z*cos(z) + 2*sqrt(2)*sin(z + pi/4))/(z**12 - 3*z**10 + 6*z**8 - 7*z**6 + 6*z**4 - 3*z**2 + 1)"
      ]
     },
     "execution_count": 14,
     "metadata": {},
     "output_type": "execute_result"
    }
   ],
   "source": [
    "solution = (B/A).simplify()\n",
    "(Derivative(solution,z).simplify() + Derivative(Derivative(solution,z)).simplify() + solution )"
   ]
  }
 ],
 "metadata": {
  "kernelspec": {
   "display_name": "Python 3",
   "language": "python",
   "name": "python3"
  },
  "language_info": {
   "codemirror_mode": {
    "name": "ipython",
    "version": 3
   },
   "file_extension": ".py",
   "mimetype": "text/x-python",
   "name": "python",
   "nbconvert_exporter": "python",
   "pygments_lexer": "ipython3",
   "version": "3.9.12"
  }
 },
 "nbformat": 4,
 "nbformat_minor": 2
}
