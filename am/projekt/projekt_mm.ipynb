{
 "cells": [
  {
   "cell_type": "markdown",
   "metadata": {},
   "source": [
    "Aufgabe Trainiere ein variational encoder  <br>\n",
    "repektive gan für das Algebra Wort Problem <br>\n",
    "Trainiere Gan für Pdf zu Latex encoder\n"
   ]
  },
  {
   "cell_type": "markdown",
   "metadata": {},
   "source": []
  }
 ],
 "metadata": {
  "language_info": {
   "name": "python"
  }
 },
 "nbformat": 4,
 "nbformat_minor": 2
}
