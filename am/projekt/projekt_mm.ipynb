{
 "cells": [
  {
   "cell_type": "markdown",
   "metadata": {},
   "source": [
    "Aufgabe Trainiere ein variational encoder  <br>\n",
    "repektive gan für das Algebra Wort Problem <br>\n",
    "Trainiere Gan für Pdf zu Latex encoder\n"
   ]
  },
  {
   "cell_type": "code",
   "execution_count": null,
   "metadata": {
    "vscode": {
     "languageId": "plaintext"
    }
   },
   "outputs": [],
   "source": [
    "deciding whether two words w(a, b, c,... ), w'(a, b, c,.. . ) \n",
    "represent the same element of the algebra, i.e. whether w * w' follows from \n",
    "the axioms and the relations r * r'. T"
   ]
  },
  {
   "cell_type": "code",
   "execution_count": null,
   "metadata": {
    "vscode": {
     "languageId": "plaintext"
    }
   },
   "outputs": [],
   "source": []
  },
  {
   "cell_type": "markdown",
   "metadata": {},
   "source": []
  }
 ],
 "metadata": {
  "language_info": {
   "name": "python"
  }
 },
 "nbformat": 4,
 "nbformat_minor": 2
}
