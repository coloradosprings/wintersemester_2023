{
 "cells": [
  {
   "cell_type": "code",
   "execution_count": 1,
   "metadata": {},
   "outputs": [],
   "source": [
    "from sympy import *\n"
   ]
  },
  {
   "cell_type": "markdown",
   "metadata": {},
   "source": [
    "\n",
    "    "
   ]
  },
  {
   "cell_type": "code",
   "execution_count": 2,
   "metadata": {},
   "outputs": [],
   "source": [
    "#calculated solution\n",
    "z = symbols(\"z\",real=True)\n",
    "w,r,O,B = 1,1,1,1\n",
    "A = 1/(-z**2*O**2 + I*r*z*O + w**2)\n",
    "Z = A*E**(I*O*z)\n",
    "solution = factor( re(A)*re(E**(I*O*z)) )"
   ]
  },
  {
   "cell_type": "code",
   "execution_count": 3,
   "metadata": {},
   "outputs": [],
   "source": [
    "NeuralNetwork = 0\n",
    "train_t = 0"
   ]
  },
  {
   "cell_type": "markdown",
   "metadata": {},
   "source": [
    "project applied machine learning,VO Applied machine learning (2023W)"
   ]
  },
  {
   "cell_type": "code",
   "execution_count": 3,
   "metadata": {},
   "outputs": [
    {
     "data": {
      "text/html": [
       "<style>\n",
       "\n",
       ".t{\n",
       "    display:flex;margin:5%;list-style-type:none;justify-content: space-evenly;\n",
       "}\n",
       ".pagebreak {\n",
       "    clear: both;\n",
       "    page-break-after: always;\n",
       "}\n",
       "\n",
       "</style>\n"
      ],
      "text/plain": [
       "<IPython.core.display.HTML object>"
      ]
     },
     "metadata": {},
     "output_type": "display_data"
    }
   ],
   "source": [
    "%%html\n",
    "<style>\n",
    "\n",
    ".t{\n",
    "    display:flex;margin:5%;list-style-type:none;justify-content: space-evenly;\n",
    "}\n",
    ".pagebreak {\n",
    "    clear: both;\n",
    "    page-break-after: always;\n",
    "}\n",
    "\n",
    "</style>"
   ]
  },
  {
   "cell_type": "markdown",
   "metadata": {},
   "source": [
    "<div class=\"pagebreak\"></div>"
   ]
  },
  {
   "cell_type": "markdown",
   "metadata": {},
   "source": [
    "<div class=\"t\"> <li>12031612  </li><li> VO Applied machine learning (2023W)</li></div>\n"
   ]
  },
  {
   "cell_type": "markdown",
   "metadata": {},
   "source": [
    "<hr>"
   ]
  },
  {
   "cell_type": "markdown",
   "metadata": {},
   "source": [
    "<h2 style=\"text-align: center;\">Project : Physics informed neural networks PINNs </h2>"
   ]
  },
  {
   "cell_type": "markdown",
   "metadata": {},
   "source": [
    "<br>\n",
    "<h3>Outline:</h3>\n",
    "<div style=\"    \n",
    "    list-style-type: none; \n",
    "    margin: 15px;\">\n",
    "    <li ><a href='#graphs'>a)What is a PINN</a></li>\n",
    "    <li><a href='#osc'>b)example: harmonic oscilator</a></li>\n",
    "    <div style=\"margin-left: 15px;\" >\n",
    "    <li><a href='#training'>i)training</a></li>\n",
    "    <li> <a href='#CPINN'>ii)CPINN - Competitive PINNS </a></li>\n",
    "    </div>\n",
    "    <li> <a href='#ref'>references </a></li>\n",
    "\n",
    "</div>\n",
    "<br>"
   ]
  },
  {
   "cell_type": "markdown",
   "metadata": {},
   "source": [
    "<h3>a)What is a PINN?</h3>\n",
    "<a id='graphs'></a>"
   ]
  },
  {
   "cell_type": "markdown",
   "metadata": {},
   "source": [
    "\n",
    "We are trying to approximate a particular solution of second order inhomegenous ODE \n",
    "\n",
    "$$\n",
    "m * \\ddot y + c * \\dot y + k * y = g(t),\n",
    "$$\n",
    "with a neural network of the form\n",
    "\n",
    "$$\n",
    "{  L_{i} = \\large \\sigma_{i} \\left({ \\begin{bmatrix}\n",
    "&  &  \\\\\n",
    "& {\\large W_{i}} & \\\\\n",
    "&  &  \\\\\n",
    "\\end{bmatrix} * \n",
    "\\begin{bmatrix}\n",
    "  \\\\\n",
    "{\\large x_{i}}   \\\\\n",
    "  \\\\\n",
    "\\end{bmatrix} +\n",
    "\\begin{bmatrix}\n",
    "  \\\\\n",
    "{\\large b_{i}}   \\\\\n",
    " \\\\\n",
    "\\end{bmatrix} \n",
    " }\\right) }\n",
    "$$\n",
    "<br>\n",
    "$$\n",
    "N(t) =  (L_{1}  \\circ L_{2}  \\circ L_{3} \\circ L_{o}) (t) \n",
    "$$\n",
    "<!--  -->\n",
    "\n",
    "\n",
    "\n"
   ]
  },
  {
   "cell_type": "markdown",
   "metadata": {},
   "source": [
    "where $\\sigma_{i}$ is an yet undetermed activation function. and $L_o \\rightarrow  \\mathbb{R}$ is the output neuron of the form.\n",
    "<br>\n",
    "<br>\n",
    "$$  L_{o} = {\\large \\sigma} \\left( \n",
    "  \\begin{bmatrix}\n",
    " & {\\large w} & \\\\\n",
    "\\end{bmatrix} * \n",
    "\\begin{bmatrix}\n",
    "  \\\\\n",
    "{\\large x}   \\\\\n",
    "  \\\\\n",
    "\\end{bmatrix} +\n",
    " \\lambda \\right)$$\n",
    "\n",
    " \n",
    "\n",
    "Therefore we define a loss function\n",
    "<br>\n",
    "$$\n",
    "\\mathcal{L}(\\mathbf{W}) = \\frac{1}{M}\\sum_{i=1}^M \\underline{ (m * \\ddot {N}(t_i) + c * \\dot {N}(t_i) + k * {N}(t_i) - g(t) ) ^  2 }+ {({N}(0) - y_0) ^ 2 + (\\dot {N}(0) - \\dot y_0) ^ 2}\n",
    "$$\n",
    "Where sceond and third terms are the initial value losses. To minimize the loss function we choose Stochastic Gradient descent algorithm.\n",
    "$$\n",
    "--\n",
    "$$"
   ]
  },
  {
   "cell_type": "markdown",
   "metadata": {},
   "source": [
    "<h3 >b)example: harmonic oscilator</h3>\n",
    "<a id='osc'> </a>\n",
    "<h4>i)training</h4>\n",
    "<a id='tr'> </a>"
   ]
  },
  {
   "cell_type": "markdown",
   "metadata": {},
   "source": [
    "\n",
    "\n",
    "\n",
    "Consider the harmonic oscilator\n",
    "\n",
    "$$\n",
    "\\ddot y + r * \\dot y + \\omega ^2 * y = B * cos(\\Omega * t),\n",
    "$$\n",
    "for simplicity we set all parameters to 1,\n",
    "\n",
    "$$\n",
    "\\ddot y + \\dot y +  y = cos(t),\n",
    "$$\n",
    "and initialize the  $L_i$ ,\n",
    "$$\n",
    "{  L_{i} =  tanh \\left({ \\begin{bmatrix}\n",
    "&  &  \\\\\n",
    "& 32 \\times 32 &\\\\\n",
    "&  &  \\\\\n",
    "\\end{bmatrix} * \n",
    "\\begin{bmatrix}\n",
    "  \\\\\n",
    "{\\large x_{i}}   \\\\\n",
    "  \\\\\n",
    "\\end{bmatrix} +\n",
    "\\begin{bmatrix}\n",
    "  \\\\\n",
    "32   \\\\\n",
    " \\\\\n",
    "\\end{bmatrix} \n",
    " }\\right) }\n",
    " $$\n",
    " <br>\n",
    "with values in [0,1). The calculated solution of the equation is \n",
    "$$\n",
    "y_p(t) = sin(t).\n",
    "$$\n",
    "\n",
    "\n",
    "In Python we can implement the traing loop for example with tensorflow.\n"
   ]
  },
  {
   "cell_type": "code",
   "execution_count": 5,
   "metadata": {},
   "outputs": [],
   "source": [
    "def train(epochs = 300):\n",
    "    trainable_vars = NeuralNetwork.trainable_variables()\n",
    "    optimizer = tf.optimizers.SGD(learning_rate=0.01)\n",
    "    for _ in range(epochs):\n",
    "        with tf.GradientTape(persistent=True) as tape: \n",
    "            loss = loss(train_t,NeuralNetwork,g)\n",
    "        grad = tape.gradient(loss, trainable_vars)\n",
    "        optimizer.apply_gradients(grad, trainable_vars)"
   ]
  },
  {
   "cell_type": "markdown",
   "metadata": {},
   "source": [
    "That is we calculate the gradient with respect to each variable and shift the variable in the direction of the gradient accordingly,"
   ]
  },
  {
   "cell_type": "markdown",
   "metadata": {},
   "source": [
    "plotting the calculated solution and the predicted solution in <i style=\"color:blue\">blue</i> for  values in  [0,2].\n",
    "(the dots are training points)"
   ]
  },
  {
   "cell_type": "markdown",
   "metadata": {},
   "source": [
    "<img src=\"png/output.png\">"
   ]
  },
  {
   "cell_type": "markdown",
   "metadata": {},
   "source": [
    "Calculating the error with respect to the $L_2 $ norm,with trapazoid integral yields"
   ]
  },
  {
   "cell_type": "markdown",
   "metadata": {},
   "source": [
    "$$ || NeuralNetwork(t) - sin(t) ||_{L_2}  =  0.20278955 .$$\n"
   ]
  },
  {
   "cell_type": "markdown",
   "metadata": {},
   "source": [
    "If we plot the loss, we can see its convergening to $ \\approx0.28.$"
   ]
  },
  {
   "cell_type": "markdown",
   "metadata": {},
   "source": [
    "<img src=\"png/loss.png\">"
   ]
  },
  {
   "cell_type": "markdown",
   "metadata": {},
   "source": [
    "$$\n",
    "--\n",
    "$$"
   ]
  },
  {
   "cell_type": "markdown",
   "metadata": {},
   "source": [
    "<h4> ii)CPINN - Competitive PINNS </h4>\n",
    "<a id='CPINN'> </a>"
   ]
  },
  {
   "cell_type": "markdown",
   "metadata": {},
   "source": [
    "We are trying to tackle this further by adding a discriminator neural network $ T(t) $ ,\n",
    "$$ \\mathcal{L}(N,T,t) = \\frac{1}{M}\\sum_{i=1}^M  T(t) * ( \\ddot N(t_i) + \\dot N(t_i) + N(t_i) )^2$$\n",
    "\n",
    " with the according optimization problem,\n",
    "$$ max_T \\phantom,   min_N \\phantom,   \\mathcal{L}(N,T,t). $$"
   ]
  },
  {
   "cell_type": "markdown",
   "metadata": {},
   "source": [
    "We try stochastic gradient descent for T and for N, that is  $  SGD_{learnable variables \\phantom,  L }( - \\mathcal{L}(N,T,t)) $ and $ SGD_{learnable variables\\phantom, NN }( \\mathcal{L}(N,T,t))$ for each iteration."
   ]
  },
  {
   "cell_type": "markdown",
   "metadata": {},
   "source": [
    "Plotting the loss we see it seems to converge to the 'Nash equilibrium'.    $ (T,NN) \\rightarrow (0,y) $  which would be a solution for the equation. \n",
    "This is not expected because trying to apply SGD seperatly just works for specific zero sum optimization problems."
   ]
  },
  {
   "cell_type": "markdown",
   "metadata": {},
   "source": [
    "<img src=\"png/losscpin.png\">"
   ]
  },
  {
   "cell_type": "markdown",
   "metadata": {},
   "source": [
    "the resulting loss plot and $L_2$ norm is now"
   ]
  },
  {
   "cell_type": "markdown",
   "metadata": {},
   "source": [
    "$$ || NeuralNetwork(t) - sin(t) ||_{L_2}  = 0.18570352  $$"
   ]
  },
  {
   "cell_type": "markdown",
   "metadata": {},
   "source": [
    "One has to consider Optimizers for zero sum problems  for example Competitive Gradient Descent or Sympletic Gradient Adjustment."
   ]
  },
  {
   "cell_type": "markdown",
   "metadata": {},
   "source": [
    "<h4 >references</h4>\n",
    "<a id='ref'> </a>"
   ]
  }
 ],
 "metadata": {
  "kernelspec": {
   "display_name": "Python 3",
   "language": "python",
   "name": "python3"
  },
  "language_info": {
   "codemirror_mode": {
    "name": "ipython",
    "version": 3
   },
   "file_extension": ".py",
   "mimetype": "text/x-python",
   "name": "python",
   "nbconvert_exporter": "python",
   "pygments_lexer": "ipython3",
   "version": "3.9.12"
  }
 },
 "nbformat": 4,
 "nbformat_minor": 2
}
